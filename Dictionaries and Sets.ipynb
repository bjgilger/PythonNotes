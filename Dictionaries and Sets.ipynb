{
 "cells": [
  {
   "cell_type": "markdown",
   "id": "ae2f0fbd",
   "metadata": {},
   "source": [
    "# Dictionaries and Sets"
   ]
  },
  {
   "cell_type": "markdown",
   "id": "c18c7b72",
   "metadata": {},
   "source": [
    "Dictionaries and sets are Python data structures which are **not** sequences. The data stored in them cannot be accessed by indexiing.  \n",
    "Dictionaries are collections of key:value pairs. The key is used to get the value. Dictionaries are sometimes called **mappings**.  \n",
    "A set is an unordered collection of *things*. There is no way to retrieve a specific item from a set."
   ]
  },
  {
   "cell_type": "code",
   "execution_count": 1,
   "id": "07a2de5b",
   "metadata": {},
   "outputs": [
    {
     "name": "stdout",
     "output_type": "stream",
     "text": [
      "Ford Fiesta Ghia 1.4\n",
      "Yamaha XV250\n",
      "Kawasaki ER5\n"
     ]
    }
   ],
   "source": [
    "# Dictionaries are defined with curly braces.\n",
    "# The data is a key and a value seperated with a colon\n",
    "\n",
    "vehicles = {\n",
    "    'dream': 'Honda 250T',\n",
    "    'roadster': 'BMW R1100',\n",
    "    'er5': 'Kawasaki ER5',\n",
    "    'can-am': 'Bombardier Can-Am 250',\n",
    "    'virago': 'Yamaha XV250',\n",
    "    'tenere': 'Yamaha XT650',\n",
    "    'jimny': 'Suzuki Jimny 1.5',\n",
    "    'fiesta': 'Ford Fiesta Ghia 1.4',\n",
    "}\n",
    "\n",
    "# values are retrieved using square brackets around the key\n",
    "my_car = vehicles['fiesta']\n",
    "print(my_car)\n",
    "\n",
    "commuter = vehicles['virago']\n",
    "print(commuter)\n",
    "\n",
    "# Data can be retrieved with a .get() function\n",
    "learner = vehicles.get('er5')\n",
    "print(learner)\n",
    "\n"
   ]
  },
  {
   "cell_type": "markdown",
   "id": "b9005346",
   "metadata": {},
   "source": [
    "## Iterating Over a Dictionary"
   ]
  },
  {
   "cell_type": "code",
   "execution_count": 2,
   "id": "e11ebf56",
   "metadata": {},
   "outputs": [
    {
     "name": "stdout",
     "output_type": "stream",
     "text": [
      "dream\n",
      "roadster\n",
      "er5\n",
      "can-am\n",
      "virago\n",
      "tenere\n",
      "jimny\n",
      "fiesta\n"
     ]
    }
   ],
   "source": [
    "for key in vehicles:\n",
    "    print(key)"
   ]
  },
  {
   "cell_type": "code",
   "execution_count": 3,
   "id": "e1ea9e47",
   "metadata": {},
   "outputs": [
    {
     "name": "stdout",
     "output_type": "stream",
     "text": [
      "dream: Honda 250T\n",
      "roadster: BMW R1100\n",
      "er5: Kawasaki ER5\n",
      "can-am: Bombardier Can-Am 250\n",
      "virago: Yamaha XV250\n",
      "tenere: Yamaha XT650\n",
      "jimny: Suzuki Jimny 1.5\n",
      "fiesta: Ford Fiesta Ghia 1.4\n"
     ]
    }
   ],
   "source": [
    "# This works, but it is not efficient, so not Pythonic\n",
    "for key in vehicles:\n",
    "    print(key, vehicles[key], sep=\": \")"
   ]
  },
  {
   "cell_type": "code",
   "execution_count": 4,
   "id": "eca631ba",
   "metadata": {},
   "outputs": [
    {
     "name": "stdout",
     "output_type": "stream",
     "text": [
      "dream: Honda 250T\n",
      "roadster: BMW R1100\n",
      "er5: Kawasaki ER5\n",
      "can-am: Bombardier Can-Am 250\n",
      "virago: Yamaha XV250\n",
      "tenere: Yamaha XT650\n",
      "jimny: Suzuki Jimny 1.5\n",
      "fiesta: Ford Fiesta Ghia 1.4\n"
     ]
    }
   ],
   "source": [
    "# This is the better way\n",
    "for key, value in vehicles.items():\n",
    "    print(f'{key}: {value}', sep=\": \")"
   ]
  },
  {
   "cell_type": "markdown",
   "id": "3ed673d3",
   "metadata": {},
   "source": [
    "**NOTE:** Use *enumerate* to iterate over sequences and *.items()* to iterate over dictionaries"
   ]
  },
  {
   "cell_type": "markdown",
   "id": "c0df766c",
   "metadata": {},
   "source": [
    "## Adding Items to a Dictionary"
   ]
  },
  {
   "cell_type": "markdown",
   "id": "a022ba0e",
   "metadata": {},
   "source": [
    "Dictionaries do not have an append method. A value is assigned to a dictionary using its key.  \n",
    "Dictionaries preserve **insertion order**.  \n",
    "Keys must be unique."
   ]
  },
  {
   "cell_type": "code",
   "execution_count": 6,
   "id": "2507790f",
   "metadata": {},
   "outputs": [
    {
     "name": "stdout",
     "output_type": "stream",
     "text": [
      "dream: Honda 250T\n",
      "roadster: BMW R1100\n",
      "er5: Kawasaki ER5\n",
      "can-am: Bombardier Can-Am 250\n",
      "virago: Yamaha XV250\n",
      "tenere: Yamaha XT650\n",
      "jimny: Suzuki Jimny 1.5\n",
      "fiesta: Ford Fiesta Ghia 1.4\n",
      "starfighter: Lockheed F-104\n",
      "toy: glider\n"
     ]
    }
   ],
   "source": [
    "vehicles[\"starfighter\"] = \"Lockheed F-104\"\n",
    "vehicles[\"toy\"] = \"glider\"\n",
    "for key, value in vehicles.items():\n",
    "    print(f'{key}: {value}', sep=\": \")"
   ]
  },
  {
   "cell_type": "markdown",
   "id": "7e1b5734",
   "metadata": {},
   "source": [
    "## Changing Values in a Dictionary"
   ]
  },
  {
   "cell_type": "code",
   "execution_count": 7,
   "id": "023d1fff",
   "metadata": {},
   "outputs": [
    {
     "name": "stdout",
     "output_type": "stream",
     "text": [
      "dream: Honda 250T\n",
      "roadster: BMW R1100\n",
      "er5: Kawasaki ER5\n",
      "can-am: Bombardier Can-Am 250\n",
      "virago: Yamaha XV535\n",
      "tenere: Yamaha XT650\n",
      "jimny: Suzuki Jimny 1.5\n",
      "fiesta: Ford Fiesta Ghia 1.4\n",
      "starfighter: Lockheed F-104\n",
      "toy: glider\n"
     ]
    }
   ],
   "source": [
    "# Updating data values already in dictionary\n",
    "vehicles[\"virago\"] = \"Yamaha XV535\"\n",
    "for key, value in vehicles.items():\n",
    "    print(f'{key}: {value}', sep=\": \")"
   ]
  },
  {
   "cell_type": "markdown",
   "id": "460f2d0f",
   "metadata": {},
   "source": [
    "## Removing Items From a Dictionary"
   ]
  },
  {
   "cell_type": "markdown",
   "id": "78d0f21d",
   "metadata": {},
   "source": [
    "Items are removed from a dictionary by deleting their **key** using the **del** command.  \n",
    "Alternatively, the **.pop()** method can be used. Adding a default value will prevent crashing."
   ]
  },
  {
   "cell_type": "code",
   "execution_count": 11,
   "id": "483a868e",
   "metadata": {},
   "outputs": [
    {
     "name": "stdout",
     "output_type": "stream",
     "text": [
      "dream: Honda 250T\n",
      "roadster: BMW R1100\n",
      "er5: Kawasaki ER5\n",
      "can-am: Bombardier Can-Am 250\n",
      "virago: Yamaha XV535\n",
      "tenere: Yamaha XT650\n",
      "jimny: Suzuki Jimny 1.5\n",
      "fiesta: Ford Fiesta Ghia 1.4\n",
      "toy: glider\n"
     ]
    }
   ],
   "source": [
    "del vehicles[\"starfighter\"]\n",
    "vehicles.pop(\"f1\", None)\n",
    "for key, value in vehicles.items():\n",
    "    print(f'{key}: {value}', sep=\": \")"
   ]
  },
  {
   "cell_type": "markdown",
   "id": "4ad38bb6",
   "metadata": {},
   "source": [
    "## Using *in* With a Dictionary"
   ]
  },
  {
   "cell_type": "markdown",
   "id": "d61d6829",
   "metadata": {},
   "source": [
    "When you use **in** with a list, it returns *True* if the item is in the list.  \n",
    "When you use **in** with a dictionary, it returns *True* if the item is a **key** in the dictionary. It does not look at **values**."
   ]
  },
  {
   "cell_type": "code",
   "execution_count": 12,
   "id": "15f8c281",
   "metadata": {},
   "outputs": [
    {
     "name": "stdout",
     "output_type": "stream",
     "text": [
      "1: computer\n",
      "2: monitor\n",
      "3: keyboard\n",
      "4: mouse\n",
      "5: hdmi cable\n",
      "6: dvd drive\n",
      "0: To finish.\n",
      "> 0\n"
     ]
    }
   ],
   "source": [
    "available_parts = {\"1\": \"computer\",\n",
    "                   \"2\": \"monitor\",\n",
    "                   \"3\": \"keyboard\",\n",
    "                   \"4\": \"mouse\",\n",
    "                   \"5\": \"hdmi cable\",\n",
    "                   \"6\": \"dvd drive\",\n",
    "                   }\n",
    "\n",
    "current_choice = None\n",
    "computer_parts = []\n",
    "\n",
    "while current_choice != \"0\":\n",
    "    if current_choice in available_parts:\n",
    "        chosen_part = available_parts[current_choice]\n",
    "        if chosen_part in computer_parts:\n",
    "            print(f\"Removing {chosen_part}\")\n",
    "            computer_parts.remove(chosen_part)\n",
    "        else:\n",
    "            print(f\"Adding {chosen_part}\")\n",
    "            computer_parts.append(chosen_part)\n",
    "        print(f\"Your list now contains: {computer_parts}\")\n",
    "    else:\n",
    "        for key, value in available_parts.items():\n",
    "            print(f\"{key}: {value}\")\n",
    "        print(\"0: To finish.\")\n",
    "\n",
    "    current_choice = input(\"> \")\n",
    "\n"
   ]
  },
  {
   "cell_type": "markdown",
   "id": "e90dc923",
   "metadata": {},
   "source": [
    "## Adding Items to a Dictionary"
   ]
  },
  {
   "cell_type": "code",
   "execution_count": 1,
   "id": "a86e8e93",
   "metadata": {},
   "outputs": [
    {
     "name": "stdout",
     "output_type": "stream",
     "text": [
      "Please add options from the lst.\n",
      "1: computer\n",
      "2: monitor\n",
      "3: keyboard\n",
      "4: mouse\n",
      "5: hdmi cable\n",
      "6: dvd drive\n",
      "0: To finish.\n",
      "> 0\n"
     ]
    }
   ],
   "source": [
    "# Adding items to a new dictionary\n",
    "available_parts = {\"1\": \"computer\",\n",
    "                   \"2\": \"monitor\",\n",
    "                   \"3\": \"keyboard\",\n",
    "                   \"4\": \"mouse\",\n",
    "                   \"5\": \"hdmi cable\",\n",
    "                   \"6\": \"dvd drive\",\n",
    "                   }\n",
    "\n",
    "current_choice = None\n",
    "computer_parts = {}     # Create an empty dictionary\n",
    "\n",
    "while current_choice != \"0\":\n",
    "    if current_choice in available_parts:\n",
    "        chosen_part = available_parts[current_choice]\n",
    "        if current_choice in computer_parts:\n",
    "            print(f\"Removing {chosen_part}\")\n",
    "            computer_parts.pop(current_choice)\n",
    "        else:\n",
    "            print(f\"Adding {chosen_part}\")\n",
    "            computer_parts[current_choice] = chosen_part\n",
    "        print(f\"Your dictionary now contains: {computer_parts}\")\n",
    "    else:\n",
    "        print(\"Please add options from the lst.\")\n",
    "        for key, value in available_parts.items():\n",
    "            print(f\"{key}: {value}\")\n",
    "        print(\"0: To finish.\")\n",
    "\n",
    "    current_choice = input(\"> \")\n",
    "\n"
   ]
  },
  {
   "cell_type": "markdown",
   "id": "51f17d3d",
   "metadata": {},
   "source": [
    "### Example: Smart Fridge "
   ]
  },
  {
   "cell_type": "code",
   "execution_count": 4,
   "id": "c4b1b7f1",
   "metadata": {},
   "outputs": [],
   "source": [
    "# contents file\n",
    "\n",
    "pantry = {\n",
    "    \"chicken\": 500,\n",
    "    \"lemon\": 2,\n",
    "    \"cumin\": 24,\n",
    "    \"paprika\": 18,\n",
    "    \"chili powder\": 7,\n",
    "    \"yogurt\": 300,\n",
    "    \"oil\": 450,\n",
    "    \"onion\": 5,\n",
    "    \"garlic\": 9,\n",
    "    \"ginger\": 2,\n",
    "    \"tomato puree\": 125,\n",
    "    \"almonds\": 75,\n",
    "    \"rice\": 500,\n",
    "    \"coriander\": 20,\n",
    "    \"lime\": 3,\n",
    "    \"pepper\": 8,\n",
    "    \"egg\": 6,\n",
    "    \"pizza\": 2,\n",
    "    \"spam\": 1,\n",
    "}\n",
    "\n",
    "recipes = {\n",
    "    \"Butter chicken\": {\n",
    "        \"chicken\": 750,\n",
    "        \"lemon\": 1,\n",
    "        \"cumin\": 1,\n",
    "        \"paprika\": 1,\n",
    "        \"chili powder\": 2,\n",
    "        \"yogurt\": 250,\n",
    "        \"oil\": 50,\n",
    "        \"onion\": 1,\n",
    "        \"garlic\": 2,\n",
    "        \"ginger\": 3,\n",
    "        \"tomato puree\": 240,\n",
    "        \"almonds\": 25,\n",
    "        \"rice\": 360,\n",
    "        \"coriander\": 1,\n",
    "        \"lime\": 1,\n",
    "    },\n",
    "    \"Chicken and chips\": {\n",
    "        \"chicken\": 100,\n",
    "        \"potatoes\": 3,\n",
    "        \"salt\": 1,\n",
    "        \"malt vinegar\": 5,\n",
    "    },\n",
    "    \"Pizza\": {\n",
    "        \"pizza\": 1,\n",
    "    },\n",
    "    \"Egg sandwich\": {\n",
    "        \"egg\": 2,\n",
    "        \"bread\": 80,\n",
    "        \"butter\": 10,\n",
    "    },\n",
    "    \"Beans on toast\": {\n",
    "        \"beans\": 1,\n",
    "        \"bread\": 40,\n",
    "    },\n",
    "    \"Spam a la tin\": {\n",
    "        \"spam\": 1,\n",
    "        \"tin opener\": 1,\n",
    "        \"spoon\": 1,\n",
    "    },\n",
    "}\n"
   ]
  },
  {
   "cell_type": "code",
   "execution_count": 5,
   "id": "e20ffd8a",
   "metadata": {},
   "outputs": [
    {
     "ename": "ModuleNotFoundError",
     "evalue": "No module named 'contents'",
     "output_type": "error",
     "traceback": [
      "\u001b[1;31m---------------------------------------------------------------------------\u001b[0m",
      "\u001b[1;31mModuleNotFoundError\u001b[0m                       Traceback (most recent call last)",
      "Cell \u001b[1;32mIn[5], line 3\u001b[0m\n\u001b[0;32m      1\u001b[0m \u001b[38;5;66;03m# An example of an inventory control application\u001b[39;00m\n\u001b[1;32m----> 3\u001b[0m \u001b[38;5;28;01mfrom\u001b[39;00m \u001b[38;5;21;01mcontents\u001b[39;00m \u001b[38;5;28;01mimport\u001b[39;00m pantry\n\u001b[0;32m      5\u001b[0m chicken_quantity \u001b[38;5;241m=\u001b[39m pantry\u001b[38;5;241m.\u001b[39msetdefault(\u001b[38;5;124m\"\u001b[39m\u001b[38;5;124mchicken\u001b[39m\u001b[38;5;124m\"\u001b[39m, \u001b[38;5;241m0\u001b[39m)\n\u001b[0;32m      6\u001b[0m \u001b[38;5;28mprint\u001b[39m(\u001b[38;5;124mf\u001b[39m\u001b[38;5;124m\"\u001b[39m\u001b[38;5;124mChicken: \u001b[39m\u001b[38;5;132;01m{\u001b[39;00mchicken_quantity\u001b[38;5;132;01m}\u001b[39;00m\u001b[38;5;124m\"\u001b[39m)\n",
      "\u001b[1;31mModuleNotFoundError\u001b[0m: No module named 'contents'"
     ]
    }
   ],
   "source": [
    "# An example of an inventory control application\n",
    "\n",
    "from contents import pantry\n",
    "\n",
    "chicken_quantity = pantry.setdefault(\"chicken\", 0)\n",
    "print(f\"Chicken: {chicken_quantity}\")\n",
    "\n",
    "# setdefault() adds an item as a key to the dictionary if it not already there\n",
    "beans_quantity = pantry.setdefault(\"beans\", 0)\n",
    "print(f\"Beans: {beans_quantity}\")\n",
    "\n",
    "# get() does not add an item to the dictionary if not already there\n",
    "ketchup_quantity = pantry.get(\"ketchup\", 0)\n",
    "print(f\"Ketchup: {ketchup_quantity}\")\n",
    "\n",
    "print()\n",
    "\n",
    "print(\"`pantry` now contains...\")\n",
    "\n",
    "for key, value in sorted(pantry.items()):\n",
    "    print(f\"{key}: {value}\")"
   ]
  },
  {
   "cell_type": "code",
   "execution_count": null,
   "id": "7e1428b9",
   "metadata": {},
   "outputs": [],
   "source": []
  }
 ],
 "metadata": {
  "kernelspec": {
   "display_name": "Python 3 (ipykernel)",
   "language": "python",
   "name": "python3"
  },
  "language_info": {
   "codemirror_mode": {
    "name": "ipython",
    "version": 3
   },
   "file_extension": ".py",
   "mimetype": "text/x-python",
   "name": "python",
   "nbconvert_exporter": "python",
   "pygments_lexer": "ipython3",
   "version": "3.11.5"
  }
 },
 "nbformat": 4,
 "nbformat_minor": 5
}
