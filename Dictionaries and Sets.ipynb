{
 "cells": [
  {
   "cell_type": "markdown",
   "id": "ae2f0fbd",
   "metadata": {},
   "source": [
    "# Dictionaries and Sets"
   ]
  },
  {
   "cell_type": "markdown",
   "id": "c18c7b72",
   "metadata": {},
   "source": [
    "Dictionaries and sets are Python data structures which are **not** sequences. The data stored in them cannot be accessed by indexiing.  \n",
    "Dictionaries are collections of key:value pairs. The key is used to get the value. Dictionaries are sometimes called **mappings**.  \n",
    "A set is an unordered collection of *things*. There is no way to retrieve a specific item from a set."
   ]
  },
  {
   "cell_type": "code",
   "execution_count": 1,
   "id": "07a2de5b",
   "metadata": {},
   "outputs": [
    {
     "name": "stdout",
     "output_type": "stream",
     "text": [
      "Ford Fiesta Ghia 1.4\n",
      "Yamaha XV250\n",
      "Kawasaki ER5\n"
     ]
    }
   ],
   "source": [
    "# Dictionaries are defined with curly braces.\n",
    "# The data is a key and a value seperated with a colon\n",
    "\n",
    "vehicles = {\n",
    "    'dream': 'Honda 250T',\n",
    "    'roadster': 'BMW R1100',\n",
    "    'er5': 'Kawasaki ER5',\n",
    "    'can-am': 'Bombardier Can-Am 250',\n",
    "    'virago': 'Yamaha XV250',\n",
    "    'tenere': 'Yamaha XT650',\n",
    "    'jimny': 'Suzuki Jimny 1.5',\n",
    "    'fiesta': 'Ford Fiesta Ghia 1.4',\n",
    "}\n",
    "\n",
    "# values are retrieved using square brackets around the key\n",
    "my_car = vehicles['fiesta']\n",
    "print(my_car)\n",
    "\n",
    "commuter = vehicles['virago']\n",
    "print(commuter)\n",
    "\n",
    "# Data can be retrieved with a .get() function\n",
    "learner = vehicles.get('er5')\n",
    "print(learner)\n",
    "\n"
   ]
  },
  {
   "cell_type": "markdown",
   "id": "b9005346",
   "metadata": {},
   "source": [
    "## Iterating Over a Dictionary"
   ]
  },
  {
   "cell_type": "code",
   "execution_count": 2,
   "id": "e11ebf56",
   "metadata": {},
   "outputs": [
    {
     "name": "stdout",
     "output_type": "stream",
     "text": [
      "dream\n",
      "roadster\n",
      "er5\n",
      "can-am\n",
      "virago\n",
      "tenere\n",
      "jimny\n",
      "fiesta\n"
     ]
    }
   ],
   "source": [
    "for key in vehicles:\n",
    "    print(key)"
   ]
  },
  {
   "cell_type": "code",
   "execution_count": 3,
   "id": "e1ea9e47",
   "metadata": {},
   "outputs": [
    {
     "name": "stdout",
     "output_type": "stream",
     "text": [
      "dream: Honda 250T\n",
      "roadster: BMW R1100\n",
      "er5: Kawasaki ER5\n",
      "can-am: Bombardier Can-Am 250\n",
      "virago: Yamaha XV250\n",
      "tenere: Yamaha XT650\n",
      "jimny: Suzuki Jimny 1.5\n",
      "fiesta: Ford Fiesta Ghia 1.4\n"
     ]
    }
   ],
   "source": [
    "# This works, but it is not efficient, so not Pythonic\n",
    "for key in vehicles:\n",
    "    print(key, vehicles[key], sep=\": \")"
   ]
  },
  {
   "cell_type": "code",
   "execution_count": 4,
   "id": "eca631ba",
   "metadata": {},
   "outputs": [
    {
     "name": "stdout",
     "output_type": "stream",
     "text": [
      "dream: Honda 250T\n",
      "roadster: BMW R1100\n",
      "er5: Kawasaki ER5\n",
      "can-am: Bombardier Can-Am 250\n",
      "virago: Yamaha XV250\n",
      "tenere: Yamaha XT650\n",
      "jimny: Suzuki Jimny 1.5\n",
      "fiesta: Ford Fiesta Ghia 1.4\n"
     ]
    }
   ],
   "source": [
    "# This is the better way\n",
    "for key, value in vehicles.items():\n",
    "    print(f'{key}: {value}', sep=\": \")"
   ]
  },
  {
   "cell_type": "markdown",
   "id": "3ed673d3",
   "metadata": {},
   "source": [
    "**NOTE:** Use *enumerate* to iterate over sequences and *.items()* to iterate over dictionaries"
   ]
  },
  {
   "cell_type": "markdown",
   "id": "c0df766c",
   "metadata": {},
   "source": [
    "## Adding Items to a Dictionary"
   ]
  },
  {
   "cell_type": "markdown",
   "id": "a022ba0e",
   "metadata": {},
   "source": [
    "Dictionaries do not have an append method. A value is assigned to a dictionary using its key.  \n",
    "Dictionaries preserve **insertion order**.  \n",
    "Keys must be unique."
   ]
  },
  {
   "cell_type": "code",
   "execution_count": 6,
   "id": "2507790f",
   "metadata": {},
   "outputs": [
    {
     "name": "stdout",
     "output_type": "stream",
     "text": [
      "dream: Honda 250T\n",
      "roadster: BMW R1100\n",
      "er5: Kawasaki ER5\n",
      "can-am: Bombardier Can-Am 250\n",
      "virago: Yamaha XV250\n",
      "tenere: Yamaha XT650\n",
      "jimny: Suzuki Jimny 1.5\n",
      "fiesta: Ford Fiesta Ghia 1.4\n",
      "starfighter: Lockheed F-104\n",
      "toy: glider\n"
     ]
    }
   ],
   "source": [
    "vehicles[\"starfighter\"] = \"Lockheed F-104\"\n",
    "vehicles[\"toy\"] = \"glider\"\n",
    "for key, value in vehicles.items():\n",
    "    print(f'{key}: {value}', sep=\": \")"
   ]
  },
  {
   "cell_type": "markdown",
   "id": "7e1b5734",
   "metadata": {},
   "source": [
    "## Changing Values in a Dictionary"
   ]
  },
  {
   "cell_type": "code",
   "execution_count": 7,
   "id": "023d1fff",
   "metadata": {},
   "outputs": [
    {
     "name": "stdout",
     "output_type": "stream",
     "text": [
      "dream: Honda 250T\n",
      "roadster: BMW R1100\n",
      "er5: Kawasaki ER5\n",
      "can-am: Bombardier Can-Am 250\n",
      "virago: Yamaha XV535\n",
      "tenere: Yamaha XT650\n",
      "jimny: Suzuki Jimny 1.5\n",
      "fiesta: Ford Fiesta Ghia 1.4\n",
      "starfighter: Lockheed F-104\n",
      "toy: glider\n"
     ]
    }
   ],
   "source": [
    "# Updating data values already in dictionary\n",
    "vehicles[\"virago\"] = \"Yamaha XV535\"\n",
    "for key, value in vehicles.items():\n",
    "    print(f'{key}: {value}', sep=\": \")"
   ]
  },
  {
   "cell_type": "markdown",
   "id": "460f2d0f",
   "metadata": {},
   "source": [
    "## Removing Items From a Dictionary"
   ]
  },
  {
   "cell_type": "markdown",
   "id": "78d0f21d",
   "metadata": {},
   "source": [
    "Items are removed from a dictionary by deleting their **key** using the **del** command.  \n",
    "Alternatively, the **.pop()** method can be used. Adding a default value will prevent crashing."
   ]
  },
  {
   "cell_type": "code",
   "execution_count": 11,
   "id": "483a868e",
   "metadata": {},
   "outputs": [
    {
     "name": "stdout",
     "output_type": "stream",
     "text": [
      "dream: Honda 250T\n",
      "roadster: BMW R1100\n",
      "er5: Kawasaki ER5\n",
      "can-am: Bombardier Can-Am 250\n",
      "virago: Yamaha XV535\n",
      "tenere: Yamaha XT650\n",
      "jimny: Suzuki Jimny 1.5\n",
      "fiesta: Ford Fiesta Ghia 1.4\n",
      "toy: glider\n"
     ]
    }
   ],
   "source": [
    "del vehicles[\"starfighter\"]\n",
    "vehicles.pop(\"f1\", None)\n",
    "for key, value in vehicles.items():\n",
    "    print(f'{key}: {value}', sep=\": \")"
   ]
  },
  {
   "cell_type": "markdown",
   "id": "4ad38bb6",
   "metadata": {},
   "source": [
    "## Using *in* With a Dictionary"
   ]
  },
  {
   "cell_type": "markdown",
   "id": "d61d6829",
   "metadata": {},
   "source": [
    "When you use **in** with a list, it returns *True* if the item is in the list.  \n",
    "When you use **in** with a dictionary, it returns *True* if the item is a **key** in the dictionary. It does not look at **values**."
   ]
  },
  {
   "cell_type": "code",
   "execution_count": 12,
   "id": "15f8c281",
   "metadata": {},
   "outputs": [
    {
     "name": "stdout",
     "output_type": "stream",
     "text": [
      "1: computer\n",
      "2: monitor\n",
      "3: keyboard\n",
      "4: mouse\n",
      "5: hdmi cable\n",
      "6: dvd drive\n",
      "0: To finish.\n",
      "> 0\n"
     ]
    }
   ],
   "source": [
    "available_parts = {\"1\": \"computer\",\n",
    "                   \"2\": \"monitor\",\n",
    "                   \"3\": \"keyboard\",\n",
    "                   \"4\": \"mouse\",\n",
    "                   \"5\": \"hdmi cable\",\n",
    "                   \"6\": \"dvd drive\",\n",
    "                   }\n",
    "\n",
    "current_choice = None\n",
    "computer_parts = []\n",
    "\n",
    "while current_choice != \"0\":\n",
    "    if current_choice in available_parts:\n",
    "        chosen_part = available_parts[current_choice]\n",
    "        if chosen_part in computer_parts:\n",
    "            print(f\"Removing {chosen_part}\")\n",
    "            computer_parts.remove(chosen_part)\n",
    "        else:\n",
    "            print(f\"Adding {chosen_part}\")\n",
    "            computer_parts.append(chosen_part)\n",
    "        print(f\"Your list now contains: {computer_parts}\")\n",
    "    else:\n",
    "        for key, value in available_parts.items():\n",
    "            print(f\"{key}: {value}\")\n",
    "        print(\"0: To finish.\")\n",
    "\n",
    "    current_choice = input(\"> \")\n",
    "\n"
   ]
  },
  {
   "cell_type": "markdown",
   "id": "e90dc923",
   "metadata": {},
   "source": [
    "## Adding Items to a Dictionary"
   ]
  },
  {
   "cell_type": "code",
   "execution_count": 1,
   "id": "a86e8e93",
   "metadata": {},
   "outputs": [
    {
     "name": "stdout",
     "output_type": "stream",
     "text": [
      "Please add options from the lst.\n",
      "1: computer\n",
      "2: monitor\n",
      "3: keyboard\n",
      "4: mouse\n",
      "5: hdmi cable\n",
      "6: dvd drive\n",
      "0: To finish.\n",
      "> 0\n"
     ]
    }
   ],
   "source": [
    "# Adding items to a new dictionary\n",
    "available_parts = {\"1\": \"computer\",\n",
    "                   \"2\": \"monitor\",\n",
    "                   \"3\": \"keyboard\",\n",
    "                   \"4\": \"mouse\",\n",
    "                   \"5\": \"hdmi cable\",\n",
    "                   \"6\": \"dvd drive\",\n",
    "                   }\n",
    "\n",
    "current_choice = None\n",
    "computer_parts = {}     # Create an empty dictionary\n",
    "\n",
    "while current_choice != \"0\":\n",
    "    if current_choice in available_parts:\n",
    "        chosen_part = available_parts[current_choice]\n",
    "        if current_choice in computer_parts:\n",
    "            print(f\"Removing {chosen_part}\")\n",
    "            computer_parts.pop(current_choice)\n",
    "        else:\n",
    "            print(f\"Adding {chosen_part}\")\n",
    "            computer_parts[current_choice] = chosen_part\n",
    "        print(f\"Your dictionary now contains: {computer_parts}\")\n",
    "    else:\n",
    "        print(\"Please add options from the lst.\")\n",
    "        for key, value in available_parts.items():\n",
    "            print(f\"{key}: {value}\")\n",
    "        print(\"0: To finish.\")\n",
    "\n",
    "    current_choice = input(\"> \")\n",
    "\n"
   ]
  },
  {
   "cell_type": "markdown",
   "id": "51f17d3d",
   "metadata": {},
   "source": [
    "### Example: Smart Fridge "
   ]
  },
  {
   "cell_type": "code",
   "execution_count": 4,
   "id": "e320ef0f",
   "metadata": {},
   "outputs": [],
   "source": [
    "# contents file\n",
    "\n",
    "pantry = {\n",
    "    \"chicken\": 500,\n",
    "    \"lemon\": 2,\n",
    "    \"cumin\": 24,\n",
    "    \"paprika\": 18,\n",
    "    \"chili powder\": 7,\n",
    "    \"yogurt\": 300,\n",
    "    \"oil\": 450,\n",
    "    \"onion\": 5,\n",
    "    \"garlic\": 9,\n",
    "    \"ginger\": 2,\n",
    "    \"tomato puree\": 125,\n",
    "    \"almonds\": 75,\n",
    "    \"rice\": 500,\n",
    "    \"coriander\": 20,\n",
    "    \"lime\": 3,\n",
    "    \"pepper\": 8,\n",
    "    \"egg\": 6,\n",
    "    \"pizza\": 2,\n",
    "    \"spam\": 1,\n",
    "}\n",
    "\n",
    "recipes = {\n",
    "    \"Butter chicken\": {\n",
    "        \"chicken\": 750,\n",
    "        \"lemon\": 1,\n",
    "        \"cumin\": 1,\n",
    "        \"paprika\": 1,\n",
    "        \"chili powder\": 2,\n",
    "        \"yogurt\": 250,\n",
    "        \"oil\": 50,\n",
    "        \"onion\": 1,\n",
    "        \"garlic\": 2,\n",
    "        \"ginger\": 3,\n",
    "        \"tomato puree\": 240,\n",
    "        \"almonds\": 25,\n",
    "        \"rice\": 360,\n",
    "        \"coriander\": 1,\n",
    "        \"lime\": 1,\n",
    "    },\n",
    "    \"Chicken and chips\": {\n",
    "        \"chicken\": 100,\n",
    "        \"potatoes\": 3,\n",
    "        \"salt\": 1,\n",
    "        \"malt vinegar\": 5,\n",
    "    },\n",
    "    \"Pizza\": {\n",
    "        \"pizza\": 1,\n",
    "    },\n",
    "    \"Egg sandwich\": {\n",
    "        \"egg\": 2,\n",
    "        \"bread\": 80,\n",
    "        \"butter\": 10,\n",
    "    },\n",
    "    \"Beans on toast\": {\n",
    "        \"beans\": 1,\n",
    "        \"bread\": 40,\n",
    "    },\n",
    "    \"Spam a la tin\": {\n",
    "        \"spam\": 1,\n",
    "        \"tin opener\": 1,\n",
    "        \"spoon\": 1,\n",
    "    },\n",
    "}\n"
   ]
  },
  {
   "cell_type": "code",
   "execution_count": 5,
   "id": "e20ffd8a",
   "metadata": {},
   "outputs": [
    {
     "ename": "ModuleNotFoundError",
     "evalue": "No module named 'contents'",
     "output_type": "error",
     "traceback": [
      "\u001b[1;31m---------------------------------------------------------------------------\u001b[0m",
      "\u001b[1;31mModuleNotFoundError\u001b[0m                       Traceback (most recent call last)",
      "Cell \u001b[1;32mIn[5], line 3\u001b[0m\n\u001b[0;32m      1\u001b[0m \u001b[38;5;66;03m# An example of an inventory control application\u001b[39;00m\n\u001b[1;32m----> 3\u001b[0m \u001b[38;5;28;01mfrom\u001b[39;00m \u001b[38;5;21;01mcontents\u001b[39;00m \u001b[38;5;28;01mimport\u001b[39;00m pantry\n\u001b[0;32m      5\u001b[0m chicken_quantity \u001b[38;5;241m=\u001b[39m pantry\u001b[38;5;241m.\u001b[39msetdefault(\u001b[38;5;124m\"\u001b[39m\u001b[38;5;124mchicken\u001b[39m\u001b[38;5;124m\"\u001b[39m, \u001b[38;5;241m0\u001b[39m)\n\u001b[0;32m      6\u001b[0m \u001b[38;5;28mprint\u001b[39m(\u001b[38;5;124mf\u001b[39m\u001b[38;5;124m\"\u001b[39m\u001b[38;5;124mChicken: \u001b[39m\u001b[38;5;132;01m{\u001b[39;00mchicken_quantity\u001b[38;5;132;01m}\u001b[39;00m\u001b[38;5;124m\"\u001b[39m)\n",
      "\u001b[1;31mModuleNotFoundError\u001b[0m: No module named 'contents'"
     ]
    }
   ],
   "source": [
    "# An example of an inventory control application\n",
    "\n",
    "from contents import pantry\n",
    "\n",
    "chicken_quantity = pantry.setdefault(\"chicken\", 0)\n",
    "print(f\"Chicken: {chicken_quantity}\")\n",
    "\n",
    "# setdefault() adds an item as a key to the dictionary if it not already there\n",
    "beans_quantity = pantry.setdefault(\"beans\", 0)\n",
    "print(f\"Beans: {beans_quantity}\")\n",
    "\n",
    "# get() does not add an item to the dictionary if not already there\n",
    "ketchup_quantity = pantry.get(\"ketchup\", 0)\n",
    "print(f\"Ketchup: {ketchup_quantity}\")\n",
    "\n",
    "print()\n",
    "\n",
    "print(\"`pantry` now contains...\")\n",
    "\n",
    "for key, value in sorted(pantry.items()):\n",
    "    print(f\"{key}: {value}\")"
   ]
  },
  {
   "cell_type": "markdown",
   "id": "8491c074",
   "metadata": {},
   "source": [
    "### Dictionary Methods"
   ]
  },
  {
   "cell_type": "code",
   "execution_count": 6,
   "id": "90cccc9d",
   "metadata": {},
   "outputs": [],
   "source": [
    "d = {\n",
    "    0: \"zero\",\n",
    "    1: \"one\",\n",
    "    2: \"two\",\n",
    "    3: \"three\",\n",
    "    4: \"four\",\n",
    "    5: \"five\",\n",
    "    6: \"six\",\n",
    "    7: \"seven\",\n",
    "    8: \"eight\",\n",
    "    9: \"nine\",\n",
    "}\n",
    "\n",
    "pantry_items = ['chicken', 'spam', 'egg', 'bread', 'lemon']"
   ]
  },
  {
   "cell_type": "code",
   "execution_count": 7,
   "id": "0cf86ea6",
   "metadata": {},
   "outputs": [
    {
     "name": "stdout",
     "output_type": "stream",
     "text": [
      "{'chicken': 0, 'spam': 0, 'egg': 0, 'bread': 0, 'lemon': 0}\n"
     ]
    }
   ],
   "source": [
    "new_dict = dict.fromkeys(pantry_items, 0)\n",
    "print(new_dict)"
   ]
  },
  {
   "cell_type": "code",
   "execution_count": 8,
   "id": "56c4a868",
   "metadata": {},
   "outputs": [
    {
     "name": "stdout",
     "output_type": "stream",
     "text": [
      "dict_keys([0, 1, 2, 3, 4, 5, 6, 7, 8, 9])\n"
     ]
    }
   ],
   "source": [
    "keys = d.keys()\n",
    "print(keys)"
   ]
  },
  {
   "cell_type": "code",
   "execution_count": 9,
   "id": "50bc8c53",
   "metadata": {},
   "outputs": [
    {
     "name": "stdout",
     "output_type": "stream",
     "text": [
      "0\n",
      "1\n",
      "2\n",
      "3\n",
      "4\n",
      "5\n",
      "6\n",
      "7\n",
      "8\n",
      "9\n"
     ]
    }
   ],
   "source": [
    "for item in d:\n",
    "    print(item)"
   ]
  },
  {
   "cell_type": "code",
   "execution_count": 11,
   "id": "9f0966d8",
   "metadata": {},
   "outputs": [
    {
     "name": "stdout",
     "output_type": "stream",
     "text": [
      "0\n",
      "1\n",
      "2\n",
      "3\n",
      "4\n",
      "5\n",
      "6\n",
      "7\n",
      "8\n",
      "9\n"
     ]
    }
   ],
   "source": [
    "for item in d.keys():\n",
    "    print(item)"
   ]
  },
  {
   "cell_type": "code",
   "execution_count": 12,
   "id": "302b9d86",
   "metadata": {},
   "outputs": [],
   "source": [
    "d2 = {\n",
    "    7: \"lucky seven\",\n",
    "    10: \"ten\",\n",
    "    3: \"This is the new three\"\n",
    "    }"
   ]
  },
  {
   "cell_type": "code",
   "execution_count": 13,
   "id": "bdd4140d",
   "metadata": {},
   "outputs": [
    {
     "name": "stdout",
     "output_type": "stream",
     "text": [
      "0 zero\n",
      "1 one\n",
      "2 two\n",
      "3 This is the new three\n",
      "4 four\n",
      "5 five\n",
      "6 six\n",
      "7 lucky seven\n",
      "8 eight\n",
      "9 nine\n",
      "10 ten\n"
     ]
    }
   ],
   "source": [
    "# Code for the dict.update() method\n",
    "d.update(d2)\n",
    "for key, value in d.items():\n",
    "    print(key, value)"
   ]
  },
  {
   "cell_type": "code",
   "execution_count": 14,
   "id": "edd52d3b",
   "metadata": {},
   "outputs": [
    {
     "name": "stdout",
     "output_type": "stream",
     "text": [
      "0 chicken\n",
      "1 spam\n",
      "2 egg\n",
      "3 bread\n",
      "4 lemon\n",
      "5 five\n",
      "6 six\n",
      "7 lucky seven\n",
      "8 eight\n",
      "9 nine\n",
      "10 ten\n"
     ]
    }
   ],
   "source": [
    "d.update(enumerate(pantry_items))\n",
    "for key, value in d.items():\n",
    "    print(key, value)"
   ]
  },
  {
   "cell_type": "code",
   "execution_count": 15,
   "id": "279948a1",
   "metadata": {},
   "outputs": [
    {
     "name": "stdout",
     "output_type": "stream",
     "text": [
      "dict_values(['chicken', 'spam', 'egg', 'bread', 'lemon', 'five', 'six', 'lucky seven', 'eight', 'nine', 'ten'])\n"
     ]
    }
   ],
   "source": [
    "# Dict `values` method\n",
    "v = d.values()\n",
    "print(v)"
   ]
  },
  {
   "cell_type": "code",
   "execution_count": 18,
   "id": "92ed4ca1",
   "metadata": {},
   "outputs": [
    {
     "name": "stdout",
     "output_type": "stream",
     "text": [
      "True\n",
      "False\n"
     ]
    }
   ],
   "source": [
    "print(\"five\" in v)\n",
    "print(\"eleven\" in v)"
   ]
  },
  {
   "cell_type": "code",
   "execution_count": 19,
   "id": "20bc8aaa",
   "metadata": {},
   "outputs": [
    {
     "name": "stdout",
     "output_type": "stream",
     "text": [
      "five was found with the key 5\n"
     ]
    }
   ],
   "source": [
    "keys = list(d.keys())\n",
    "values = list(v)   # => list(d.values())\n",
    "if \"five\" in values:\n",
    "    index = values.index(\"five\")\n",
    "    key = keys[index]\n",
    "    print(f\"{d[key]} was found with the key {key}\")"
   ]
  },
  {
   "cell_type": "code",
   "execution_count": 20,
   "id": "988adbb0",
   "metadata": {},
   "outputs": [
    {
     "name": "stdout",
     "output_type": "stream",
     "text": [
      "five was found with the key 5\n"
     ]
    }
   ],
   "source": [
    "for key, value in d.items():\n",
    "    if value == \"five\":\n",
    "        print(f\"{d[key]} was found with the key {key}\")"
   ]
  },
  {
   "cell_type": "markdown",
   "id": "b64e3a3b",
   "metadata": {},
   "source": [
    "## Shallow vs Deep Copies"
   ]
  },
  {
   "cell_type": "code",
   "execution_count": 29,
   "id": "68412b0c",
   "metadata": {},
   "outputs": [
    {
     "name": "stdout",
     "output_type": "stream",
     "text": [
      "toy\n"
     ]
    }
   ],
   "source": [
    "animals = {\n",
    "    \"lion\": \"scary\",\n",
    "    \"elephant\": \"big\",\n",
    "    \"teddy\": \"cuddly\"\n",
    "}\n",
    "\n",
    "things = animals\n",
    "animals[\"teddy\"] = \"toy\"\n",
    "print(things[\"teddy\"])"
   ]
  },
  {
   "cell_type": "code",
   "execution_count": 30,
   "id": "cfc0231f",
   "metadata": {},
   "outputs": [
    {
     "name": "stdout",
     "output_type": "stream",
     "text": [
      "cuddly\n",
      "toy\n"
     ]
    }
   ],
   "source": [
    "# Shallow copy\n",
    "animals = {\n",
    "    \"lion\": \"scary\",\n",
    "    \"elephant\": \"big\",\n",
    "    \"teddy\": \"cuddly\"\n",
    "}\n",
    "\n",
    "things = animals.copy()    # a shallow copy\n",
    "animals[\"teddy\"] = \"toy\"\n",
    "print(things[\"teddy\"])\n",
    "print(animals[\"teddy\"])"
   ]
  },
  {
   "cell_type": "code",
   "execution_count": 31,
   "id": "3d1891e6",
   "metadata": {},
   "outputs": [
    {
     "name": "stdout",
     "output_type": "stream",
     "text": [
      "['cuddly', 'stuffed']\n",
      "['cuddly', 'stuffed']\n"
     ]
    }
   ],
   "source": [
    "animals = {\n",
    "    \"lion\": [\"scary\", \"big\", \"cat\"],\n",
    "    \"elephant\": [\"big\", \"grey\", \"wrinkled\"],\n",
    "    \"teddy\": [\"cuddly\", \"stuffed\"]\n",
    "}\n",
    "\n",
    "things = animals.copy()\n",
    "\n",
    "print(things[\"teddy\"])\n",
    "print(animals[\"teddy\"])"
   ]
  },
  {
   "cell_type": "code",
   "execution_count": 32,
   "id": "84e3b2cc",
   "metadata": {},
   "outputs": [
    {
     "name": "stdout",
     "output_type": "stream",
     "text": [
      "['cuddly', 'stuffed', 'toy']\n",
      "['cuddly', 'stuffed', 'toy']\n"
     ]
    }
   ],
   "source": [
    "things[\"teddy\"].append(\"toy\")\n",
    "print(things[\"teddy\"])\n",
    "print(animals[\"teddy\"])"
   ]
  },
  {
   "cell_type": "code",
   "execution_count": 37,
   "id": "535a9637",
   "metadata": {},
   "outputs": [
    {
     "name": "stdout",
     "output_type": "stream",
     "text": [
      "['cuddly', 'stuffed', 'toy', 'added via `things`', 'added via `things`', 'added via `things`']\n",
      "['cuddly', 'stuffed']\n",
      "\n",
      "['cuddly', 'stuffed', 'toy', 'added via `things`', 'added via `things`', 'added via `things`']\n",
      "['cuddly', 'stuffed']\n",
      "['cuddly', 'stuffed']\n"
     ]
    }
   ],
   "source": [
    "lion_list = [\"scary\", \"big\", \"cat\"]\n",
    "elephant_list = [\"big\", \"grey\", \"wrinkled\"]\n",
    "teddy_list = [\"cuddly\", \"stuffed\"]\n",
    "\n",
    "animals = {\n",
    "    \"lion\": lion_list,\n",
    "    \"elephant\": elephant_list,\n",
    "    \"teddy\": teddy_list\n",
    "}\n",
    "\n",
    "print(things[\"teddy\"])\n",
    "print(animals[\"teddy\"])\n",
    "print()\n",
    "# print(teddy_list.append(\"toy\"))\n",
    "?\n",
    "print(things[\"teddy\"])\n",
    "print(animals[\"teddy\"])\n",
    "print(teddy_list)"
   ]
  },
  {
   "cell_type": "code",
   "execution_count": 39,
   "id": "5a16be51",
   "metadata": {},
   "outputs": [
    {
     "name": "stdout",
     "output_type": "stream",
     "text": [
      "1814919174464 ['cuddly', 'stuffed']\n",
      "1814919182848 ['cuddly', 'stuffed']\n",
      "['cuddly', 'stuffed', 'toy']\n",
      "['cuddly', 'stuffed']\n"
     ]
    }
   ],
   "source": [
    "# Deep copy\n",
    "import copy\n",
    "\n",
    "animals = {\n",
    "    \"lion\": [\"scary\", \"big\", \"cat\"],\n",
    "    \"elephant\": [\"big\", \"grey\", \"wrinkled\"],\n",
    "    \"teddy\": [\"cuddly\", \"stuffed\"]\n",
    "}\n",
    "\n",
    "things = copy.deepcopy(animals)\n",
    "print(id(things[\"teddy\"]), things[\"teddy\"])\n",
    "print(id(animals[\"teddy\"]), animals[\"teddy\"])\n",
    "\n",
    "things[\"teddy\"].append(\"toy\")\n",
    "print(things[\"teddy\"])\n",
    "print(animals[\"teddy\"])"
   ]
  },
  {
   "cell_type": "markdown",
   "id": "10554f5c",
   "metadata": {},
   "source": [
    "## Hash Functions"
   ]
  },
  {
   "cell_type": "code",
   "execution_count": 49,
   "id": "6c0addc6",
   "metadata": {},
   "outputs": [
    {
     "name": "stdout",
     "output_type": "stream",
     "text": [
      "orange 1\n",
      "apple 7\n",
      "lemon 8\n",
      "grape 3\n",
      "melon 9\n",
      "['', 'orange', '', 'grape', '', '', '', 'apple', 'lemon', 'melon']\n",
      "['', 'a sweet, orange, citrus fruit', '', 'a small, sweet fruit growing in bunches', '', '', '', 'good for making cider', 'a sour, yellow citrus fruit', 'sweet and juicy']\n",
      "\n",
      "a sour, yellow citrus fruit\n"
     ]
    }
   ],
   "source": [
    "# A bad example -- helps understand how hashes are used but NOT useful code.\n",
    "data = [\n",
    "    (\"orange\", \"a sweet, orange, citrus fruit\"),\n",
    "    (\"apple\", \"good for making cider\"),\n",
    "    (\"lemon\", \"a sour, yellow citrus fruit\"),\n",
    "    (\"grape\", \"a small, sweet fruit growing in bunches\"),\n",
    "    (\"melon\", \"sweet and juicy\"),\n",
    "]\n",
    "\n",
    "# print(ord(\"a\"))\n",
    "# print(ord(\"b\"))\n",
    "# print(ord(\"z\"))\n",
    "\n",
    "def simple_hash(s: str) -> int:\n",
    "    \"\"\"A ridiculously simple hashing function\"\"\"\n",
    "    basic_hash = ord(s[0])\n",
    "    return basic_hash % 10\n",
    "\n",
    "\n",
    "def get(k: str) -> str:\n",
    "    \"\"\"Return a value for the key or None if the key doesn't exist\"\"\"\n",
    "    hash_code = simple_hash(k)\n",
    "    if values[hash_code]:\n",
    "        return values[hash_code]\n",
    "    else:\n",
    "        return None\n",
    "    \n",
    "    \n",
    "# Hash tables\n",
    "keys = [\"\"] * 10\n",
    "values = keys.copy()\n",
    "\n",
    "for key, value in data:\n",
    "    h = simple_hash(key)\n",
    "    # h = hash(key)  # Python's normal hash function\n",
    "    print(key, h)\n",
    "    keys[h] = key\n",
    "    values[h] = value\n",
    "    \n",
    "print(keys)\n",
    "print(values)\n",
    "print()\n",
    "value = get(\"lemon\")\n",
    "print(value)\n"
   ]
  },
  {
   "cell_type": "code",
   "execution_count": 56,
   "id": "dff3ae94",
   "metadata": {},
   "outputs": [
    {
     "name": "stdout",
     "output_type": "stream",
     "text": [
      "for i in range(10):\n",
      "print(i)\n",
      "\n",
      "102 f\n",
      "111 o\n",
      "114 r\n",
      "32  \n",
      "105 i\n",
      "32  \n",
      "105 i\n",
      "110 n\n",
      "32  \n",
      "114 r\n",
      "97 a\n",
      "110 n\n",
      "103 g\n",
      "101 e\n",
      "40 (\n",
      "49 1\n",
      "48 0\n",
      "41 )\n",
      "58 :\n",
      "10 \n",
      "\n",
      "112 p\n",
      "114 r\n",
      "105 i\n",
      "110 n\n",
      "116 t\n",
      "40 (\n",
      "105 i\n",
      "41 )\n",
      "10 \n",
      "\n",
      "SHA256: 5033b46b90e4250ce294d67078ad62b516b4b65964488e4605c7d216263c1565\n",
      "for i in range(10):\n",
      "print(i)\n",
      "print('code_change')\n",
      "\n",
      "SHA256: 4f69d9f193060949c30290e96986807a1bebc4ecc6f7e42a209d62a044ddc83b\n",
      "The code has been modified.\n"
     ]
    }
   ],
   "source": [
    "# Python's hashlib\n",
    "import hashlib\n",
    "\n",
    "# print(sorted(hashlib.algorithms_available))\n",
    "# print(sorted(hashlib.algorithms_guaranteed))\n",
    "\n",
    "python_program = \"\"\"for i in range(10):\n",
    "print(i)\n",
    "\"\"\"\n",
    "\n",
    "print(python_program)\n",
    "for b in python_program.encode(\"utf8\"):\n",
    "    print(b, chr(b))\n",
    "    \n",
    "original_hash = hashlib.sha256(python_program.encode(\"utf8\"))\n",
    "print(f\"SHA256: {original_hash.hexdigest()}\")\n",
    "\n",
    "python_program += \"print('code_change')\"\n",
    "print(python_program)\n",
    "\n",
    "new_hash = hashlib.sha256(python_program.encode(\"utf8\"))\n",
    "print()\n",
    "print(f\"SHA256: {new_hash.hexdigest()}\")\n",
    "\n",
    "if new_hash.hexdigest() == original_hash.hexdigest():\n",
    "    print(\"The code has not changed\")\n",
    "else:\n",
    "    print(\"The code has been modified.\")"
   ]
  },
  {
   "cell_type": "markdown",
   "id": "2e6849be",
   "metadata": {},
   "source": [
    "## Python Sets"
   ]
  },
  {
   "cell_type": "markdown",
   "id": "d6f51e81",
   "metadata": {},
   "source": [
    "A set is an unordered collection of **distinct** items. There are no duplicates in a set.  \n",
    "You can't index or slice a set because of this unordered nature of a set."
   ]
  },
  {
   "cell_type": "code",
   "execution_count": 1,
   "id": "a7f13a89",
   "metadata": {},
   "outputs": [
    {
     "name": "stdout",
     "output_type": "stream",
     "text": [
      "{'horse', 'hen', 'cow', 'goat', 'sheep'}\n",
      "horse\n",
      "hen\n",
      "cow\n",
      "goat\n",
      "sheep\n"
     ]
    }
   ],
   "source": [
    "farm_animals = {'cow', 'sheep', 'hen', 'goat', 'horse'}\n",
    "print(farm_animals)\n",
    "\n",
    "for animal in farm_animals:\n",
    "    print(animal)\n"
   ]
  },
  {
   "cell_type": "code",
   "execution_count": 3,
   "id": "512e0932",
   "metadata": {},
   "outputs": [
    {
     "name": "stdout",
     "output_type": "stream",
     "text": [
      "Please choose your option from the list below:\n",
      "1:\tLearn Python\n",
      "2:\tLearn Java\n",
      "3:\tGo swimming\n",
      "4:\tHave dinner\n",
      "5:\tGo to bed\n",
      "0:\tExit\n",
      "2\n",
      "You chose 2\n",
      "5\n",
      "You chose 5\n",
      "21\n",
      "Please choose your option from the list below:\n",
      "1:\tLearn Python\n",
      "2:\tLearn Java\n",
      "3:\tGo swimming\n",
      "4:\tHave dinner\n",
      "5:\tGo to bed\n",
      "0:\tExit\n",
      "0\n"
     ]
    }
   ],
   "source": [
    "choice = \"-\"  # initialise choice to something invalid\n",
    "while choice != \"0\":\n",
    "    if choice in set(\"12345\"):\n",
    "        print(\"You chose {}\".format(choice))\n",
    "    else:\n",
    "        print(\"Please choose your option from the list below:\")\n",
    "        print(\"1:\\tLearn Python\")\n",
    "        print(\"2:\\tLearn Java\")\n",
    "        print(\"3:\\tGo swimming\")\n",
    "        print(\"4:\\tHave dinner\")\n",
    "        print(\"5:\\tGo to bed\")\n",
    "        print(\"0:\\tExit\")\n",
    "\n",
    "    choice = input()\n"
   ]
  },
  {
   "cell_type": "markdown",
   "id": "ff6d4cd9",
   "metadata": {},
   "source": [
    "### Adding Items to a Set"
   ]
  },
  {
   "cell_type": "code",
   "execution_count": 11,
   "id": "957d653d",
   "metadata": {},
   "outputs": [
    {
     "name": "stdout",
     "output_type": "stream",
     "text": [
      "set() <class 'set'>\n",
      "{'blue', 'yellow', 'red', 'black', 'green'}\n",
      "['blue', 'red', 'green', 'yellow', 'black']\n"
     ]
    }
   ],
   "source": [
    "# A bad way to create a set: numbers = {*''}\n",
    "# May be seen in old code\n",
    "\n",
    "numbers = set()\n",
    "\n",
    "print(numbers, type(numbers))\n",
    "\n",
    "# numbers.add(1)\n",
    "# print(numbers)\n",
    "\n",
    "# while len(numbers) < 4:\n",
    "#     next_value = int(input(\"Enter your next value: \"))\n",
    "#     numbers.add(next_value)\n",
    "# print(numbers)\n",
    "\n",
    "data = [\"blue\", \"red\", \"green\", \"red\", \"blue\", \"yellow\", \"red\", \"black\"]\n",
    "# Create a set from the list to remove duplicates\n",
    "unique_data = set(data)\n",
    "print(unique_data)\n",
    "\n",
    "# Create a list of unique colors, keepint the order in which they appeared\n",
    "unique_data = list(dict.fromkeys(data))\n",
    "print(unique_data)\n"
   ]
  },
  {
   "cell_type": "markdown",
   "id": "18762910",
   "metadata": {},
   "source": [
    "### Removing Items From a Set"
   ]
  },
  {
   "cell_type": "code",
   "execution_count": 14,
   "id": "73c88f24",
   "metadata": {},
   "outputs": [
    {
     "name": "stdout",
     "output_type": "stream",
     "text": [
      "{0, 1, 2, 3, 4, 5, 6, 7, 8, 9, 10, 11, 12, 13, 14, 15, 16, 17, 18, 19, 20}\n"
     ]
    }
   ],
   "source": [
    "small_ints = set(range(21))\n",
    "print(small_ints)"
   ]
  },
  {
   "cell_type": "code",
   "execution_count": 13,
   "id": "e1387fbe",
   "metadata": {},
   "outputs": [
    {
     "name": "stdout",
     "output_type": "stream",
     "text": [
      "set()\n"
     ]
    }
   ],
   "source": [
    "# small_ints.clear()\n",
    "# print(small_ints)"
   ]
  },
  {
   "cell_type": "code",
   "execution_count": 15,
   "id": "0f98ec6c",
   "metadata": {},
   "outputs": [
    {
     "name": "stdout",
     "output_type": "stream",
     "text": [
      "{0, 1, 2, 3, 4, 5, 6, 7, 8, 9, 12, 13, 14, 15, 16, 17, 18, 19, 20}\n"
     ]
    }
   ],
   "source": [
    "small_ints.discard(10)\n",
    "small_ints.remove(11)\n",
    "print(small_ints)"
   ]
  },
  {
   "cell_type": "code",
   "execution_count": 16,
   "id": "a4c76d86",
   "metadata": {},
   "outputs": [
    {
     "name": "stdout",
     "output_type": "stream",
     "text": [
      "{0, 1, 2, 3, 4, 5, 6, 7, 8, 9, 12, 13, 14, 15, 16, 17, 18, 19, 20}\n"
     ]
    }
   ],
   "source": [
    "# Discarding an item not in the set doesn't do anything\n",
    "small_ints.discard(99)\n",
    "print(small_ints)"
   ]
  },
  {
   "cell_type": "code",
   "execution_count": 17,
   "id": "c1908cd2",
   "metadata": {},
   "outputs": [
    {
     "ename": "KeyError",
     "evalue": "99",
     "output_type": "error",
     "traceback": [
      "\u001b[1;31m---------------------------------------------------------------------------\u001b[0m",
      "\u001b[1;31mKeyError\u001b[0m                                  Traceback (most recent call last)",
      "Cell \u001b[1;32mIn[17], line 2\u001b[0m\n\u001b[0;32m      1\u001b[0m \u001b[38;5;66;03m# Removing something not in the set crashes the program\u001b[39;00m\n\u001b[1;32m----> 2\u001b[0m small_ints\u001b[38;5;241m.\u001b[39mremove(\u001b[38;5;241m99\u001b[39m)\n\u001b[0;32m      3\u001b[0m \u001b[38;5;28mprint\u001b[39m(small_ints)\n",
      "\u001b[1;31mKeyError\u001b[0m: 99"
     ]
    }
   ],
   "source": [
    "# Removing something not in the set crashes the program\n",
    "small_ints.remove(99)\n",
    "print(small_ints)"
   ]
  },
  {
   "cell_type": "code",
   "execution_count": 3,
   "id": "30dc8506",
   "metadata": {},
   "outputs": [
    {
     "name": "stdout",
     "output_type": "stream",
     "text": [
      "Please choose your mode of travel:\n",
      "1: car\n",
      "2: plane\n",
      "> 2\n",
      "You need to pack:\n",
      "can opener\n",
      "jumper\n",
      "matches\n",
      "mug\n",
      "razor\n",
      "shaving cream\n",
      "shirts (3)\n",
      "shorts\n",
      "sleeping bag(s)\n",
      "soap\n",
      "socks (3 pairs)\n",
      "stove\n",
      "tent\n",
      "toothbrush\n",
      "toothpaste\n",
      "towel\n",
      "underwear (3 pairs)\n",
      "water carrier\n"
     ]
    }
   ],
   "source": [
    "# Using the discard method\n",
    "travel_mode = {\"1\": \"car\", \"2\": \"plane\"}\n",
    "\n",
    "items = {\n",
    "    \"can opener\",\n",
    "    \"fuel\",\n",
    "    \"jumper\",\n",
    "    \"knife\",\n",
    "    \"matches\",\n",
    "    \"razor blades\",\n",
    "    \"razor\",\n",
    "    \"scissors\",\n",
    "    \"shampoo\",\n",
    "    \"shaving cream\",\n",
    "    \"shirts (3)\",\n",
    "    \"shorts\",\n",
    "    \"sleeping bag(s)\",\n",
    "    \"soap\",\n",
    "    \"socks (3 pairs)\",\n",
    "    \"stove\",\n",
    "    \"tent\",\n",
    "    \"mug\",\n",
    "    \"toothbrush\",\n",
    "    \"toothpaste\",\n",
    "    \"towel\",\n",
    "    \"underwear (3 pairs)\",\n",
    "    \"water carrier\",\n",
    "}\n",
    "\n",
    "restricted_items = {\n",
    "    \"catapult\",\n",
    "    \"fuel\",\n",
    "    \"gun\",\n",
    "    \"knife\",\n",
    "    \"razor blades\",\n",
    "    \"scissors\",\n",
    "    \"shampoo\",\n",
    "}\n",
    "\n",
    "print(\"Please choose your mode of travel:\")\n",
    "for key, value in travel_mode.items():\n",
    "    print(f\"{key}: {value}\")\n",
    "    # Python 3.5 and earlier\n",
    "    # print(\"{}: {}\".format(key, value))\n",
    "\n",
    "mode = \"-\"\n",
    "while mode not in travel_mode:\n",
    "    mode = input(\"> \")\n",
    "\n",
    "if mode == \"2\":\n",
    "    # travelling by plane, remove restricted items\n",
    "    for restricted_item in restricted_items:\n",
    "        items.discard(restricted_item)\n",
    "\n",
    "# print the packing list\n",
    "print(\"You need to pack:\")\n",
    "for item in sorted(items):\n",
    "    print(item)\n"
   ]
  },
  {
   "cell_type": "code",
   "execution_count": 4,
   "id": "931b8d52",
   "metadata": {},
   "outputs": [],
   "source": [
    "# Using the remove method\n",
    "# drugs\n",
    "amlodipine = (\"amlodipine\", \"Blood pressure\")\n",
    "buspirone = (\"buspirone\", \"Anxiety disorders\")\n",
    "carbimazole = (\"carbimazole\", \"Antithyroid agent\")\n",
    "citalopram = (\"citalopram\", \"Antidepressant\")\n",
    "edoxaban = (\"edoxaban\", \"anti-coagulant\")\n",
    "erythromycin = (\"erythromycin\", \"Antibiotic\")\n",
    "lusinopril = (\"lusinopril\", \"High blood pressure\")\n",
    "metformin = (\"metformin\", \"Type 2 diabetes\")\n",
    "methotrexate = (\"methotrexate\", \"Rheumatoid arthritis\")\n",
    "paracetamol = (\"paracetamol\", \"Painkiller\")\n",
    "propranol = (\"propranol\", \"Beta blocker\")\n",
    "simvastatin = (\"simvastatin\", \"High cholesterol\")\n",
    "warfarin = (\"warfarin\", \"anti-coagulant\")\n",
    "\n",
    "# Drugs that shouldn't be taken together\n",
    "adverse_interactions = [\n",
    "    {metformin, amlodipine},\n",
    "    {simvastatin, erythromycin},\n",
    "    {citalopram, buspirone},\n",
    "    {warfarin, citalopram},\n",
    "    {warfarin, edoxaban},\n",
    "    {warfarin, erythromycin},\n",
    "    {warfarin, amlodipine},\n",
    "]\n",
    "\n",
    "# Patient prescriptions\n",
    "patients = {\n",
    "    \"Anne\": {methotrexate, paracetamol},\n",
    "    \"Bob\": {carbimazole, erythromycin, methotrexate, paracetamol},\n",
    "    \"Charley\": {buspirone, lusinopril, metformin},\n",
    "    \"Denise\": {amlodipine, lusinopril, metformin, warfarin},\n",
    "    \"Eddie\": {amlodipine, propranol, simvastatin, warfarin},\n",
    "    \"Frank\": {buspirone, citalopram, propranol, warfarin},\n",
    "    \"Georgia\": {carbimazole, edoxaban, warfarin},\n",
    "    \"Helmut\": {erythromycin, paracetamol, propranol, simvastatin},\n",
    "    \"Izabella\": {amlodipine, citalopram, simvastatin, warfarin},\n",
    "    \"John\": {simvastatin},\n",
    "    \"Kenny\": {amlodipine, citalopram, metformin},\n",
    "}\n"
   ]
  },
  {
   "cell_type": "code",
   "execution_count": 5,
   "id": "c987e49e",
   "metadata": {},
   "outputs": [
    {
     "name": "stdout",
     "output_type": "stream",
     "text": [
      "Denise {('metformin', 'Type 2 diabetes'), ('amlodipine', 'Blood pressure'), ('lusinopril', 'High blood pressure'), ('warfarin', 'anti-coagulant')}\n",
      "Eddie {('simvastatin', 'High cholesterol'), ('warfarin', 'anti-coagulant'), ('amlodipine', 'Blood pressure'), ('propranol', 'Beta blocker')}\n",
      "Frank {('citalopram', 'Antidepressant'), ('warfarin', 'anti-coagulant'), ('propranol', 'Beta blocker'), ('buspirone', 'Anxiety disorders')}\n",
      "Georgia {('carbimazole', 'Antithyroid agent'), ('edoxaban', 'anti-coagulant'), ('warfarin', 'anti-coagulant')}\n"
     ]
    }
   ],
   "source": [
    "trial_patients = [\"Denise\", \"Eddie\", \"Frank\", \"Georgia\"]\n",
    "for patient in trial_patients:\n",
    "    prescription = patients[patient]\n",
    "    print(patient, prescription)"
   ]
  },
  {
   "cell_type": "code",
   "execution_count": 9,
   "id": "b53912e2",
   "metadata": {},
   "outputs": [
    {
     "name": "stdout",
     "output_type": "stream",
     "text": [
      "Denise {('amlodipine', 'Blood pressure'), ('metformin', 'Type 2 diabetes'), ('edoxaban', 'anti-coagulant'), ('lusinopril', 'High blood pressure')}\n",
      "Eddie {('simvastatin', 'High cholesterol'), ('amlodipine', 'Blood pressure'), ('edoxaban', 'anti-coagulant'), ('propranol', 'Beta blocker')}\n",
      "Frank {('buspirone', 'Anxiety disorders'), ('citalopram', 'Antidepressant'), ('edoxaban', 'anti-coagulant'), ('propranol', 'Beta blocker')}\n",
      "Georgia {('carbimazole', 'Antithyroid agent'), ('edoxaban', 'anti-coagulant')}\n"
     ]
    }
   ],
   "source": [
    "trial_patients = [\"Denise\", \"Eddie\", \"Frank\", \"Georgia\"]\n",
    "for patient in trial_patients:\n",
    "    prescription = patients[patient]\n",
    "    prescription.remove(warfarin)\n",
    "    prescription.add(edoxaban)\n",
    "    print(patient, prescription)"
   ]
  },
  {
   "cell_type": "code",
   "execution_count": 10,
   "id": "a700a4ed",
   "metadata": {},
   "outputs": [
    {
     "ename": "KeyError",
     "evalue": "('warfarin', 'anti-coagulant')",
     "output_type": "error",
     "traceback": [
      "\u001b[1;31m---------------------------------------------------------------------------\u001b[0m",
      "\u001b[1;31mKeyError\u001b[0m                                  Traceback (most recent call last)",
      "Cell \u001b[1;32mIn[10], line 4\u001b[0m\n\u001b[0;32m      2\u001b[0m \u001b[38;5;28;01mfor\u001b[39;00m patient \u001b[38;5;129;01min\u001b[39;00m trial_patients:\n\u001b[0;32m      3\u001b[0m     prescription \u001b[38;5;241m=\u001b[39m patients[patient]\n\u001b[1;32m----> 4\u001b[0m     prescription\u001b[38;5;241m.\u001b[39mremove(warfarin)\n\u001b[0;32m      5\u001b[0m     prescription\u001b[38;5;241m.\u001b[39madd(edoxaban)\n\u001b[0;32m      6\u001b[0m     \u001b[38;5;28mprint\u001b[39m(patient, prescription)\n",
      "\u001b[1;31mKeyError\u001b[0m: ('warfarin', 'anti-coagulant')"
     ]
    }
   ],
   "source": [
    "trial_patients = [\"Denise\", \"Eddie\", \"Frank\", \"Georgia\", \"Kenny\"]\n",
    "for patient in trial_patients:\n",
    "    prescription = patients[patient]\n",
    "    prescription.remove(warfarin)\n",
    "    prescription.add(edoxaban)\n",
    "    print(patient, prescription)"
   ]
  },
  {
   "cell_type": "code",
   "execution_count": 14,
   "id": "70eb55ed",
   "metadata": {},
   "outputs": [
    {
     "name": "stdout",
     "output_type": "stream",
     "text": [
      "Denise {('amlodipine', 'Blood pressure'), ('metformin', 'Type 2 diabetes'), ('edoxaban', 'anti-coagulant'), ('lusinopril', 'High blood pressure')}\n",
      "Eddie {('simvastatin', 'High cholesterol'), ('amlodipine', 'Blood pressure'), ('edoxaban', 'anti-coagulant'), ('propranol', 'Beta blocker')}\n",
      "Frank {('buspirone', 'Anxiety disorders'), ('citalopram', 'Antidepressant'), ('edoxaban', 'anti-coagulant'), ('propranol', 'Beta blocker')}\n",
      "Georgia {('carbimazole', 'Antithyroid agent'), ('edoxaban', 'anti-coagulant')}\n",
      "Patient Kenny is not taking warfarin. Please remove Kenny from trial.\n",
      "Kenny {('citalopram', 'Antidepressant'), ('amlodipine', 'Blood pressure'), ('metformin', 'Type 2 diabetes')}\n"
     ]
    }
   ],
   "source": [
    "# drugs\n",
    "amlodipine = (\"amlodipine\", \"Blood pressure\")\n",
    "buspirone = (\"buspirone\", \"Anxiety disorders\")\n",
    "carbimazole = (\"carbimazole\", \"Antithyroid agent\")\n",
    "citalopram = (\"citalopram\", \"Antidepressant\")\n",
    "edoxaban = (\"edoxaban\", \"anti-coagulant\")\n",
    "erythromycin = (\"erythromycin\", \"Antibiotic\")\n",
    "lusinopril = (\"lusinopril\", \"High blood pressure\")\n",
    "metformin = (\"metformin\", \"Type 2 diabetes\")\n",
    "methotrexate = (\"methotrexate\", \"Rheumatoid arthritis\")\n",
    "paracetamol = (\"paracetamol\", \"Painkiller\")\n",
    "propranol = (\"propranol\", \"Beta blocker\")\n",
    "simvastatin = (\"simvastatin\", \"High cholesterol\")\n",
    "warfarin = (\"warfarin\", \"anti-coagulant\")\n",
    "\n",
    "# Drugs that shouldn't be taken together\n",
    "adverse_interactions = [\n",
    "    {metformin, amlodipine},\n",
    "    {simvastatin, erythromycin},\n",
    "    {citalopram, buspirone},\n",
    "    {warfarin, citalopram},\n",
    "    {warfarin, edoxaban},\n",
    "    {warfarin, erythromycin},\n",
    "    {warfarin, amlodipine},\n",
    "]\n",
    "\n",
    "# Patient prescriptions\n",
    "patients = {\n",
    "    \"Anne\": {methotrexate, paracetamol},\n",
    "    \"Bob\": {carbimazole, erythromycin, methotrexate, paracetamol},\n",
    "    \"Charley\": {buspirone, lusinopril, metformin},\n",
    "    \"Denise\": {amlodipine, lusinopril, metformin, warfarin},\n",
    "    \"Eddie\": {amlodipine, propranol, simvastatin, warfarin},\n",
    "    \"Frank\": {buspirone, citalopram, propranol, warfarin},\n",
    "    \"Georgia\": {carbimazole, edoxaban, warfarin},\n",
    "    \"Helmut\": {erythromycin, paracetamol, propranol, simvastatin},\n",
    "    \"Izabella\": {amlodipine, citalopram, simvastatin, warfarin},\n",
    "    \"John\": {simvastatin},\n",
    "    \"Kenny\": {amlodipine, citalopram, metformin},\n",
    "}\n",
    "\n",
    "\n",
    "trial_patients = [\"Denise\", \"Eddie\", \"Frank\", \"Georgia\", \"Kenny\"]\n",
    "for patient in trial_patients:\n",
    "    prescription = patients[patient]\n",
    "    if warfarin in prescription:\n",
    "        prescription.remove(warfarin)\n",
    "        prescription.add(edoxaban)\n",
    "    else:\n",
    "        print(f\"Patient {patient} is not taking warfarin. \"\n",
    "              f\"Please remove {patient} from trial.\")\n",
    "    print(patient, prescription)"
   ]
  },
  {
   "cell_type": "code",
   "execution_count": 15,
   "id": "2196cb69",
   "metadata": {},
   "outputs": [
    {
     "name": "stdout",
     "output_type": "stream",
     "text": [
      "Denise : {('metformin', 'Type 2 diabetes'), ('amlodipine', 'Blood pressure'), ('lusinopril', 'High blood pressure'), ('warfarin', 'anti-coagulant')}\n",
      "Frank : {('citalopram', 'Antidepressant'), ('warfarin', 'anti-coagulant'), ('propranol', 'Beta blocker'), ('buspirone', 'Anxiety disorders')}\n",
      "Kenny : {('citalopram', 'Antidepressant'), ('amlodipine', 'Blood pressure'), ('metformin', 'Type 2 diabetes')}\n",
      "Eddie : {('simvastatin', 'High cholesterol'), ('warfarin', 'anti-coagulant'), ('amlodipine', 'Blood pressure'), ('propranol', 'Beta blocker')}\n",
      "Georgia : {('carbimazole', 'Antithyroid agent'), ('edoxaban', 'anti-coagulant'), ('warfarin', 'anti-coagulant')}\n"
     ]
    }
   ],
   "source": [
    "# drugs\n",
    "amlodipine = (\"amlodipine\", \"Blood pressure\")\n",
    "buspirone = (\"buspirone\", \"Anxiety disorders\")\n",
    "carbimazole = (\"carbimazole\", \"Antithyroid agent\")\n",
    "citalopram = (\"citalopram\", \"Antidepressant\")\n",
    "edoxaban = (\"edoxaban\", \"anti-coagulant\")\n",
    "erythromycin = (\"erythromycin\", \"Antibiotic\")\n",
    "lusinopril = (\"lusinopril\", \"High blood pressure\")\n",
    "metformin = (\"metformin\", \"Type 2 diabetes\")\n",
    "methotrexate = (\"methotrexate\", \"Rheumatoid arthritis\")\n",
    "paracetamol = (\"paracetamol\", \"Painkiller\")\n",
    "propranol = (\"propranol\", \"Beta blocker\")\n",
    "simvastatin = (\"simvastatin\", \"High cholesterol\")\n",
    "warfarin = (\"warfarin\", \"anti-coagulant\")\n",
    "\n",
    "# Drugs that shouldn't be taken together\n",
    "adverse_interactions = [\n",
    "    {metformin, amlodipine},\n",
    "    {simvastatin, erythromycin},\n",
    "    {citalopram, buspirone},\n",
    "    {warfarin, citalopram},\n",
    "    {warfarin, edoxaban},\n",
    "    {warfarin, erythromycin},\n",
    "    {warfarin, amlodipine},\n",
    "]\n",
    "\n",
    "# Patient prescriptions\n",
    "patients = {\n",
    "    \"Anne\": {methotrexate, paracetamol},\n",
    "    \"Bob\": {carbimazole, erythromycin, methotrexate, paracetamol},\n",
    "    \"Charley\": {buspirone, lusinopril, metformin},\n",
    "    \"Denise\": {amlodipine, lusinopril, metformin, warfarin},\n",
    "    \"Eddie\": {amlodipine, propranol, simvastatin, warfarin},\n",
    "    \"Frank\": {buspirone, citalopram, propranol, warfarin},\n",
    "    \"Georgia\": {carbimazole, edoxaban, warfarin},\n",
    "    \"Helmut\": {erythromycin, paracetamol, propranol, simvastatin},\n",
    "    \"Izabella\": {amlodipine, citalopram, simvastatin, warfarin},\n",
    "    \"John\": {simvastatin},\n",
    "    \"Kenny\": {amlodipine, citalopram, metformin},\n",
    "}\n",
    "\n",
    "trial_patients = {\"Denise\", \"Eddie\", \"Frank\", \"Georgia\", \"Kenny\"}\n",
    "\n",
    "while trial_patients:\n",
    "    patient = trial_patients.pop()\n",
    "    print(patient, end=\" : \")\n",
    "    prescription = patients[patient]\n",
    "    print(prescription)"
   ]
  },
  {
   "cell_type": "markdown",
   "id": "8cfc8f11",
   "metadata": {},
   "source": [
    "### Set Operations"
   ]
  },
  {
   "cell_type": "code",
   "execution_count": 1,
   "id": "41a7eb07",
   "metadata": {},
   "outputs": [
    {
     "name": "stdout",
     "output_type": "stream",
     "text": [
      "{'elephant', 'horse', 'lion', 'cow', 'goat', 'panther', 'sheep', 'hen', 'tiger'}\n"
     ]
    }
   ],
   "source": [
    "# Set union - .union(other_set) or pipe \"|\"\n",
    "farm_animals = {\"sheep\", \"hen\", \"cow\", \"horse\", \"goat\"}\n",
    "wild_animals = {\"lion\", \"elephant\", \"tiger\", \"goat\", \"panther\", \"horse\"}\n",
    "\n",
    "all_animals_1 = farm_animals.union(wild_animals)\n",
    "print(all_animals_1)\n"
   ]
  },
  {
   "cell_type": "code",
   "execution_count": 2,
   "id": "39967bda",
   "metadata": {},
   "outputs": [
    {
     "name": "stdout",
     "output_type": "stream",
     "text": [
      "{'elephant', 'hen', 'horse', 'lion', 'cow', 'goat', 'sheep', 'panther', 'tiger'}\n"
     ]
    }
   ],
   "source": [
    "all_animals_2 = wild_animals.union(farm_animals)\n",
    "print(all_animals_2)\n"
   ]
  },
  {
   "cell_type": "code",
   "execution_count": 3,
   "id": "c04a05ec",
   "metadata": {},
   "outputs": [
    {
     "name": "stdout",
     "output_type": "stream",
     "text": [
      "{'elephant', 'hen', 'horse', 'lion', 'cow', 'goat', 'sheep', 'panther', 'tiger'}\n"
     ]
    }
   ],
   "source": [
    "all_animals_3 = wild_animals | farm_animals\n",
    "print(all_animals_3)\n"
   ]
  },
  {
   "cell_type": "code",
   "execution_count": 11,
   "id": "bf678494",
   "metadata": {},
   "outputs": [
    {
     "name": "stdout",
     "output_type": "stream",
     "text": [
      "[('amlodipine', 'Blood pressure'), ('buspirone', 'Anxiety disorders'), ('citalopram', 'Antidepressant'), ('edoxaban', 'anti-coagulant'), ('erythromycin', 'Antibiotic'), ('metformin', 'Type 2 diabetes'), ('simvastatin', 'High cholesterol'), ('warfarin', 'anti-coagulant')]\n"
     ]
    }
   ],
   "source": [
    "# drugs\n",
    "amlodipine = (\"amlodipine\", \"Blood pressure\")\n",
    "buspirone = (\"buspirone\", \"Anxiety disorders\")\n",
    "carbimazole = (\"carbimazole\", \"Antithyroid agent\")\n",
    "citalopram = (\"citalopram\", \"Antidepressant\")\n",
    "edoxaban = (\"edoxaban\", \"anti-coagulant\")\n",
    "erythromycin = (\"erythromycin\", \"Antibiotic\")\n",
    "lusinopril = (\"lusinopril\", \"High blood pressure\")\n",
    "metformin = (\"metformin\", \"Type 2 diabetes\")\n",
    "methotrexate = (\"methotrexate\", \"Rheumatoid arthritis\")\n",
    "paracetamol = (\"paracetamol\", \"Painkiller\")\n",
    "propranol = (\"propranol\", \"Beta blocker\")\n",
    "simvastatin = (\"simvastatin\", \"High cholesterol\")\n",
    "warfarin = (\"warfarin\", \"anti-coagulant\")\n",
    "\n",
    "# Drugs that shouldn't be taken together\n",
    "adverse_interactions = [\n",
    "    {metformin, amlodipine},\n",
    "    {simvastatin, erythromycin},\n",
    "    {citalopram, buspirone},\n",
    "    {warfarin, citalopram},\n",
    "    {warfarin, edoxaban},\n",
    "    {warfarin, erythromycin},\n",
    "    {warfarin, amlodipine},\n",
    "]\n",
    "\n",
    "# meds_to_watch = set()\n",
    "# for interaction in adverse_interactions:\n",
    "#     # meds_to_watch = meds_to_watch.union(interaction)\n",
    "#     # meds_to_watch = meds_to_watch | interaction\n",
    "#     # meds_to_watch.update(interaction)\n",
    "#     meds_to_watch |= interaction\n",
    "    \n",
    "meds_to_watch.update(*adverse_interactions) \n",
    "\n",
    "print(sorted(meds_to_watch))\n"
   ]
  },
  {
   "cell_type": "code",
   "execution_count": 12,
   "id": "0b449cc5",
   "metadata": {},
   "outputs": [
    {
     "name": "stdout",
     "output_type": "stream",
     "text": [
      "('amlodipine', 'Blood pressure')\n",
      "('buspirone', 'Anxiety disorders')\n",
      "('citalopram', 'Antidepressant')\n",
      "('edoxaban', 'anti-coagulant')\n",
      "('erythromycin', 'Antibiotic')\n",
      "('metformin', 'Type 2 diabetes')\n",
      "('simvastatin', 'High cholesterol')\n",
      "('warfarin', 'anti-coagulant')\n"
     ]
    }
   ],
   "source": [
    "print(*sorted(meds_to_watch), sep='\\n')"
   ]
  },
  {
   "cell_type": "code",
   "execution_count": 14,
   "id": "fab24831",
   "metadata": {},
   "outputs": [
    {
     "name": "stdout",
     "output_type": "stream",
     "text": [
      "Squares less than 1000:\n",
      "[1, 4, 9, 16, 25, 36, 49, 64, 81, 100, 121, 144, 169, 196, 225, 256, 289, 324, 361, 400, 441, 484, 529, 576, 625, 676, 729, 784, 841, 900, 961]\n",
      "Generated 31 squares.\n",
      "Primes up to 1000\n",
      "[2, 3, 5, 7, 11, 13, 17, 19, 23, 29, 31, 37, 41, 43, 47, 53, 59, 61, 67, 71, 73, 79, 83, 89, 97, 101, 103, 107, 109, 113, 127, 131, 137, 139, 149, 151, 157, 163, 167, 173, 179, 181, 191, 193, 197, 199, 211, 223, 227, 229, 233, 239, 241, 251, 257, 263, 269, 271, 277, 281, 283, 293, 307, 311, 313, 317, 331, 337, 347, 349, 353, 359, 367, 373, 379, 383, 389, 397, 401, 409, 419, 421, 431, 433, 439, 443, 449, 457, 461, 463, 467, 479, 487, 491, 499, 503, 509, 521, 523, 541, 547, 557, 563, 569, 571, 577, 587, 593, 599, 601, 607, 613, 617, 619, 631, 641, 643, 647, 653, 659, 661, 673, 677, 683, 691, 701, 709, 719, 727, 733, 739, 743, 751, 757, 761, 769, 773, 787, 797, 809, 811, 821, 823, 827, 829, 839, 853, 857, 859, 863, 877, 881, 883, 887, 907, 911, 919, 929, 937, 941, 947, 953, 967, 971, 977, 983, 991, 997]\n",
      "Generated 168 primes.\n",
      "True\n"
     ]
    }
   ],
   "source": [
    "from typing import Generator\n",
    "\n",
    "\n",
    "def squares_generator(n: int) -> Generator[int, None, None]:\n",
    "    \"\"\"Generator to return the perfect squares less than `n`.\"\"\"\n",
    "    if n > 0:\n",
    "        i = next_square = 1\n",
    "        while next_square < n:\n",
    "            yield next_square\n",
    "            i += 1\n",
    "            next_square = i * i\n",
    "\n",
    "\n",
    "def primes_generator(n: int) -> Generator[int, None, None]:\n",
    "    \"\"\"\n",
    "    Very naive implementation of the Sieve of Eratosthenes to generate prime numbers.\n",
    "\n",
    "    This is *not* suitable for production use.\n",
    "    For an optimised algorithm, check out the work by Tim Peters et al @ActiveState, and Will Ness.\n",
    "    https://stackoverflow.com/questions/2211990/how-to-implement-an-efficient-infinite-generator-of-prime-numbers-in-python/19391111#19391111\n",
    "\n",
    "    :param n: The number to generate primes up to.\n",
    "    :return: A generator of all positive prime numbers less than or equal to `n`.\n",
    "    \"\"\"\n",
    "    if n >= 2:\n",
    "        # start with the set of positive odd integers from 3 to `n`, inclusive.\n",
    "        integers = set(range(3, n + 1, 2))\n",
    "        # There's no point removing multiples of 2 from odd numbers.\n",
    "        yield 2\n",
    "        next_prime = 3\n",
    "        while integers:\n",
    "            yield next_prime\n",
    "            # Remove all multiples of `next_prime`.\n",
    "            integers.difference_update(range(next_prime, n + 1, 2 * next_prime))\n",
    "            next_prime = min(integers, default=None)  # None if set is empty.\n",
    "\n",
    "\n",
    "if __name__ == '__main__':\n",
    "    print(\"Squares less than 1000:\")\n",
    "    squares = list(squares_generator(1000))\n",
    "    print(squares)\n",
    "    print(\"Generated {} squares.\".format(len(squares)))\n",
    "\n",
    "    print(\"Primes up to 1000\")\n",
    "    primes = set(primes_generator(1000))\n",
    "    print(sorted(primes))\n",
    "    print(\"Generated {} primes.\".format(len(primes)))\n",
    "\n",
    "    check = {2, 3, 5, 7, 11, 13, 17, 19, 23, 29,\n",
    "             31, 37, 41, 43, 47, 53, 59, 61, 67, 71,\n",
    "             73, 79, 83, 89, 97, 101, 103, 107, 109, 113,\n",
    "             127, 131, 137, 139, 149, 151, 157, 163, 167, 173,\n",
    "             179, 181, 191, 193, 197, 199, 211, 223, 227, 229,\n",
    "             233, 239, 241, 251, 257, 263, 269, 271, 277, 281,\n",
    "             283, 293, 307, 311, 313, 317, 331, 337, 347, 349,\n",
    "             353, 359, 367, 373, 379, 383, 389, 397, 401, 409,\n",
    "             419, 421, 431, 433, 439, 443, 449, 457, 461, 463,\n",
    "             467, 479, 487, 491, 499, 503, 509, 521, 523, 541,\n",
    "             547, 557, 563, 569, 571, 577, 587, 593, 599, 601,\n",
    "             607, 613, 617, 619, 631, 641, 643, 647, 653, 659,\n",
    "             661, 673, 677, 683, 691, 701, 709, 719, 727, 733,\n",
    "             739, 743, 751, 757, 761, 769, 773, 787, 797, 809,\n",
    "             811, 821, 823, 827, 829, 839, 853, 857, 859, 863,\n",
    "             877, 881, 883, 887, 907, 911, 919, 929, 937, 941,\n",
    "             947, 953, 967, 971, 977, 983, 991, 997}\n",
    "    print(primes == check)\n",
    "\n"
   ]
  },
  {
   "cell_type": "code",
   "execution_count": 22,
   "id": "7af63192",
   "metadata": {},
   "outputs": [
    {
     "name": "stdout",
     "output_type": "stream",
     "text": [
      "{0, 2, 4, 6, 8, 10, 12, 14, 16, 18, 20, 22, 24, 26, 28, 30, 32, 34, 36, 38, 40, 42, 44, 46, 48}\n",
      "{1, 3, 5, 7, 9, 11, 13, 15, 17, 19, 21, 23, 25, 27, 29, 31, 33, 35, 37, 39, 41, 43, 45, 47, 49}\n",
      "\n",
      "{2, 3, 5, 7, 11, 13, 17, 19, 23, 29, 31, 37, 41, 43, 47, 53, 59, 61, 67, 71, 73, 79, 83, 89, 97}\n",
      "\n",
      "{64, 1, 4, 36, 9, 16, 49, 81, 25}\n"
     ]
    }
   ],
   "source": [
    "# Set intersection - .intersection(other_set) or ampersand \"&\"\n",
    "evens = set(range(0, 50, 2))\n",
    "odds = set(range(1, 50, 2))\n",
    "\n",
    "print(evens)\n",
    "print(odds)\n",
    "print()\n",
    "\n",
    "primes = set(primes_generator(100))\n",
    "print(primes)\n",
    "print()\n",
    "squares = set(squares_generator(100))\n",
    "print(squares)\n"
   ]
  },
  {
   "cell_type": "code",
   "execution_count": 23,
   "id": "e41ffdf7",
   "metadata": {},
   "outputs": [
    {
     "name": "stdout",
     "output_type": "stream",
     "text": [
      "{1, 25, 9, 49}\n"
     ]
    }
   ],
   "source": [
    "print(odds.intersection(squares))"
   ]
  },
  {
   "cell_type": "code",
   "execution_count": 25,
   "id": "0be7b6aa",
   "metadata": {},
   "outputs": [
    {
     "name": "stdout",
     "output_type": "stream",
     "text": [
      "{16, 4, 36}\n",
      "{16, 4, 36}\n"
     ]
    }
   ],
   "source": [
    "print(evens & squares)\n",
    "print(evens.intersection(squares))"
   ]
  },
  {
   "cell_type": "code",
   "execution_count": 28,
   "id": "c1689cb3",
   "metadata": {},
   "outputs": [
    {
     "name": "stdout",
     "output_type": "stream",
     "text": [
      "{1, 33, 35, 39, 9, 45, 15, 49, 21, 25, 27}\n",
      "{1, 33, 35, 39, 9, 45, 15, 49, 21, 25, 27}\n",
      "{97, 2, 67, 71, 73, 79, 83, 53, 89, 59, 61}\n"
     ]
    }
   ],
   "source": [
    "# Set differrence - .difference(other_set) or minus \"-\" \n",
    "\n",
    "print(odds - primes)\n",
    "print(odds.difference(primes))\n",
    "print(primes - odds)"
   ]
  },
  {
   "cell_type": "code",
   "execution_count": 32,
   "id": "f8341087",
   "metadata": {},
   "outputs": [
    {
     "name": "stdout",
     "output_type": "stream",
     "text": [
      "{'Lisp', 'Python'}\n"
     ]
    }
   ],
   "source": [
    "# Set symetric differrence - .symmetric_difference(other_set) or caret \"^\" \n",
    "morning = {'Java', 'C', 'Ruby', 'Lisp', 'C#'}\n",
    "afternoon = {'Python', 'C', 'Java', 'C#', 'Ruby'}\n",
    "#possible_courses = morning ^ afternoon\n",
    "possible_courses = morning.symmetric_difference(afternoon)\n",
    "print(possible_courses)\n"
   ]
  },
  {
   "cell_type": "code",
   "execution_count": null,
   "id": "6394d887",
   "metadata": {},
   "outputs": [],
   "source": [
    "# Subsets - subset <= set. Proper subset is subset < set. \n",
    "# Superset >= set A proper superset is superset > set.\n"
   ]
  }
 ],
 "metadata": {
  "kernelspec": {
   "display_name": "Python 3 (ipykernel)",
   "language": "python",
   "name": "python3"
  },
  "language_info": {
   "codemirror_mode": {
    "name": "ipython",
    "version": 3
   },
   "file_extension": ".py",
   "mimetype": "text/x-python",
   "name": "python",
   "nbconvert_exporter": "python",
   "pygments_lexer": "ipython3",
   "version": "3.11.5"
  }
 },
 "nbformat": 4,
 "nbformat_minor": 5
}
