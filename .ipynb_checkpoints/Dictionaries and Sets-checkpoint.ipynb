{
 "cells": [
  {
   "cell_type": "markdown",
   "id": "08a5037e",
   "metadata": {},
   "source": [
    "# Dictionaries and Sets"
   ]
  },
  {
   "cell_type": "markdown",
   "id": "d3aa54a5",
   "metadata": {},
   "source": [
    "Dictionaries and sets are Python data structures which are **not** sequences. The data stored in them cannot be accessed by indexiing.  \n",
    "Dictionaries are collections of key:value pairs. The key is used to get the value. Dictionaries are sometimes called **mappings**.  \n",
    "A set is an unordered collection of *things*. There is no way to retrieve a specific item from a set."
   ]
  },
  {
   "cell_type": "code",
   "execution_count": 1,
   "id": "61db4564",
   "metadata": {},
   "outputs": [
    {
     "name": "stdout",
     "output_type": "stream",
     "text": [
      "Ford Fiesta Ghia 1.4\n",
      "Yamaha XV250\n",
      "Kawasaki ER5\n"
     ]
    }
   ],
   "source": [
    "# Dictionaries are defined with curly braces.\n",
    "# The data is a key and a value seperated with a colon\n",
    "\n",
    "vehicles = {\n",
    "    'dream': 'Honda 250T',\n",
    "    'roadster': 'BMW R1100',\n",
    "    'er5': 'Kawasaki ER5',\n",
    "    'can-am': 'Bombardier Can-Am 250',\n",
    "    'virago': 'Yamaha XV250',\n",
    "    'tenere': 'Yamaha XT650',\n",
    "    'jimny': 'Suzuki Jimny 1.5',\n",
    "    'fiesta': 'Ford Fiesta Ghia 1.4',\n",
    "}\n",
    "\n",
    "# values are retrieved using square brackets around the key\n",
    "my_car = vehicles['fiesta']\n",
    "print(my_car)\n",
    "\n",
    "commuter = vehicles['virago']\n",
    "print(commuter)\n",
    "\n",
    "# Data can be retrieved with a .get() function\n",
    "learner = vehicles.get('er5')\n",
    "print(learner)\n",
    "\n"
   ]
  },
  {
   "cell_type": "markdown",
   "id": "fe0d200a",
   "metadata": {},
   "source": [
    "## Iterating Over a Dictionary"
   ]
  },
  {
   "cell_type": "code",
   "execution_count": 2,
   "id": "b496eb41",
   "metadata": {},
   "outputs": [
    {
     "name": "stdout",
     "output_type": "stream",
     "text": [
      "dream\n",
      "roadster\n",
      "er5\n",
      "can-am\n",
      "virago\n",
      "tenere\n",
      "jimny\n",
      "fiesta\n"
     ]
    }
   ],
   "source": [
    "for key in vehicles:\n",
    "    print(key)"
   ]
  },
  {
   "cell_type": "code",
   "execution_count": 7,
   "id": "50f22946",
   "metadata": {},
   "outputs": [
    {
     "name": "stdout",
     "output_type": "stream",
     "text": [
      "dream: Honda 250T\n",
      "roadster: BMW R1100\n",
      "er5: Kawasaki ER5\n",
      "can-am: Bombardier Can-Am 250\n",
      "virago: Yamaha XV250\n",
      "tenere: Yamaha XT650\n",
      "jimny: Suzuki Jimny 1.5\n",
      "fiesta: Ford Fiesta Ghia 1.4\n"
     ]
    }
   ],
   "source": [
    "# This works, but it is not efficient, so not Pythonic\n",
    "for key in vehicles:\n",
    "    print(key, vehicles[key], sep=\": \")"
   ]
  },
  {
   "cell_type": "code",
   "execution_count": 8,
   "id": "6b03ded8",
   "metadata": {},
   "outputs": [
    {
     "name": "stdout",
     "output_type": "stream",
     "text": [
      "dream: Honda 250T\n",
      "roadster: BMW R1100\n",
      "er5: Kawasaki ER5\n",
      "can-am: Bombardier Can-Am 250\n",
      "virago: Yamaha XV250\n",
      "tenere: Yamaha XT650\n",
      "jimny: Suzuki Jimny 1.5\n",
      "fiesta: Ford Fiesta Ghia 1.4\n"
     ]
    }
   ],
   "source": [
    "# This is the better way\n",
    "for key, value in vehicles.items():\n",
    "    print(f'{key}: {value}', sep=\": \")"
   ]
  },
  {
   "cell_type": "markdown",
   "id": "119a7743",
   "metadata": {},
   "source": [
    "**NOTE:** Use *enumerate* to iterate over sequences and *.items()* to iterate over dictionaries"
   ]
  },
  {
   "cell_type": "markdown",
   "id": "2edf16b7",
   "metadata": {},
   "source": [
    "## Adding Items to a Dictionary"
   ]
  },
  {
   "cell_type": "raw",
   "id": "12fd372c",
   "metadata": {},
   "source": []
  },
  {
   "cell_type": "markdown",
   "id": "9c25253c",
   "metadata": {},
   "source": []
  }
 ],
 "metadata": {
  "kernelspec": {
   "display_name": "Python 3 (ipykernel)",
   "language": "python",
   "name": "python3"
  },
  "language_info": {
   "codemirror_mode": {
    "name": "ipython",
    "version": 3
   },
   "file_extension": ".py",
   "mimetype": "text/x-python",
   "name": "python",
   "nbconvert_exporter": "python",
   "pygments_lexer": "ipython3",
   "version": "3.11.5"
  }
 },
 "nbformat": 4,
 "nbformat_minor": 5
}
