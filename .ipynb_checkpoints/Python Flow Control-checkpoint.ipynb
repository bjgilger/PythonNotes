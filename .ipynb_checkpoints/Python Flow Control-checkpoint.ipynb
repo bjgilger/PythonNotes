{
 "cells": [
  {
   "cell_type": "markdown",
   "id": "71a4f24b",
   "metadata": {},
   "source": [
    "# Controlling the Flow of a Python Program"
   ]
  },
  {
   "cell_type": "markdown",
   "id": "622f4b95",
   "metadata": {},
   "source": [
    "## Code Blocks"
   ]
  },
  {
   "cell_type": "markdown",
   "id": "91283ab3",
   "metadata": {},
   "source": [
    "Code blocks in Python are delineated by a colon followed by an indentation"
   ]
  },
  {
   "cell_type": "code",
   "execution_count": null,
   "id": "af532fc0",
   "metadata": {},
   "outputs": [],
   "source": [
    "for i in range(1, 13):\n",
    "    print(\"No. {0:2} squared is {1:<3} and cubed is {2:^4}\".format(i, i ** 2, i ** 3))\n",
    "print(\"*\" * 80)"
   ]
  },
  {
   "cell_type": "code",
   "execution_count": null,
   "id": "f8c216f3",
   "metadata": {},
   "outputs": [],
   "source": [
    "for i in range(1, 13):\n",
    "    print(\"No. {0:2} squared is {1:<3} and cubed is {2:^4}\".format(i, i ** 2, i ** 3))\n",
    "    print(\"*\" * 80)"
   ]
  },
  {
   "cell_type": "markdown",
   "id": "47a9592c",
   "metadata": {},
   "source": [
    "## If, elif, and else Flow Control"
   ]
  },
  {
   "cell_type": "markdown",
   "id": "40187ed9",
   "metadata": {},
   "source": [
    "The *else* and *elif* keywords control the flow through the program based on comparing values."
   ]
  },
  {
   "cell_type": "code",
   "execution_count": null,
   "id": "5a8fc998",
   "metadata": {},
   "outputs": [],
   "source": [
    "name = input(\"Please enter your name: \")\n",
    "age = int(input(f\"How old are you, {name}? \"))\n",
    "print(age)\n",
    "\n",
    "if age < 18:\n",
    "    print(f\"Please come back in {18 - age} years.\")\n",
    "elif age == 900:\n",
    "    print(\"Sorry, Yoda. You die in Return of the Jedi\")\n",
    "else:\n",
    "    print(\"You are old enough to vote\")\n",
    "    print(\"Here is your ballot.\")"
   ]
  },
  {
   "cell_type": "code",
   "execution_count": null,
   "id": "b75e4c91",
   "metadata": {},
   "outputs": [],
   "source": [
    "# Guessing game\n",
    "\n",
    "answer = 5\n",
    "\n",
    "print(\"Please guess a number between 1 and 10: \")\n",
    "guess = int(input())\n",
    "\n",
    "if guess < answer:\n",
    "    print(\"Too low. Please guess again\")\n",
    "    guess = int(input())\n",
    "# NOTE: one equal sign binds a valuable to a variable\n",
    "# two equal signs compare values for equality\n",
    "    if guess == answer:\n",
    "        print(\"You guessed it!\")\n",
    "    else:\n",
    "        print(\"Sorry, that's not right.\")\n",
    "elif guess > answer:\n",
    "    print(\"Too high. Please guess again\")\n",
    "    guess = int(input())\n",
    "    if guess == answer:\n",
    "        print(\"You guessed it!\")\n",
    "    else:\n",
    "        print(\"Sorry, that's not right.\")\n",
    "else:\n",
    "    print(\"You got it!\")\n"
   ]
  },
  {
   "cell_type": "markdown",
   "id": "30b14782",
   "metadata": {},
   "source": [
    "## Conditional Operators"
   ]
  },
  {
   "cell_type": "markdown",
   "id": "0b693f83",
   "metadata": {},
   "source": [
    "**The six value comparison operators are:**  \n",
    "| Condition | Symbol |\n",
    "|-----------|--------|\n",
    "| Less than | < |\n",
    "| Less than or equal to | <= |\n",
    "| Greater than | > |\n",
    "| Greater than or equal to | >= |\n",
    "| Equal to | == |\n",
    "| Not equal to | != |"
   ]
  },
  {
   "cell_type": "code",
   "execution_count": null,
   "id": "c1a1ebad",
   "metadata": {},
   "outputs": [],
   "source": [
    "# Guessing game -- better code\n",
    "\n",
    "answer = 5\n",
    "\n",
    "print(\"Please guess a number between 1 and 10: \")\n",
    "guess = int(input())\n",
    "\n",
    "if guess != answer:\n",
    "    if guess < answer:\n",
    "        print(\"Too low. Please guess again\")\n",
    "    else:    # Guess must be higher than answer\n",
    "        print(\"Too high. Please guess again\")\n",
    "    guess = int(input())\n",
    "# NOTE: one equal sign binds a valuable to a variable\n",
    "# two equal signs compare values for equality\n",
    "    if guess == answer:\n",
    "        print(\"You guessed it!\")\n",
    "    else:\n",
    "        print(\"Sorry, that's not right.\")\n",
    "else:\n",
    "    print(\"Bingo! you got it on the first try!\")\n",
    "        \n"
   ]
  },
  {
   "cell_type": "code",
   "execution_count": 4,
   "id": "c95cb047",
   "metadata": {},
   "outputs": [
    {
     "name": "stdout",
     "output_type": "stream",
     "text": [
      "Please guess a number between 1 and 10: \n",
      "5\n",
      "Bingo! you got it on the first try!\n"
     ]
    }
   ],
   "source": [
    "# Challenge: Guessing game a thrid way\n",
    "\n",
    "answer = 5\n",
    "\n",
    "print(\"Please guess a number between 1 and 10: \")\n",
    "guess = int(input())\n",
    "\n",
    "if guess == answer:\n",
    "    print(\"Bingo! you got it on the first try!\")\n",
    "else:\n",
    "    if guess < answer:\n",
    "        print(\"Too low. Please guess again\")\n",
    "    else:\n",
    "        print(\"Too high. Please guess again\")\n",
    "    guess = int(input())\n",
    "    if guess == answer:\n",
    "        print(\"You guessed it!\")\n",
    "    else:\n",
    "        print(\"Sorry, that's not right.\")\n",
    "\n",
    "    \n"
   ]
  },
  {
   "cell_type": "markdown",
   "id": "ab38bffa",
   "metadata": {},
   "source": [
    "## Using AND & OR in Conditions"
   ]
  },
  {
   "cell_type": "markdown",
   "id": "6aa146d5",
   "metadata": {},
   "source": [
    "| and | Truth | Table |\n",
    "|-------|-------|-------|\n",
    "| | True | False |\n",
    "| True | True | False |\n",
    "| False | False | False |"
   ]
  },
  {
   "cell_type": "code",
   "execution_count": 1,
   "id": "9425a40c",
   "metadata": {},
   "outputs": [
    {
     "name": "stdout",
     "output_type": "stream",
     "text": [
      "How old are you? 72\n",
      "Enjoy your free time.\n"
     ]
    }
   ],
   "source": [
    "age = int(input(\"How old are you? \"))\n",
    "# if age >= 16 and age <= 65:\n",
    "if 16 <= age <= 65:\n",
    "    print(\"Have a good day at work\")\n",
    "else:\n",
    "    print(\"Enjoy your free time.\")"
   ]
  },
  {
   "cell_type": "markdown",
   "id": "18d81eaa",
   "metadata": {},
   "source": [
    "| or | Truth | Table |\n",
    "|-------|-------|-------|\n",
    "| | True | False |\n",
    "| True | True | True |\n",
    "| False | True | False |"
   ]
  },
  {
   "cell_type": "code",
   "execution_count": 4,
   "id": "a00bd970",
   "metadata": {},
   "outputs": [
    {
     "name": "stdout",
     "output_type": "stream",
     "text": [
      "How old are you? 72\n",
      "Enjoy your free time\n"
     ]
    }
   ],
   "source": [
    "age = int(input(\"How old are you? \"))\n",
    "if age < 16 or age > 65:\n",
    "    print(\"Enjoy your free time\")\n",
    "else:\n",
    "    print(\"Have a good day at work.\")"
   ]
  },
  {
   "cell_type": "markdown",
   "id": "1db3f3fc",
   "metadata": {},
   "source": [
    "## Boolean Expressions"
   ]
  },
  {
   "cell_type": "markdown",
   "id": "abb62e87",
   "metadata": {},
   "source": [
    "A *boolean* can have one of two values, True or False.  \n",
    "Python evaluates a *boolean expression* and returns one of these values."
   ]
  },
  {
   "cell_type": "code",
   "execution_count": 12,
   "id": "14292533",
   "metadata": {},
   "outputs": [
    {
     "name": "stdout",
     "output_type": "stream",
     "text": [
      "Study Python.\n"
     ]
    }
   ],
   "source": [
    "day = \"Monday\"\n",
    "# day = \"Saturday\"\n",
    "temperature = 30\n",
    "raining = True\n",
    "# raining = False\n",
    "\n",
    "if (day == \"Saturday\" and temperature > 27) or not raining:\n",
    "    print(\"Go swimming!\")\n",
    "else:\n",
    "    print(\"Study Python.\")"
   ]
  },
  {
   "cell_type": "markdown",
   "id": "c5ab4f83",
   "metadata": {},
   "source": [
    "### Truth Value Testing"
   ]
  },
  {
   "cell_type": "markdown",
   "id": "5b76e225",
   "metadata": {},
   "source": [
    "An object os True by defaut _unless_ its class defines a **boolean** method that returns False or a **lemgth** method that returns zero.  \n",
    "These objects are considered False:\n",
    "* Constants defined to be False: *None* and *False*  \n",
    "* Zero of any numeric type: 0, 0.0, 0j, Decimal(0), Fraction(0, 1)  \n",
    "* Empty sequences and collections: '', (), [], {}, set(0), range(0)  \n",
    "Booleans with a false result always return *0* or *False*.  \n",
    "Booleans with a true result always return *1* or *True*.  "
   ]
  },
  {
   "cell_type": "code",
   "execution_count": 13,
   "id": "daa5cedc",
   "metadata": {},
   "outputs": [
    {
     "name": "stdout",
     "output_type": "stream",
     "text": [
      "False\n"
     ]
    }
   ],
   "source": [
    "if 0:\n",
    "    print(\"True\")\n",
    "else:\n",
    "    print(\"False\")"
   ]
  },
  {
   "cell_type": "code",
   "execution_count": 16,
   "id": "c6f01884",
   "metadata": {},
   "outputs": [
    {
     "name": "stdout",
     "output_type": "stream",
     "text": [
      "Please enter your name: \n",
      "Are you the man with no name?\n"
     ]
    }
   ],
   "source": [
    "name = input(\"Please enter your name: \")\n",
    "if name:\n",
    "    print(f\"Hello, {name}\")\n",
    "else:\n",
    "    print(\"Are you the man with no name?\")"
   ]
  },
  {
   "cell_type": "markdown",
   "id": "e5eee952",
   "metadata": {},
   "source": [
    "### in And not in"
   ]
  },
  {
   "cell_type": "markdown",
   "id": "5067dae1",
   "metadata": {},
   "source": [
    "We can check the content of sequences with **in** and **not in**.  \n",
    "If a character or sequence is contained in another sequence, **in** will return True.  \n",
    "If a character or sequence is contained in another sequence, **not in** will return False."
   ]
  },
  {
   "cell_type": "code",
   "execution_count": 19,
   "id": "a125fc38",
   "metadata": {},
   "outputs": [
    {
     "name": "stdout",
     "output_type": "stream",
     "text": [
      "Enter a character: b\n",
      "I don't need that letter.\n"
     ]
    }
   ],
   "source": [
    "parrot = \"Norwegian Blue\"\n",
    "\n",
    "letter = input(\"Enter a character: \")\n",
    "\n",
    "if letter in parrot:\n",
    "    print(\"{} is in {}\".format(letter, parrot))\n",
    "else:\n",
    "    print(\"I don't need that letter.\")"
   ]
  },
  {
   "cell_type": "code",
   "execution_count": 20,
   "id": "bcf92399",
   "metadata": {},
   "outputs": [
    {
     "name": "stdout",
     "output_type": "stream",
     "text": [
      "What would you like to do today? study python\n",
      "But I want to go to the cinema.\n"
     ]
    }
   ],
   "source": [
    "activity = input(\"What would you like to do today? \")\n",
    "\n",
    "if \"cinema\" not in activity:\n",
    "    print(\"But I want to go to the cinema.\")"
   ]
  },
  {
   "cell_type": "code",
   "execution_count": 29,
   "id": "c4df278c",
   "metadata": {},
   "outputs": [
    {
     "name": "stdout",
     "output_type": "stream",
     "text": [
      "What is your name? Joe\n",
      "How old are you? 45\n",
      "Sorry, Joe, you probably wouldn't enjoy it.\n"
     ]
    }
   ],
   "source": [
    "# CHALLENGE\n",
    "name = input(\"What is your name? \")\n",
    "age = int(input(\"How old are you? \"))\n",
    "\n",
    "if 18 <= age <= 30:\n",
    "    print(f\"{name}, You are invited to our Young Adult party!\")\n",
    "else:\n",
    "    print(f\"Sorry, {name}, you probably wouldn't enjoy it.\")"
   ]
  },
  {
   "cell_type": "markdown",
   "id": "4ea5f109",
   "metadata": {},
   "source": [
    "## Loops"
   ]
  },
  {
   "cell_type": "markdown",
   "id": "5a6be01a",
   "metadata": {},
   "source": [
    "### For loops"
   ]
  },
  {
   "cell_type": "code",
   "execution_count": 30,
   "id": "e5ca3f6b",
   "metadata": {},
   "outputs": [
    {
     "name": "stdout",
     "output_type": "stream",
     "text": [
      "N\n",
      "o\n",
      "r\n",
      "w\n",
      "e\n",
      "g\n",
      "i\n",
      "a\n",
      "n\n",
      " \n",
      "B\n",
      "l\n",
      "u\n",
      "e\n"
     ]
    }
   ],
   "source": [
    "parrot = \"Norwegian Blue\"\n",
    "\n",
    "for character in parrot:\n",
    "    print(character)"
   ]
  },
  {
   "cell_type": "code",
   "execution_count": 32,
   "id": "2fa3d0ba",
   "metadata": {},
   "outputs": [
    {
     "name": "stdout",
     "output_type": "stream",
     "text": [
      ",;: ,;\n",
      "[9, 223, 372, 36, 854, 775, 807]\n"
     ]
    }
   ],
   "source": [
    "number = \"9,223;372:036 854,775;807\"\n",
    "seperators = \"\"\n",
    "\n",
    "for char in number:\n",
    "    if not char.isnumeric():\n",
    "        seperators = seperators + char\n",
    "        \n",
    "print(seperators)\n",
    "\n",
    "values = \"\".join(char if char not in seperators else \" \" for char in number).split()\n",
    "print([int(val) for val in values])"
   ]
  },
  {
   "cell_type": "code",
   "execution_count": 2,
   "id": "193d73f2",
   "metadata": {},
   "outputs": [
    {
     "name": "stdout",
     "output_type": "stream",
     "text": [
      "i is now 1\n",
      "i is now 2\n",
      "i is now 3\n",
      "i is now 4\n",
      "i is now 5\n",
      "i is now 6\n",
      "i is now 7\n",
      "i is now 8\n",
      "i is now 9\n",
      "i is now 10\n"
     ]
    }
   ],
   "source": [
    "# Using range\n",
    "for i in range(1, 11):\n",
    "    print(f\"i is now {i}\")"
   ]
  },
  {
   "cell_type": "code",
   "execution_count": 3,
   "id": "e0569c27",
   "metadata": {},
   "outputs": [
    {
     "name": "stdout",
     "output_type": "stream",
     "text": [
      "i is now 1\n",
      "i is now 3\n",
      "i is now 5\n",
      "i is now 7\n",
      "i is now 9\n"
     ]
    }
   ],
   "source": [
    "# Range with step value\n",
    "for i in range(1, 11, 2):\n",
    "    print(f\"i is now {i}\")"
   ]
  },
  {
   "cell_type": "code",
   "execution_count": 4,
   "id": "00c90e0b",
   "metadata": {},
   "outputs": [
    {
     "name": "stdout",
     "output_type": "stream",
     "text": [
      "i is now 10\n",
      "i is now 8\n",
      "i is now 6\n",
      "i is now 4\n",
      "i is now 2\n"
     ]
    }
   ],
   "source": [
    "# Range with negative step value\n",
    "for i in range(10, 0, -2):\n",
    "    print(f\"i is now {i}\")"
   ]
  },
  {
   "cell_type": "markdown",
   "id": "f109bbd6",
   "metadata": {},
   "source": []
  }
 ],
 "metadata": {
  "kernelspec": {
   "display_name": "Python 3 (ipykernel)",
   "language": "python",
   "name": "python3"
  },
  "language_info": {
   "codemirror_mode": {
    "name": "ipython",
    "version": 3
   },
   "file_extension": ".py",
   "mimetype": "text/x-python",
   "name": "python",
   "nbconvert_exporter": "python",
   "pygments_lexer": "ipython3",
   "version": "3.11.5"
  }
 },
 "nbformat": 4,
 "nbformat_minor": 5
}
