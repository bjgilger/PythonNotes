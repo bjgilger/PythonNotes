{
 "cells": [
  {
   "cell_type": "markdown",
   "id": "b883e6fcc12eb613",
   "metadata": {},
   "source": [
    "# Functions - An Introduction"
   ]
  },
  {
   "cell_type": "markdown",
   "id": "59b478282439b939",
   "metadata": {},
   "source": [
    "**References:**   \n",
    "https://docs.python.org/3/library/functions.html  \n",
    "https://en.wikipedia.org/wiki/Evaluation_strategy#Call_by_sharing  \n"
   ]
  },
  {
   "cell_type": "code",
   "execution_count": 31,
   "id": "5772b87867f0a75d",
   "metadata": {
    "ExecuteTime": {
     "end_time": "2024-08-01T19:23:06.551587Z",
     "start_time": "2024-08-01T19:23:06.546623Z"
    }
   },
   "outputs": [
    {
     "name": "stdout",
     "output_type": "stream",
     "text": [
      "42.0\n"
     ]
    }
   ],
   "source": [
    "# Example\n",
    "def multiply():\n",
    "\tresult = 10.5 * 4\n",
    "\treturn result\n",
    "\n",
    "\n",
    "answer = multiply()\n",
    "print(answer)"
   ]
  },
  {
   "cell_type": "code",
   "execution_count": 32,
   "id": "18e5aa3841107a75",
   "metadata": {
    "ExecuteTime": {
     "end_time": "2024-08-01T19:23:06.561442Z",
     "start_time": "2024-08-01T19:23:06.557593Z"
    }
   },
   "outputs": [
    {
     "name": "stdout",
     "output_type": "stream",
     "text": [
      "42.0\n"
     ]
    }
   ],
   "source": [
    "# With parameters\n",
    "def multiply(x, y):\n",
    "\tresult = x * y\n",
    "\treturn result\n",
    "\n",
    "\n",
    "answer = multiply(10.5, 4)\n",
    "print(answer)"
   ]
  },
  {
   "cell_type": "code",
   "execution_count": 33,
   "id": "c100bcabed9d1da1",
   "metadata": {
    "ExecuteTime": {
     "end_time": "2024-08-01T19:23:06.593102Z",
     "start_time": "2024-08-01T19:23:06.589465Z"
    }
   },
   "outputs": [
    {
     "name": "stdout",
     "output_type": "stream",
     "text": [
      "42\n"
     ]
    }
   ],
   "source": [
    "# Note: Multiplying integers returns an integer. If one (or more) of the parameters is a float, a float is returned\n",
    "forty_two = multiply(6, 7)\n",
    "print(forty_two)"
   ]
  },
  {
   "cell_type": "code",
   "execution_count": 34,
   "id": "ca56bed92d173297",
   "metadata": {
    "ExecuteTime": {
     "end_time": "2024-08-01T19:23:06.603058Z",
     "start_time": "2024-08-01T19:23:06.594110Z"
    }
   },
   "outputs": [
    {
     "name": "stdout",
     "output_type": "stream",
     "text": [
      "2\n",
      "4\n",
      "6\n",
      "8\n"
     ]
    }
   ],
   "source": [
    "# Parameters can be a range of numbers\n",
    "for val in range(1, 5):\n",
    "\ttwo_times = multiply(2, val)\n",
    "\tprint(two_times)"
   ]
  },
  {
   "cell_type": "code",
   "execution_count": 35,
   "id": "905e2b0bf4a42124",
   "metadata": {
    "ExecuteTime": {
     "end_time": "2024-08-01T19:23:06.613073Z",
     "start_time": "2024-08-01T19:23:06.609064Z"
    }
   },
   "outputs": [
    {
     "name": "stdout",
     "output_type": "stream",
     "text": [
      "False\n"
     ]
    }
   ],
   "source": [
    "# Is it a Palindrome?\n",
    "def ispalindrome(string):\n",
    "\t# backwards = string[::-1]\n",
    "\t# return backwards == string\n",
    "\treturn string.casefold() == string[::-1].casefold()\n",
    "\n",
    "print(ispalindrome(\"Heidi\"))"
   ]
  },
  {
   "cell_type": "code",
   "execution_count": 36,
   "id": "e334a01dd485b5bd",
   "metadata": {
    "ExecuteTime": {
     "end_time": "2024-08-01T19:23:17.449487Z",
     "start_time": "2024-08-01T19:23:06.614080Z"
    }
   },
   "outputs": [
    {
     "name": "stdout",
     "output_type": "stream",
     "text": [
      "13 is not a palindrome\n"
     ]
    }
   ],
   "source": [
    "# Is a sentence a palindrome?\n",
    "def palindrome_sentence(sentence):\n",
    "\tstring = \"\"\n",
    "\tfor char in sentence:\n",
    "\t\tif char.isalnum():\n",
    "\t\t\tstring += char\n",
    "\t\n",
    "\treturn string.casefold() == string[::-1].casefold()\n",
    "\n",
    "\n",
    "word = input(\"Please enter a word or sentence to check: \")\n",
    "if palindrome_sentence(word):\n",
    "\tprint(f\"{word} is a palindrome\")\n",
    "else:\n",
    "\tprint(f\"{word} is not a palindrome\")\n",
    "\t\n"
   ]
  },
  {
   "cell_type": "code",
   "execution_count": 37,
   "id": "e47943b1f1c29ddb",
   "metadata": {
    "ExecuteTime": {
     "end_time": "2024-08-01T19:23:21.728720Z",
     "start_time": "2024-08-01T19:23:17.450492Z"
    }
   },
   "outputs": [
    {
     "name": "stdout",
     "output_type": "stream",
     "text": [
      " is a palindrome\n"
     ]
    }
   ],
   "source": [
    "# An improved version\n",
    "def palindrome_sentence(sentence):\n",
    "\tstring = \"\"\n",
    "\tfor char in sentence:\n",
    "\t\tif char.isalnum():\n",
    "\t\t\tstring += char\n",
    "\t\n",
    "\treturn ispalindrome(string)\n",
    "\n",
    "\n",
    "word = input(\"Please enter a word or sentence to check: \")\n",
    "if palindrome_sentence(word):\n",
    "\tprint(f\"{word} is a palindrome\")\n",
    "else:\n",
    "\tprint(f\"{word} is not a palindrome\")\n",
    "\t"
   ]
  },
  {
   "cell_type": "markdown",
   "id": "e068e4738e39f0fa",
   "metadata": {},
   "source": [
    "### Returning Values"
   ]
  },
  {
   "cell_type": "code",
   "execution_count": 2,
   "id": "afd986093486cad8",
   "metadata": {
    "ExecuteTime": {
     "end_time": "2024-08-01T20:15:02.923743Z",
     "start_time": "2024-08-01T20:14:51.784009Z"
    }
   },
   "outputs": [
    {
     "name": "stdout",
     "output_type": "stream",
     "text": [
      "618\n",
      "Please guess a number between 1 and 1000, or enter 0 to quit:\n",
      ": 0\n",
      "Quitting the game.\n"
     ]
    }
   ],
   "source": [
    "# Hi/Lo guessing game again\n",
    "import random\n",
    "\n",
    "\n",
    "def get_integer(prompt):\n",
    "    while True:\n",
    "        temp = input(prompt)\n",
    "        if temp.isnumeric():\n",
    "            return int(temp)\n",
    "        print(f\"{temp} is not a number. Please enter an integer.\")\n",
    "\n",
    "\n",
    "highest = 1000\n",
    "answer = random.randint(1, highest)\n",
    "count = 0\n",
    "guess = 0\n",
    "\n",
    "print(answer)  # TODO: Remove after testing\n",
    "\n",
    "print(f\"Please guess a number between 1 and {highest}, or enter 0 to quit:\")\n",
    "\n",
    "while guess != answer:\n",
    "    guess = get_integer(\": \")\n",
    "\n",
    "    if guess == 0:\n",
    "        print(\"Quitting the game.\")\n",
    "        break\n",
    "\n",
    "    count += 1\n",
    "\n",
    "    if guess == answer:\n",
    "        print(\"You guessed it!\")\n",
    "        print(f\"It took you {count} guesses!\")\n",
    "        break\n",
    "\n",
    "    if guess < answer:\n",
    "        print(\"Too low. Please guess again.\")\n",
    "    else:\n",
    "        print(\"Too high. Please guess again.\")\n",
    "\n"
   ]
  },
  {
   "cell_type": "code",
   "execution_count": 38,
   "id": "b5a33f4452d3efc8",
   "metadata": {
    "ExecuteTime": {
     "end_time": "2024-08-01T19:23:24.103453Z",
     "start_time": "2024-08-01T19:23:24.101209Z"
    }
   },
   "outputs": [],
   "source": []
  }
 ],
 "metadata": {
  "kernelspec": {
   "display_name": "Python 3 (ipykernel)",
   "language": "python",
   "name": "python3"
  },
  "language_info": {
   "codemirror_mode": {
    "name": "ipython",
    "version": 3
   },
   "file_extension": ".py",
   "mimetype": "text/x-python",
   "name": "python",
   "nbconvert_exporter": "python",
   "pygments_lexer": "ipython3",
   "version": "3.11.5"
  }
 },
 "nbformat": 4,
 "nbformat_minor": 5
}
