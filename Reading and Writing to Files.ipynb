{
 "cells": [
  {
   "cell_type": "markdown",
   "id": "d6145ad6",
   "metadata": {},
   "source": [
    "# Reading and Writing to Files"
   ]
  },
  {
   "cell_type": "code",
   "execution_count": 1,
   "id": "8563b38f",
   "metadata": {},
   "outputs": [
    {
     "name": "stdout",
     "output_type": "stream",
     "text": [
      "'Twas brillig, and the slithy toves\n",
      "Did gyre and gimble in the wabe;\n",
      "All mimsy were the borogoves,\n",
      "And the mome raths outgrabe.\n",
      "\n",
      "\"Beware the Jabberwock, my son!\n",
      "The jaws that bite, the claws that catch!\n",
      "Beware the Jubjub bird, and shun\n",
      "The frumious Bandersnatch!\"\n",
      "\n",
      "He took his vorpal sword in hand:\n",
      "Long time the manxome foe he soughtâ€”\n",
      "So rested he by the Tumtum tree,\n",
      "And stood awhile in thought.\n",
      "\n",
      "And as in uffish thought he stood,\n",
      "The Jabberwock, with eyes of flame,\n",
      "Came whiffling through the tulgey wood,\n",
      "And burbled as it came!\n",
      "\n",
      "One two! One two! And through and through\n",
      "The vorpal blade went snicker-snack!\n",
      "He left it dead, and with its head\n",
      "He went galumphing back.\n",
      "\n",
      "\"And hast thou slain the Jabberwock?\n",
      "Come to my arms, my beamish boy!\"\n",
      "\"O frabjous day! Callooh! Callay!\"\n",
      "He chortled in his joy.\n",
      "\n",
      "'Twas brillig, and the slithy toves\n",
      "Did gyre and gimble in the wabe;\n",
      "All mimsy were the borogoves,\n",
      "And the mome raths outgrabe.\n",
      "\n",
      "    â€“ Lewis Carroll\n"
     ]
    }
   ],
   "source": [
    "# Read poem\n",
    "jabber = open('Jabberwocky.txt', 'r')\n",
    "for line in jabber:\n",
    "    print(line, end='')\n",
    "jabber.close()"
   ]
  },
  {
   "cell_type": "code",
   "execution_count": 2,
   "id": "4920b59d",
   "metadata": {},
   "outputs": [
    {
     "name": "stdout",
     "output_type": "stream",
     "text": [
      "[\"'Twas brillig, and the slithy toves\\n\", 'Did gyre and gimble in the wabe;\\n', 'All mimsy were the borogoves,\\n', 'And the mome raths outgrabe.\\n', '\\n', '\"Beware the Jabberwock, my son!\\n', 'The jaws that bite, the claws that catch!\\n', 'Beware the Jubjub bird, and shun\\n', 'The frumious Bandersnatch!\"\\n', '\\n', 'He took his vorpal sword in hand:\\n', 'Long time the manxome foe he soughtâ€”\\n', 'So rested he by the Tumtum tree,\\n', 'And stood awhile in thought.\\n', '\\n', 'And as in uffish thought he stood,\\n', 'The Jabberwock, with eyes of flame,\\n', 'Came whiffling through the tulgey wood,\\n', 'And burbled as it came!\\n', '\\n', 'One two! One two! And through and through\\n', 'The vorpal blade went snicker-snack!\\n', 'He left it dead, and with its head\\n', 'He went galumphing back.\\n', '\\n', '\"And hast thou slain the Jabberwock?\\n', 'Come to my arms, my beamish boy!\"\\n', '\"O frabjous day! Callooh! Callay!\"\\n', 'He chortled in his joy.\\n', '\\n', \"'Twas brillig, and the slithy toves\\n\", 'Did gyre and gimble in the wabe;\\n', 'All mimsy were the borogoves,\\n', 'And the mome raths outgrabe.\\n', '\\n', '    â€“ Lewis Carroll\\n']\n"
     ]
    }
   ],
   "source": [
    "# A better way\n",
    "with open('Jabberwocky.txt', 'r') as jabber:\n",
    "#     for line in jabber:\n",
    "#         print(line.rstrip())\n",
    "    lines = jabber.readlines()\n",
    "    \n",
    "print(lines)"
   ]
  },
  {
   "cell_type": "markdown",
   "id": "4026ab16",
   "metadata": {},
   "source": [
    "strip(), lstrip(), and rstrip() remove characters from a line of text.  \n",
    "strip() removes characters from both the left and right sides.  \n",
    "lstrip() removes characters from the left side.  \n",
    "rstrip() removes characters from the right side.  \n",
    "By default, the characters stripped are white space.\n",
    "Stripping stops when it finds a character that is not in the characters to be stripped.  \n",
    "removeprefix() and removesuffix() were added to Python 3.9"
   ]
  },
  {
   "cell_type": "code",
   "execution_count": 3,
   "id": "d8c3e3ed",
   "metadata": {},
   "outputs": [
    {
     "name": "stdout",
     "output_type": "stream",
     "text": [
      "'Twas brillig, and the slithy toves\n"
     ]
    }
   ],
   "source": [
    "filename = 'Jabberwocky.txt'\n",
    "with open(filename) as poem:\n",
    "    first = poem.readline().rstrip()\n",
    "    \n",
    "print(first)"
   ]
  },
  {
   "cell_type": "code",
   "execution_count": 4,
   "id": "8622c7b3",
   "metadata": {},
   "outputs": [
    {
     "name": "stdout",
     "output_type": "stream",
     "text": [
      "Twas brillig, and the slithy toves\n"
     ]
    }
   ],
   "source": [
    "chars = \"'\"\n",
    "no_apostrophe = first.strip(chars)\n",
    "print(no_apostrophe)"
   ]
  },
  {
   "cell_type": "code",
   "execution_count": 5,
   "id": "a8eed55b",
   "metadata": {},
   "outputs": [
    {
     "name": "stdout",
     "output_type": "stream",
     "text": [
      " brillig, and the slithy to\n"
     ]
    }
   ],
   "source": [
    "chars = \"'Twasebv\"  # Note: space not in this group\n",
    "no_apostrophe = first.strip(chars)\n",
    "print(no_apostrophe)"
   ]
  },
  {
   "cell_type": "code",
   "execution_count": 6,
   "id": "330ec6f7",
   "metadata": {},
   "outputs": [
    {
     "name": "stdout",
     "output_type": "stream",
     "text": [
      "rillig, and the slithy to\n"
     ]
    }
   ],
   "source": [
    "chars = \"' Twasebv\"  # Note: space is in this group\n",
    "no_apostrophe = first.strip(chars)\n",
    "print(no_apostrophe)"
   ]
  },
  {
   "cell_type": "markdown",
   "id": "c127637d",
   "metadata": {},
   "source": [
    "### Parsing Data From a Text File"
   ]
  },
  {
   "cell_type": "code",
   "execution_count": 8,
   "id": "028a6f58",
   "metadata": {},
   "outputs": [
    {
     "name": "stdout",
     "output_type": "stream",
     "text": [
      "{'name': 'Zimbabwe', 'capital': ' Harare', 'country_code': 'ZW', 'cc3': 'ZWE', 'dialing_code': '+263', 'timezone': 'UTC+02:00', 'currency': 'Zimbabwean dollar'}\n"
     ]
    }
   ],
   "source": [
    "input_filename = 'country_info.txt'\n",
    "with open(input_filename) as country_file:\n",
    "    country_file.readline()\n",
    "    for row in country_file:\n",
    "        data = row.strip(\"\\n\").split(\"|\")\n",
    "        country, capital, code, code3, dialing, timezone, currency = data\n",
    "        # print(country, capital, code, code3, dialing, timezone, currency, sep='\\n\\t')\n",
    "        country_dict = {\n",
    "            'name': country,\n",
    "            'capital': capital,\n",
    "            'country_code': code,\n",
    "            'cc3': code3,\n",
    "            'dialing_code': dialing,\n",
    "            'timezone': timezone,\n",
    "            'currency':currency,\n",
    "        }\n",
    "print(country_dict)"
   ]
  },
  {
   "cell_type": "markdown",
   "id": "0f551618",
   "metadata": {},
   "source": [
    "### Printing Data to a Text File"
   ]
  },
  {
   "cell_type": "code",
   "execution_count": 9,
   "id": "f685e6e1",
   "metadata": {},
   "outputs": [],
   "source": [
    "data = [\n",
    "    \"Andromeda - Shrub\",\n",
    "    \"Bellflower - Flower\",\n",
    "    \"China Pink - Flower\",\n",
    "    \"Daffodil - Flower\",\n",
    "    \"Evening Primrose - Flower\",\n",
    "    \"French Marigold - Flower\",\n",
    "    \"Hydrangea - Shrub\",\n",
    "    \"Iris - Flower\",\n",
    "    \"Japanese Camellia - Shrub\",\n",
    "    \"Lavender - Shrub\",\n",
    "    \"Lilac- Shrub\",\n",
    "    \"Magnolia - Shrub\",\n",
    "    \"Peony - Shrub\",\n",
    "    \"Queen Anne's Lace - Flower\",\n",
    "    \"Red Hot Poker - Flower\",\n",
    "    \"Snapdragon - Flower\",\n",
    "    \"Sunflower - Flower\",\n",
    "    \"Tiger Lily - Flower\",\n",
    "    \"Witch Hazel - Shrub\",\n",
    "]\n",
    "\n",
    "\n",
    "plants_filename = \"flowers_print.txt\""
   ]
  },
  {
   "cell_type": "code",
   "execution_count": 10,
   "id": "82d1e3d0",
   "metadata": {},
   "outputs": [],
   "source": [
    "with open(plants_filename, \"w\") as plants:\n",
    "    for plant in data:\n",
    "        print(plant, file=plants)"
   ]
  },
  {
   "cell_type": "code",
   "execution_count": 14,
   "id": "1920fcf4",
   "metadata": {},
   "outputs": [
    {
     "name": "stdout",
     "output_type": "stream",
     "text": [
      "['Andromeda - Shrub', 'Bellflower - Flower', 'China Pink - Flower', 'Daffodil - Flower', 'Evening Primrose - Flower', 'French Marigold - Flower', 'Hydrangea - Shrub', 'Iris - Flower', 'Japanese Camellia - Shrub', 'Lavender - Shrub', 'Lilac- Shrub', 'Magnolia - Shrub', 'Peony - Shrub', \"Queen Anne's Lace - Flower\", 'Red Hot Poker - Flower', 'Snapdragon - Flower', 'Sunflower - Flower', 'Tiger Lily - Flower', 'Witch Hazel - Shrub']\n"
     ]
    }
   ],
   "source": [
    "new_list = []\n",
    "with open(plants_filename) as plants:\n",
    "    for plant in data:\n",
    "        new_list.append(plant.rstrip())\n",
    "\n",
    "print(new_list)"
   ]
  },
  {
   "cell_type": "markdown",
   "id": "2f5e04f7",
   "metadata": {},
   "source": [
    "### Reading Writing to JSON Files"
   ]
  },
  {
   "cell_type": "code",
   "execution_count": 15,
   "id": "f3379645",
   "metadata": {},
   "outputs": [],
   "source": [
    "import json\n",
    "\n",
    "languages = [\n",
    "    ('ABC', 1987),\n",
    "    ('Algol 68', 1968),\n",
    "    ('APL', 1962),\n",
    "    ('C', 1973),\n",
    "    ('Haskell', 1990),\n",
    "    ('Lisp', 1958),\n",
    "    ('Modula-2', 1977),\n",
    "    ('Perl', 1987),\n",
    "]"
   ]
  },
  {
   "cell_type": "code",
   "execution_count": 16,
   "id": "9638ec00",
   "metadata": {},
   "outputs": [],
   "source": [
    "# with open('languages.json', 'w', encoding='utf-8') as testfile:\n",
    "#     json.dump(languages, testfile)"
   ]
  },
  {
   "cell_type": "code",
   "execution_count": 17,
   "id": "a10cf29a",
   "metadata": {},
   "outputs": [
    {
     "name": "stdout",
     "output_type": "stream",
     "text": [
      "[['ABC', 1987], ['Algol 68', 1968], ['APL', 1962], ['C', 1973], ['Haskell', 1990], ['Lisp', 1958], ['Modula-2', 1977], ['Perl', 1987]]\n",
      "['APL', 1962]\n"
     ]
    }
   ],
   "source": [
    "with open('languages.json', 'r', encoding='utf-8') as testfile:\n",
    "    data = json.load(testfile)\n",
    "print(data)\n",
    "print(data[2])"
   ]
  },
  {
   "cell_type": "markdown",
   "id": "6c790644",
   "metadata": {},
   "source": [
    "### CSV Files"
   ]
  },
  {
   "cell_type": "markdown",
   "id": "cc79865f",
   "metadata": {},
   "source": [
    "#### Reading CSV files"
   ]
  },
  {
   "cell_type": "code",
   "execution_count": 23,
   "id": "f3386d43",
   "metadata": {},
   "outputs": [
    {
     "name": "stdout",
     "output_type": "stream",
     "text": [
      "Column Headers: ['Rank', 'Country', 'Gold', 'Silver', 'Bronze', 'Total']\n",
      "['1', 'United States', '39', '41', '33', '113']\n",
      "['2', 'China', '38', '32', '18', '88']\n",
      "['3', 'Japan', '27', '14', '17', '58']\n",
      "['4', 'Great Britain', '22', '21', '22', '65']\n",
      "['5', 'ROC', '20', '28', '23', '71']\n",
      "['6', 'Australia', '17', '7', '22', '46']\n",
      "['7', 'Netherlands', '10', '12', '14', '36']\n",
      "['8', 'France', '10', '12', '11', '33']\n",
      "['9', 'Germany', '10', '11', '16', '37']\n",
      "['10', 'Italy', '10', '10', '20', '40']\n",
      "['11', 'Canada', '7', '6', '11', '24']\n",
      "['12', 'Brazil', '7', '6', '8', '21']\n",
      "['13', 'New Zealand', '7', '6', '7', '20']\n",
      "['14', 'Cuba', '7', '3', '5', '15']\n",
      "['15', 'Hungary', '6', '7', '7', '20']\n",
      "['16', 'South Korea', '6', '4', '10', '20']\n",
      "['17', 'Poland', '4', '5', '5', '14']\n",
      "['18', 'Czech Republic', '4', '4', '3', '11']\n",
      "['19', 'Kenya', '4', '4', '2', '10']\n",
      "['20', 'Norway', '4', '2', '2', '8']\n",
      "['21', 'Jamaica', '4', '1', '4', '9']\n",
      "['22', 'Spain', '3', '8', '6', '17']\n",
      "['23', 'Sweden', '3', '6', '0', '9']\n",
      "['24', 'Switzerland', '3', '4', '6', '13']\n",
      "['25', 'Denmark', '3', '4', '4', '11']\n",
      "['26', 'Croatia', '3', '3', '2', '8']\n",
      "['27', 'Iran', '3', '2', '2', '7']\n",
      "['28', 'Serbia', '3', '1', '5', '9']\n",
      "['29', 'Belgium', '3', '1', '3', '7']\n",
      "['30', 'Bulgaria', '3', '1', '2', '6']\n",
      "['31', 'Slovenia', '3', '1', '1', '5']\n",
      "['32', 'Uzbekistan', '3', '0', '2', '5']\n",
      "['33', 'Georgia', '2', '5', '1', '8']\n",
      "['34', 'Chinese Taipei', '2', '4', '6', '12']\n",
      "['35', 'Turkey', '2', '2', '9', '13']\n",
      "['36', 'Greece', '2', '1', '1', '4']\n",
      "['36', 'Uganda', '2', '1', '1', '4']\n",
      "['38', 'Ecuador', '2', '1', '0', '3']\n",
      "['39', 'Ireland', '2', '0', '2', '4']\n",
      "['39', 'Israel', '2', '0', '2', '4']\n",
      "['41', 'Qatar', '2', '0', '1', '3']\n",
      "['42', 'Bahamas', '2', '0', '0', '2']\n",
      "['42', 'Kosovo', '2', '0', '0', '2']\n",
      "['44', 'Ukraine', '1', '6', '12', '19']\n",
      "['45', 'Belarus', '1', '3', '3', '7']\n",
      "['46', 'Romania', '1', '3', '0', '4']\n",
      "['46', 'Venezuela', '1', '3', '0', '4']\n",
      "['48', 'India', '1', '2', '4', '7']\n",
      "['49', 'Hong Kong', '1', '2', '3', '6']\n",
      "['50', 'Philippines', '1', '2', '1', '4']\n",
      "['50', 'Slovakia', '1', '2', '1', '4']\n",
      "['52', 'South Africa', '1', '2', '0', '3']\n",
      "['53', 'Austria', '1', '1', '5', '7']\n",
      "['54', 'Egypt', '1', '1', '4', '6']\n",
      "['55', 'Indonesia', '1', '1', '3', '5']\n",
      "['56', 'Ethiopia', '1', '1', '2', '4']\n",
      "['56', 'Portugal', '1', '1', '2', '4']\n",
      "['58', 'Tunisia', '1', '1', '0', '2']\n",
      "['59', 'Estonia', '1', '0', '1', '2']\n",
      "['59', 'Fiji', '1', '0', '1', '2']\n",
      "['59', 'Latvia', '1', '0', '1', '2']\n",
      "['59', 'Thailand', '1', '0', '1', '2']\n",
      "['63', 'Bermuda', '1', '0', '0', '1']\n",
      "['63', 'Morocco', '1', '0', '0', '1']\n",
      "['63', 'Puerto Rico', '1', '0', '0', '1']\n",
      "['66', 'Colombia', '0', '4', '1', '5']\n",
      "['67', 'Azerbaijan', '0', '3', '4', '7']\n",
      "['68', 'Dominican Republic', '0', '3', '2', '5']\n",
      "['69', 'Armenia', '0', '2', '2', '4']\n",
      "['70', 'Kyrgyzstan', '0', '2', '1', '3']\n",
      "['71', 'Mongolia', '0', '1', '3', '4']\n",
      "['72', 'Argentina', '0', '1', '2', '3']\n",
      "['72', 'San Marino', '0', '1', '2', '3']\n",
      "['74', 'Jordan', '0', '1', '1', '2']\n",
      "['74', 'Malaysia', '0', '1', '1', '2']\n",
      "['74', 'Nigeria', '0', '1', '1', '2']\n",
      "['77', 'Bahrain', '0', '1', '0', '1']\n",
      "['77', 'Saudi Arabia', '0', '1', '0', '1']\n",
      "['77', 'Lithuania', '0', '1', '0', '1']\n",
      "['77', 'North Macedonia', '0', '1', '0', '1']\n",
      "['77', 'Namibia', '0', '1', '0', '1']\n",
      "['77', 'Turkmenistan', '0', '1', '0', '1']\n",
      "['83', 'Kazakhstan', '0', '0', '8', '8']\n",
      "['84', 'Mexico', '0', '0', '4', '4']\n",
      "['85', 'Finland', '0', '0', '2', '2']\n",
      "['86', 'Botswana', '0', '0', '1', '1']\n",
      "['86', 'Burkina Faso', '0', '0', '1', '1']\n",
      "['86', \"Côte d'Ivoire\", '0', '0', '1', '1']\n",
      "['86', 'Ghana', '0', '0', '1', '1']\n",
      "['86', 'Grenada', '0', '0', '1', '1']\n",
      "['86', 'Kuwait', '0', '0', '1', '1']\n",
      "['86', 'Moldova', '0', '0', '1', '1']\n",
      "['86', 'Syria', '0', '0', '1', '1']\n"
     ]
    }
   ],
   "source": [
    "import csv\n",
    "\n",
    "csv_filename = r'C:\\Users\\johng\\Documents\\PythonProjects\\pythonLearningMasterclass\\OlympicMedals_2020.csv'\n",
    "\n",
    "with open(csv_filename, encoding='utf-8', newline='') as csvfile:\n",
    "    headers = csvfile.readline().strip('\\n').split(',')\n",
    "    print(f\"Column Headers: {headers}\")\n",
    "    reader = csv.reader(csvfile, delimiter=',')\n",
    "    for row in reader:\n",
    "        print(row)"
   ]
  },
  {
   "cell_type": "code",
   "execution_count": 24,
   "id": "768def5f",
   "metadata": {},
   "outputs": [
    {
     "name": "stdout",
     "output_type": "stream",
     "text": [
      "['Country', 'Capital', 'CC', 'CC3', 'IAC', 'TimeZone', 'Currency']\n",
      "['Afghanistan', 'Kabul', 'AF', 'AFG', '+93', 'UTC+04:30', 'Afghan afghani']\n",
      "['Aland Islands', 'Mariehamn', 'AX', 'ALA', '+358', 'UTC+02:00', 'Euro']\n",
      "['Albania', 'Tirana', 'AL', 'ALB', '+355', 'UTC+01:00', 'Albanian lek']\n",
      "['Algeria', 'Algiers', 'DZ', 'DZA', '+213', 'UTC', 'Algerian dinar']\n",
      "['American Samoa', 'Pago Pago', 'AS', 'ASM', '+1 684', 'UTC-11:00', '']\n",
      "['Andorra', 'Andorra la Vella', 'AD', 'AND', '+376', 'UTC+01:00', 'Euro']\n",
      "['Angola', 'Luanda', 'AO', 'AGO', '+244', 'UTC+01:00', 'Angolan kwanza']\n",
      "['Anguilla', 'The Valley', 'AI', 'AIA', '+1 264', 'UTC-04:00', 'East Caribbean dollar']\n",
      "['Antarctica', '', 'AQ', 'ATA', '', '', '']\n",
      "['Antigua and Barbuda', \"St. John's\", 'AG', 'ATG', '+1 268', 'UTC-04:00', 'East Caribbean dollar']\n",
      "['Argentina', 'Buenos Aires', 'AR', 'ARG', '+54', 'UTC-03:00', 'Argentine peso']\n",
      "['Armenia', 'Yerevan', 'AM', 'ARM', '+374', 'UTC+04:00', 'Armenian dram']\n",
      "['Aruba', 'Oranjestad', 'AW', 'ABW', '+297', 'UTC-04:00', 'Aruban florin']\n",
      "['Australia', 'Canberra', 'AU', 'AUS', '+61', 'UTC+07:00 - UTC+10:00', 'Australian dollar']\n",
      "['Austria', 'Vienna', 'AT', 'AUT', '+43', 'UTC+01:00', 'Euro']\n",
      "['Azerbaijan', 'Baku', 'AZ', 'AZE', '+994', 'UTC+04:00', 'Azerbaijani manat']\n",
      "['Bahamas', 'Nassau', 'BS', 'BHS', '+1 242', 'UTC-05:00', 'Bahamian dollar']\n",
      "['Bahrain', 'Manama', 'BH', 'BHR', '+973', 'UTC+03:00', 'Bahraini dinar']\n",
      "['Bangladesh', 'Dhaka', 'BD', 'BGD', '+880', 'UTC+06:00', 'Bangladeshi taka']\n",
      "['Barbados', 'Bridgetown', 'BB', 'BRB', '+1 246', 'UTC-04:00', 'Barbadian dollar']\n",
      "['Belarus', 'Minsk', 'BY', 'BLR', '+375', 'UTC+03:00', 'Belarusian ruble']\n",
      "['Belgium', 'Brussels', 'BE', 'BEL', '+32', 'UTC+01:00', 'Euro']\n",
      "['Belize', 'Belmopan', 'BZ', 'BLZ', '+501', 'UTC-06:00', 'Belize dollar']\n",
      "['Benin', 'Porto-Novo', 'BJ', 'BEN', '+229', 'UTC+01:00', 'West African CFA franc']\n",
      "['Bermuda', 'Hamilton', 'BM', 'BMU', '+1 441', 'UTC-04:00', 'Bermudian dollar']\n",
      "['Bhutan', 'Thimphu', 'BT', 'BTN', '+975', 'UTC+05:30', 'Bhutanese ngultrum']\n",
      "['Bolivia', 'Sucre', 'BO', 'BOL', '+591', 'UTC-04:00', 'Bolivian boliviano']\n",
      "['Bonaire', 'Kralendijk', 'BQ', 'BES', '+599', 'UTC-04:00', 'United States dollar']\n",
      "['Bosnia and Herzegovina', 'Sarajevo', 'BA', 'BIH', '+387', 'UTC+01:00', 'Bosnia and Herzegovina convertible mark']\n",
      "['Botswana', 'Gaborone', 'BW', 'BWA', '+267', 'UTC+02:00', 'Botswana pula']\n",
      "['Bouvet Island', '', 'BV', 'BVT', '', 'UTC+01:00', '']\n",
      "['Brazil', 'Brasília', 'BR', 'BRA', '+55', 'UTC-05:00 - UTC-03:00', 'Brazilian real']\n",
      "['British Indian Ocean Territory', 'Diego Garcia', 'IO', 'IOT', '+246', 'UTC+06', 'United States dollar']\n",
      "['Brunei', 'Bandar Seri Begawan', 'BN', 'BRN', '+673', 'UTC+08:00', 'Brunei dollar']\n",
      "['Bulgaria', 'Sofia', 'BG', 'BGR', '+359', 'UTC+02:00', 'Bulgarian lev']\n",
      "['Burkina Faso', 'Ouagadougou', 'BF', 'BFA', '+226', 'UTC', 'West African CFA franc']\n",
      "['Burundi', 'Bujumbura', 'BI', 'BDI', '+257', 'UTC+02:00', 'Burundian franc']\n",
      "['Cambodia', 'Phnom Penh', 'KH', 'KHM', '+855', 'UTC+07:00', 'Cambodian riel']\n",
      "['Cameroon', 'Yaoundé', 'CM', 'CMR', '+237', 'UTC+01:00', 'Central African CFA franc']\n",
      "['Canada', 'Ottawa', 'CA', 'CAN', '+1', 'UTC-08:00 - UTC-04:00', 'Canadian dollar']\n",
      "['Cape Verde', 'Praia', 'CV', 'CPV', '+238', 'UTC-01:00', 'Cape Verdean escudo']\n",
      "['Cayman Islands', 'George Town', 'KY', 'CYM', '+1 345', 'UTC-05:00', 'Cayman Islands dollar']\n",
      "['Central African Republic', 'Bangui', 'CF', 'CAF', '+236', 'UTC+01:00', 'Central African CFA franc']\n",
      "['Chad', \"N'Djamena\", 'TD', 'TCD', '+235', 'UTC+01:00', 'Central African CFA franc']\n",
      "['Chile', 'Santiago', 'CL', 'CHL', '+56', 'UTC-04:00', 'Chilean peso']\n",
      "['China', 'Beijing', 'CN', 'CHN', '+86', 'UTC+08:00', 'Chinese yuan']\n",
      "['Christmas Island', 'Flying Fish Cove', 'CX', 'CXR', '+61 8 9164', 'UTC+07', 'Australian dollar']\n",
      "['Cocos (Keeling) Islands', 'West Island', 'CC', 'CCK', '+61 8 9162', 'UTC+06:30', 'Australian dollar']\n",
      "['Colombia', 'Bogotá', 'CO', 'COL', '+57', 'UTC-05:00', 'Colombian peso']\n",
      "['Comoros', 'Moroni', 'KM', 'COM', '+269', 'UTC+03:00', 'Comorian franc']\n",
      "['Congo, Republic of the', 'Brazzaville', 'CG', 'COG', '+242', 'UTC+01:00', 'Central African CFA franc']\n",
      "['Congo, Democratic Republic of the', 'Kinshasa', 'CD', 'COD', '+243', 'UTC+01:00 - UTC+02:00', 'Congolese franc']\n",
      "['Cook Islands', 'Avarua', 'CK', 'COK', '+682', 'UTC-10:00', 'New Zealand dollar']\n",
      "['Costa Rica', 'San José', 'CR', 'CRI', '+506', 'UTC-06:00', 'Costa Rican colón']\n",
      "[\"Côte d'Ivoire\", 'Yamoussoukro', 'CI', 'CIV', '+225', 'UTC', 'West African CFA franc']\n",
      "['Croatia', 'Zagreb', 'HR', 'HRV', '+385', 'UTC+01:00', 'Croatian kuna']\n",
      "['Cuba', 'Havana', 'CU', 'CUB', '+53', 'UTC-03:00', 'Cuban convertible peso']\n",
      "['Curacao', 'Willemstad', 'CW', 'CUW', '+599 9', 'UTC-04:00', 'Netherlands Antillean guilder']\n",
      "['Cyprus', 'Nicosia', 'CY', 'CYP', '+357', 'UTC+02:00', 'Euro']\n",
      "['Czech Republic', 'Prague', 'CZ', 'CZE', '+420', 'UTC+01:00', 'Czech koruna']\n",
      "['Denmark', 'Copenhagen', 'DK', 'DNK', '+45', 'UTC+01:00', 'Danish krone']\n",
      "['Djibouti', 'Djibouti', 'DJ', 'DJI', '+253', 'UTC+03:00', 'Djiboutian franc']\n",
      "['Dominica', 'Roseau', 'DM', 'DMA', '+1 767', 'UTC-04:00', 'East Caribbean dollar']\n",
      "['Dominican Republic', 'Santo Domingo', 'DO', 'DOM', '+1 809/829/849', 'UTC-04:00', 'Dominican peso']\n",
      "['East Timor', 'Dili', 'TL', 'TLS', '+670', 'UTC+09', 'United States dollar']\n",
      "['Ecuador', 'Quito', 'EC', 'ECU', '+593', 'UTC-05:00', 'United States dollar']\n",
      "['Egypt', 'Cairo', 'EG', 'EGY', '+20', 'UTC+02:00', 'Egyptian pound']\n",
      "['El Salvador', 'San Salvador', 'SV', 'SLV', '+503', 'UTC-06:00', 'Salvadoran colón']\n",
      "['Equatorial Guinea', 'Malabo', 'GQ', 'GNQ', '+240', 'UTC+01:00', 'Central African CFA franc']\n",
      "['Eritrea', 'Asmara', 'ER', 'ERI', '+291', 'UTC+03:00', 'Eritrean nakfa']\n",
      "['Estonia', 'Tallinn', 'EE', 'EST', '+372', 'UTC+03:00', 'Euro']\n",
      "['Ethiopia', 'Addis Ababa', 'ET', 'ETH', '+251', 'UTC+03:00', 'Ethiopian birr']\n",
      "['Falkland Islands (Malvinas)', 'Stanley', 'FK', 'FLK', '+500', 'UTC-04:00', 'Falkland Islands pound']\n",
      "['Faroe Islands', 'Tórshavn', 'FO', 'FRO', '+298', 'UTC', 'Danish krone']\n",
      "['Fiji', 'Suva', 'FJ', 'FJI', '+679', 'UTC+12:00', 'Fijian dollar']\n",
      "['Finland', 'Helsinki', 'FI', 'FIN', '+358', 'UTC+02:00', 'Euro']\n",
      "['France', 'Paris', 'FR', 'FRA', '+33', 'UTC+01:00', 'Euro']\n",
      "['French Guiana', 'Cayenne', 'GF', 'GUF', '+594', 'UTC-01:00', 'Euro']\n",
      "['French Polynesia', 'Papeete', 'PF', 'PYF', '+689', 'UTC-10:00', 'CFP franc']\n",
      "['French Southern Territories', 'Port-aux-Français', 'TF', 'ATF', '', 'UTC+05:00', 'Euro']\n",
      "['Gabon', 'Libreville', 'GA', 'GAB', '+241', 'UTC+01:00', 'Central African CFA franc']\n",
      "['Gambia', 'Banjul', 'GM', 'GMB', '+220', 'UTC', 'Gambian dalasi']\n",
      "['Georgia', 'Tbilisi', 'GE', 'GEO', '+995', 'UTC+04:00', 'Georgian lari']\n",
      "['Germany', 'Berlin', 'DE', 'DEU', '+49', 'UTC+01:00', 'Euro']\n",
      "['Ghana', 'Accra', 'GH', 'GHA', '+233', 'UTC', 'Ghanaian cedi']\n",
      "['Gibraltar', 'Gibraltar', 'GI', 'GIB', '+350', 'UTC+01:00', 'Gibraltar pound']\n",
      "['Greece', 'Athens', 'GR', 'GRC', '+30', 'UTC+02:00', 'Euro']\n",
      "['Greenland', 'Nuuk', 'GL', 'GRL', '+299', 'UTC-03:00', 'Danish krone']\n",
      "['Grenada', \"St. George's\", 'GD', 'GRD', '+1 473', 'UTC-04:00', 'East Caribbean dollar']\n",
      "['Guadeloupe', 'Basse-Terre', 'GP', 'GLP', '+590', 'UTC-04:00', 'Euro']\n",
      "['Guam', 'Hagåtña', 'GU', 'GUM', '+1 671', 'UTC+10:00', 'United States dollar']\n",
      "['Guatemala', 'Guatemala City', 'GT', 'GTM', '+502', 'UTC-06:00', 'Guatemalan quetzal']\n",
      "['Guernsey', 'St. Peter Port', 'GG', 'GGY', '+44 1481', 'UTC', 'British pound']\n",
      "['Guinea', 'Conakry', 'GN', 'GIN', '+224', 'UTC', 'Guinean franc']\n",
      "['Guinea-Bissau', 'Bissau', 'GW', 'GNB', '+245', 'UTC', 'West African CFA franc']\n",
      "['Guyana', 'Georgetown', 'GY', 'GUY', '+592', 'UTC-03:00', 'Guyanese dollar']\n",
      "['Haiti', 'Port-au-Prince', 'HT', 'HTI', '+509', 'UTC-05:00', 'Haitian gourde']\n",
      "['Heard Island and McDonald Islands', '', 'HM', 'HMD', '', 'UTC+05', '']\n",
      "['Honduras', 'Tegucigalpa', 'HN', 'HND', '+504', 'UTC-06:00', 'Honduran lempira']\n",
      "['Hong Kong', '', 'HK', 'HKG', '+852', 'UTC+08:00', 'Hong Kong dollar']\n",
      "['Hungary', 'Budapest', 'HU', 'HUN', '+36', 'UTC+01:00', 'Hungarian forint']\n",
      "['Iceland', 'Reykjavík', 'IS', 'ISL', '+354', 'UTC', 'Icelandic króna']\n",
      "['India', 'New Delhi', 'IN', 'IND', '+91', 'UTC+05:30', 'Indian rupee']\n",
      "['Indonesia', 'Jakarta', 'ID', 'IDN', '+62', 'UTC+07:00 - UTC+09:00', 'Indonesian rupiah']\n",
      "['Iran', 'Tehran', 'IR', 'IRN', '+98', 'UTC+03:30', 'Iranian rial']\n",
      "['Iraq', 'Baghdad', 'IQ', 'IRQ', '+964', 'UTC+03:00', 'Iraqi dinar']\n",
      "['Ireland', 'Dublin', 'IE', 'IRL', '+353', 'UTC', 'Euro']\n",
      "['Isle of Man', 'Douglas', 'IM', 'IMN', '+44 1624', 'UTC', 'British pound']\n",
      "['Israel', 'Jerusalem', 'IL', 'ISR', '+972', 'UTC+02:00', 'Israeli new shekel']\n",
      "['Italy', 'Rome', 'IT', 'ITA', '+39', 'UTC+01:00', 'Euro']\n",
      "['Jamaica', 'Kingston', 'JM', 'JAM', '+1 876', 'UTC-05:00', 'Jamaican dollar']\n",
      "['Japan', 'Tokyo', 'JP', 'JPN', '+81', 'UTC+09:00', 'Japanese yen']\n",
      "['Jersey', 'St. Helier', 'JE', 'JEY', '+44 1534', 'UTC', 'British pound']\n",
      "['Jordan', 'Amman', 'JO', 'JOR', '+962', 'UTC+02:00', 'Jordanian dinar']\n",
      "['Kazakhstan', 'Astana', 'KZ', 'KAZ', '+7 6xx/7xx', 'UTC+06:00', 'Kazakhstani tenge']\n",
      "['Kenya', 'Nairobi', 'KE', 'KEN', '+254', 'UTC+03:00', 'Kenyan shilling']\n",
      "['Kiribati', 'Tarawa', 'KI', 'KIR', '+686', 'UTC+12:00', 'Australian dollar']\n",
      "['Kuwait', 'Kuwait City', 'KW', 'KWT', '+965', 'UTC+03:00', 'Kuwaiti dinar']\n",
      "['Kyrgyzstan', 'Bishkek', 'KG', 'KGZ', '+996', 'UTC+06:00', 'Kyrgyzstani som']\n",
      "['Laos', 'Vientiane', 'LA', 'LAO', '+856', 'UTC+07:00', 'Lao kip']\n",
      "['Latvia', 'Riga', 'LV', 'LVA', '+371', 'UTC+03:00', 'Latvian lats']\n",
      "['Lebanon', 'Beirut', 'LB', 'LBN', '+961', 'UTC+02:00', 'Lebanese pound']\n",
      "['Lesotho', 'Maseru', 'LS', 'LSO', '+266', 'UTC+02:00', 'Lesotho loti']\n",
      "['Liberia', 'Monrovia', 'LR', 'LBR', '+231', 'UTC', 'Liberian dollar']\n",
      "['Libya', 'Tripoli', 'LY', 'LBY', '+218', 'UTC+02:00', 'Libyan dinar']\n",
      "['Liechtenstein', 'Vaduz', 'LI', 'LIE', '+423', 'UTC+01:00', 'Swiss franc']\n",
      "['Lithuania', 'Vilnius', 'LT', 'LTU', '+370', 'UTC+02:00', 'Lithuanian litas']\n",
      "['Luxembourg', 'Luxembourg', 'LU', 'LUX', '+352', 'UTC+01:00', 'Euro']\n",
      "['Macau', '', 'MO', 'MAC', '+853', 'UTC+08:00', 'Macanese pataca']\n",
      "['Macedonia', 'Skopje', 'MK', 'MKD', '+389', 'UTC+01:00', 'Macedonian denar']\n",
      "['Madagascar', 'Antananarivo', 'MG', 'MDG', '+261', 'UTC+03:00', 'Malagasy ariary']\n",
      "['Malawi', 'Lilongwe', 'MW', 'MWI', '+265', 'UTC+02:00', 'Malawian kwacha']\n",
      "['Malaysia', 'Kuala Lumpur', 'MY', 'MYS', '+60', 'UTC+08:00', 'Malaysian ringgit']\n",
      "['Maldives', 'Malé', 'MV', 'MDV', '+960', 'UTC+05:00', 'Maldivian rufiyaa']\n",
      "['Mali', 'Bamako', 'ML', 'MLI', '+223', 'UTC', 'West African CFA franc']\n",
      "['Malta', 'Valletta', 'MT', 'MLT', '+356', 'UTC+01:00', 'Euro']\n",
      "['Marshall Islands', 'Majuro', 'MH', 'MHL', '+692', 'UTC+10:00', 'United States dollar']\n",
      "['Martinique', 'Fort-de-France', 'MQ', 'MTQ', '+596', 'UTC-04:00', 'Euro']\n",
      "['Mauritania', 'Nouakchott', 'MR', 'MRT', '+222', 'UTC', 'Mauritanian ouguiya']\n",
      "['Mauritius', 'Port Louis', 'MU', 'MUS', '+230', 'UTC+04:00', 'Mauritian rupee']\n",
      "['Mayotte', 'Mamoudzou', 'YT', 'MYT', '+262 269/639', 'UTC+03:00', 'Euro']\n",
      "['Mexico', 'Mexico City', 'MX', 'MEX', '+52', 'UTC-08:00 - UTC-06:00', 'Mexican peso']\n",
      "['Micronesia', 'Palikir', 'FM', 'FSM', '+691', 'UTC+10:00', 'Micronesian dollar']\n",
      "['Moldova', 'Chisinau', 'MD', 'MDA', '+373', 'UTC+03:00', 'Moldovan leu']\n",
      "['Monaco', 'Monaco', 'MC', 'MCO', '+377', 'UTC+01:00', 'Euro']\n",
      "['Mongolia', 'Ulaanbaatar', 'MN', 'MNG', '+976', 'UTC+08:00', 'Mongolian tögrög']\n",
      "['Montenegro', 'Podgorica', 'ME', 'MNE', '+382', 'UTC+01', 'Euro']\n",
      "['Montserrat', 'Plymouth', 'MS', 'MSR', '+1 664', 'UTC-04:00', 'East Caribbean dollar']\n",
      "['Morocco', 'Rabat', 'MA', 'MAR', '+212', 'UTC', 'Moroccan dirham']\n",
      "['Mozambique', 'Maputo', 'MZ', 'MOZ', '+258', 'UTC+02:00', 'Mozambican metical']\n",
      "['Myanmar (Burma)', 'Naypyidaw', 'MM', 'MMR', '+95', 'UTC+06:30', 'Myanma kyat']\n",
      "['Namibia', 'Windhoek', 'NA', 'NAM', '+264', 'UTC+02:00', 'Namibian dollar']\n",
      "['Nauru', 'Yaren', 'NR', 'NRU', '+674', 'UTC+12:00', 'Australian dollar']\n",
      "['Nepal', 'Kathmandu', 'NP', 'NPL', '+977', 'UTC+05:30', 'Nepalese rupee']\n",
      "['Netherlands', 'Amsterdam', 'NL', 'NLD', '+31', 'UTC+01:00', 'Euro']\n",
      "['New Caledonia', 'Nouméa', 'NC', 'NCL', '+687', 'UTC+11:00', 'CFP franc']\n",
      "['New Zealand', 'Wellington', 'NZ', 'NZL', '+64', 'UTC+12:00', 'New Zealand dollar']\n",
      "['Nicaragua', 'Managua', 'NI', 'NIC', '+505', 'UTC-06:00', 'Nicaraguan córdoba']\n",
      "['Niger', 'Niamey', 'NE', 'NER', '+227', 'UTC+01:00', 'West African CFA franc']\n",
      "['Nigeria', 'Abuja', 'NG', 'NGA', '+234', 'UTC+01:00', 'Nigerian naira']\n",
      "['Niue', 'Alofi', 'NU', 'NIU', '+683', 'UTC-11:00', 'New Zealand dollar']\n",
      "['Norfolk Island', 'Kingston', 'NF', 'NFK', '+672 3', 'UTC+11:30', 'Australian dollar']\n",
      "['North Korea', 'Pyongyang', 'KP', 'PRK', '+850', 'UTC+09:00', 'North Korean won']\n",
      "['Northern Mariana Islands', 'Saipan', 'MP', 'MNP', '+1 670', 'UTC+10:00', 'United States dollar']\n",
      "['Norway', 'Oslo', 'NO', 'NOR', '+47', 'UTC+01:00', 'Norwegian krone']\n",
      "['Oman', 'Muscat', 'OM', 'OMN', '+968', 'UTC+04:00', 'Omani rial']\n",
      "['Pakistan', 'Islamabad', 'PK', 'PAK', '+92', 'UTC+05:00', 'Pakistani rupee']\n",
      "['Palau', 'Ngerulmud', 'PW', 'PLW', '+680', 'UTC+09:00', 'Palauan dollar']\n",
      "['Panama', 'Panama City', 'PA', 'PAN', '+507', 'UTC-05:00', 'Panamanian balboa']\n",
      "['Papua New Guinea', 'Port Moresby', 'PG', 'PNG', '+675', 'UTC+10:00', 'Papua New Guinean kina']\n",
      "['Paraguay', 'Asunción', 'PY', 'PRY', '+595', 'UTC-04:00', 'Paraguayan guaraní']\n",
      "['Peru', 'Lima', 'PE', 'PER', '+51', 'UTC-05:00', 'Peruvian nuevo sol']\n",
      "['Philippines', 'Manila', 'PH', 'PHL', '+63', 'UTC+08:00', 'Philippine peso']\n",
      "['Pitcairn', 'Adamstown', 'PN', 'PCN', '+872', 'UTC-08', 'New Zealand dollar']\n",
      "['Poland', 'Warsaw', 'PL', 'POL', '+48', 'UTC+01:00', 'Polish złoty']\n",
      "['Portugal', 'Lisbon', 'PT', 'PRT', '+351', 'UTC+01:00', 'Euro']\n",
      "['Puerto Rico', 'San Juan', 'PR', 'PRI', '+1 787/939', 'UTC-04:00', 'United States dollar']\n",
      "['Qatar', 'Doha', 'QA', 'QAT', '+974', 'UTC+03:00', 'Qatari riyal']\n",
      "['Reunion', '', 'RE', 'REU', '+262', 'UTC+04:00', 'Euro']\n",
      "['Romania', 'Bucharest', 'RO', 'ROU', '+40', 'UTC+02:00', 'Romanian leu']\n",
      "['Russia', 'Moscow', 'RU', 'RUS', '+7', 'UTC+03:00', 'Russian ruble']\n",
      "['Rwanda', 'Kigali', 'RW', 'RWA', '+250', 'UTC+02:00', 'Rwandan franc']\n",
      "['Saint Barthelemy', 'Gustavia', 'BL', 'BLM', '+590', 'UTC-04', 'Euro']\n",
      "['Saint Helena', 'Jamestown', 'SH', 'SHN', '+290', 'UTC', 'Saint Helena pound']\n",
      "['Saint Kitts and Nevis', 'Basseterre', 'KN', 'KNA', '+1 869', 'UTC-04:00', 'East Caribbean dollar']\n",
      "['Saint Lucia', 'Castries', 'LC', 'LCA', '+1 758', 'UTC-04:00', 'East Caribbean dollar']\n",
      "['Saint Martin', 'Marigot', 'MF', 'MAF', '+590', 'UTC-04', 'Euro']\n",
      "['Saint Pierre and Miquelon', 'St. Pierre', 'PM', 'SPM', '+508', 'UTC-03', 'Euro']\n",
      "['Saint Vincent and the Grenadines', 'Kingstown', 'VC', 'VCT', '+1 784', 'UTC-04', 'East Caribbean dollar']\n",
      "['Samoa', 'Apia', 'WS', 'WSM', '+685', 'UTC-11:00', 'Samoan tala']\n",
      "['San Marino', 'San Marino', 'SM', 'SMR', '+378', 'UTC+01:00', 'Euro']\n",
      "['Sao Tome and Príncipe', 'São Tomé', 'ST', 'STP', '+239', 'UTC', 'São Tomé and Príncipe dobra']\n",
      "['Saudi Arabia', 'Riyadh', 'SA', 'SAU', '+966', 'UTC+03:00', 'Saudi riyal']\n",
      "['Senegal', 'Dakar', 'SN', 'SEN', '+221', 'UTC', 'West African CFA franc']\n",
      "['Serbia', 'Belgrade', 'RS', 'SRB', '+381', 'UTC+01:00', 'Serbian dinar']\n",
      "['Seychelles', 'Victoria', 'SC', 'SYC', '+248', 'UTC+04:00', 'Seychellois rupee']\n",
      "['Sierra Leone', 'Freetown', 'SL', 'SLE', '+232', 'UTC', 'Sierra Leonean leone']\n",
      "['Singapore', 'Singapore', 'SG', 'SGP', '+65', 'UTC+08:00', 'Brunei dollar']\n",
      "['Sint Maarten', 'Philipsburg', 'SX', 'SXM', '+599 5', 'UTC-04:00', 'Netherlands Antillean guilder']\n",
      "['Slovakia', 'Bratislava', 'SK', 'SVK', '+421', 'UTC+01:00', 'Euro']\n",
      "['Slovenia', 'Ljubljana', 'SI', 'SVN', '+386', 'UTC+01:00', 'Euro']\n",
      "['Solomon Islands', 'Honiara', 'SB', 'SLB', '+677', 'UTC+11:00', 'Solomon Islands dollar']\n",
      "['Somalia', 'Mogadishu', 'SO', 'SOM', '+252', 'UTC+03:00', 'Somali shilling']\n",
      "['South Africa', 'Pretoria', 'ZA', 'ZAF', '+27', 'UTC+02:00', 'South African rand']\n",
      "['South Georgia and the South Sandwich Islands', 'Grytviken', 'GS', 'SGS', '', 'UTC-02', 'British pound']\n",
      "['South Korea', 'Seoul', 'KR', 'KOR', '+82', 'UTC+09:00', 'South Korean won']\n",
      "['Spain', 'Madrid', 'ES', 'ESP', '+34', 'UTC+01:00', 'Euro']\n",
      "['Sri Lanka', 'Sri Jayawardenapura Kotte', 'LK', 'LKA', '+94', 'UTC+05:30', 'Sri Lankan rupee']\n",
      "['Sudan', 'Khartoum', 'SD', 'SDN', '+249', 'UTC+02:00', 'Sudanese pound']\n",
      "['Suriname', 'Paramaribo', 'SR', 'SUR', '+597', 'UTC-03:30', 'Surinamese dollar']\n",
      "['Svalbard and Jan Mayen', '', 'SJ', 'SJM', '+47', 'UTC+01:00', 'Norwegian krone']\n",
      "['Swaziland', 'Mbabane', 'SZ', 'SWZ', '+268', 'UTC+02:00', 'Swazi lilangeni']\n",
      "['Sweden', 'Stockholm', 'SE', 'SWE', '+46', 'UTC+01:00', 'Swedish krona']\n",
      "['Switzerland', 'Bern', 'CH', 'CHE', '+41', 'UTC+01:00', 'Swiss franc']\n",
      "['Syrian Arab Republic', 'Damascus', 'SY', 'SYR', '+963', 'UTC+02:00', 'Syrian pound']\n",
      "['Taiwan', 'Taipei', 'TW', 'TWN', '+886', 'UTC+08:00', 'New Taiwan dollar']\n",
      "['Tajikistan', 'Dushanbe', 'TJ', 'TJK', '+992', 'UTC+06:00', 'Tajikistani somoni']\n",
      "['Tanzania', 'Dodoma', 'TZ', 'TZA', '+255', 'UTC+03:00', 'Tanzanian shilling']\n",
      "['Thailand', 'Bangkok', 'TH', 'THA', '+66', 'UTC+07:00', 'Thai baht']\n",
      "['Togo', 'Lomé', 'TG', 'TGO', '+228', 'UTC', 'West African CFA franc']\n",
      "['Tokelau', 'Rotates annually', 'TK', 'TKL', '+690', 'UTC-10', 'New Zealand dollar']\n",
      "['Tonga', 'Nuku', 'TO', 'TON', '+676', 'UTC+13:00', 'Tongan paʻanga']\n",
      "['Trinidad and Tobago', 'Port of Spain', 'TT', 'TTO', '+1 868', 'UTC-04:00', 'Trinidad and Tobago dollar']\n",
      "['Tunisia', 'Tunis', 'TN', 'TUN', '+216', 'UTC+01:00', 'Tunisian dinar']\n",
      "['Turkey', 'Ankara', 'TR', 'TUR', '+90', 'UTC+02:00', 'Turkish lira']\n",
      "['Turkmenistan', 'Ashgabat', 'TM', 'TKM', '+993', 'UTC+05:00', 'Turkmenistani manat']\n",
      "['Turks and Caicos Islands', 'Cockburn Town', 'TC', 'TCA', '+1 649', 'UTC-05:00', 'United States dollar']\n",
      "['Tuvalu', 'Funafuti', 'TV', 'TUV', '+688', 'UTC+12:00', 'Australian dollar']\n",
      "['Uganda', 'Kampala', 'UG', 'UGA', '+256', 'UTC+03:00', 'Ugandan shilling']\n",
      "['Ukraine', 'Kyiv', 'UA', 'UKR', '+380', 'UTC+03:00', 'Ukrainian hryvnia']\n",
      "['United Arab Emirates', 'Abu Dhabi', 'AE', 'ARE', '+971', 'UTC+04:00', 'United Arab Emirates dirham']\n",
      "['United Kingdom', 'London', 'GB', 'GBR', '+44', 'UTC', 'British pound']\n",
      "['United States', 'Washington D.C.', 'US', 'USA', '+1', 'UTC-11:00 - UTC-05:00', 'United States dollar']\n",
      "['United States Minor Outlying Islands', '', 'UM', 'UMI', '+1', '', 'United States dollar']\n",
      "['Uruguay', 'Montevideo', 'UY', 'URY', '+598', 'UTC-03:00', 'Uruguayan peso']\n",
      "['Uzbekistan', 'Tashkent', 'UZ', 'UZB', '+998', 'UTC+06:00', 'Uzbekistani som']\n",
      "['Vanuatu', 'Port Vila', 'VU', 'VUT', '+678', 'UTC+11:00', 'Vanuatu vatu']\n",
      "['Vatican City', 'Vatican City', 'VA', 'VAT', '+39 06 698', 'UTC+01', 'Euro']\n",
      "['Venezuela', 'Caracas', 'VE', 'VEN', '+58', 'UTC-04:00', 'Venezuelan bolívar']\n",
      "['Vietnam', 'Hanoi', 'VN', 'VNM', '+84', 'UTC+07:00', 'Vietnamese đồng']\n",
      "['Virgin Islands', 'Road Town', 'VG', 'VGB', '+1 284', 'UTC-04', 'British Virgin Islands dollar']\n",
      "['Virgin Islands of the United States', 'Charlotte Amalie', 'VI', 'VIR', '+1 340', 'UTC-04', 'United States dollar']\n",
      "['Wallis and Futuna', 'Mata-Utu', 'WF', 'WLF', '+681', 'UTC+12:00', 'CFP franc']\n",
      "['Western Sahara', 'Laâyoune (El Aaiún)', 'EH', 'ESH', '+212 5288/5289', 'UTC+01', 'Moroccan dirham']\n",
      "['Yemen', 'Sanaá', 'YE', 'YEM', '+967', 'UTC+03:00', 'Yemeni rial']\n",
      "['Zambia', 'Lusaka', 'ZM', 'ZMB', '+260', 'UTC+02:00', 'Zambian kwacha']\n",
      "['Zimbabwe', ' Harare', 'ZW', 'ZWE', '+263', 'UTC+02:00', 'Zimbabwean dollar']\n"
     ]
    }
   ],
   "source": [
    "import csv\n",
    "\n",
    "input_filename = 'country_info.txt'\n",
    "\n",
    "with open(input_filename, encoding='utf-8', newline='') as countries_data:\n",
    "    sample = \"\"\n",
    "    for line in range(3):\n",
    "        sample += countries_data.readline()\n",
    "    country_dialect = csv.Sniffer().sniff(sample)\n",
    "    countries_data.seek(0)\n",
    "    country_reader = csv.reader(countries_data, dialect=country_dialect)\n",
    "    for row in country_reader:\n",
    "        print(row)"
   ]
  },
  {
   "cell_type": "markdown",
   "id": "fff8ef03",
   "metadata": {},
   "source": [
    "#### Writing CSV Files"
   ]
  },
  {
   "cell_type": "code",
   "execution_count": 27,
   "id": "18fa2c7e",
   "metadata": {},
   "outputs": [],
   "source": [
    "import csv\n",
    "\n",
    "cereals = [\n",
    "    [\"Barley\", 556, 1.7, 32.9, 10.1, 13.8],\n",
    "    [\"Durum\", 339, 5, 27.4, 4.09, 9.7],\n",
    "    [\"Fonio\", 240, 1, 4, 1.7, 0.05],\n",
    "    [\"Maize\", 442, 7.4, 37.45, 6.15, 11.03],\n",
    "    [\"Millet\", 484, 2, 37.9, 13.4, 9.15],\n",
    "    [\"Oats\", 231, 9.2, 35.1, 10.3, 3.73],\n",
    "    [\"Rice (Brown)\", 346, 2.8, 38.1, 9.9, 0.8],\n",
    "    [\"Rice, (White)\", 345, 3.6, 37.6, 5.4, 0.1],\n",
    "    [\"Rye\", 422, 2, 31.4, 18.2, 21.2],\n",
    "    [\"Sorghum\", 316, 3, 37.8, 9.92, 9.15],\n",
    "    [\"Triticale\", 338, 1.81, 36.6, 19, 0.9],\n",
    "    [\"Wheat\", 407, 1.2, 27.8, 12.9, 13.8],\n",
    "]\n",
    "\n",
    "column_headings = [\"Cereal\", \"Calories\", \"Fat\", \"Protein\", \"Fibre\", \"Vitamin E\"]\n",
    "\n",
    "output_filename = 'my_cereals.csv'\n",
    "\n",
    "with open(output_filename, 'w', encoding='utf-8', newline='') as output_file:\n",
    "    writer = csv.writer(output_file, quoting=csv.QUOTE_NONNUMERIC)\n",
    "    writer.writerow(column_headings)\n",
    "    writer.writerows(cereals)\n"
   ]
  },
  {
   "cell_type": "code",
   "execution_count": 28,
   "id": "e5bdcfa4",
   "metadata": {},
   "outputs": [
    {
     "ename": "FileNotFoundError",
     "evalue": "[Errno 2] No such file or directory: 'cereal_grains.csv'",
     "output_type": "error",
     "traceback": [
      "\u001b[1;31m---------------------------------------------------------------------------\u001b[0m",
      "\u001b[1;31mFileNotFoundError\u001b[0m                         Traceback (most recent call last)",
      "Cell \u001b[1;32mIn[28], line 4\u001b[0m\n\u001b[0;32m      1\u001b[0m \u001b[38;5;28;01mimport\u001b[39;00m \u001b[38;5;21;01mcsv\u001b[39;00m\n\u001b[0;32m      3\u001b[0m cereals_filename \u001b[38;5;241m=\u001b[39m \u001b[38;5;124m'\u001b[39m\u001b[38;5;124mcereal_grains.csv\u001b[39m\u001b[38;5;124m'\u001b[39m\n\u001b[1;32m----> 4\u001b[0m \u001b[38;5;28;01mwith\u001b[39;00m \u001b[38;5;28mopen\u001b[39m(cereals_filename, encoding\u001b[38;5;241m=\u001b[39m\u001b[38;5;124m'\u001b[39m\u001b[38;5;124mutf-8\u001b[39m\u001b[38;5;124m'\u001b[39m, newline\u001b[38;5;241m=\u001b[39m\u001b[38;5;124m'\u001b[39m\u001b[38;5;124m'\u001b[39m) \u001b[38;5;28;01mas\u001b[39;00m cereals_file:\n\u001b[0;32m      5\u001b[0m     reader \u001b[38;5;241m=\u001b[39m csv\u001b[38;5;241m.\u001b[39mDictReader(cereals_file)\n\u001b[0;32m      6\u001b[0m     \u001b[38;5;28;01mfor\u001b[39;00m row \u001b[38;5;129;01min\u001b[39;00m reader:\n",
      "File \u001b[1;32m~\\anaconda3\\Lib\\site-packages\\IPython\\core\\interactiveshell.py:286\u001b[0m, in \u001b[0;36m_modified_open\u001b[1;34m(file, *args, **kwargs)\u001b[0m\n\u001b[0;32m    279\u001b[0m \u001b[38;5;28;01mif\u001b[39;00m file \u001b[38;5;129;01min\u001b[39;00m {\u001b[38;5;241m0\u001b[39m, \u001b[38;5;241m1\u001b[39m, \u001b[38;5;241m2\u001b[39m}:\n\u001b[0;32m    280\u001b[0m     \u001b[38;5;28;01mraise\u001b[39;00m \u001b[38;5;167;01mValueError\u001b[39;00m(\n\u001b[0;32m    281\u001b[0m         \u001b[38;5;124mf\u001b[39m\u001b[38;5;124m\"\u001b[39m\u001b[38;5;124mIPython won\u001b[39m\u001b[38;5;124m'\u001b[39m\u001b[38;5;124mt let you open fd=\u001b[39m\u001b[38;5;132;01m{\u001b[39;00mfile\u001b[38;5;132;01m}\u001b[39;00m\u001b[38;5;124m by default \u001b[39m\u001b[38;5;124m\"\u001b[39m\n\u001b[0;32m    282\u001b[0m         \u001b[38;5;124m\"\u001b[39m\u001b[38;5;124mas it is likely to crash IPython. If you know what you are doing, \u001b[39m\u001b[38;5;124m\"\u001b[39m\n\u001b[0;32m    283\u001b[0m         \u001b[38;5;124m\"\u001b[39m\u001b[38;5;124myou can use builtins\u001b[39m\u001b[38;5;124m'\u001b[39m\u001b[38;5;124m open.\u001b[39m\u001b[38;5;124m\"\u001b[39m\n\u001b[0;32m    284\u001b[0m     )\n\u001b[1;32m--> 286\u001b[0m \u001b[38;5;28;01mreturn\u001b[39;00m io_open(file, \u001b[38;5;241m*\u001b[39margs, \u001b[38;5;241m*\u001b[39m\u001b[38;5;241m*\u001b[39mkwargs)\n",
      "\u001b[1;31mFileNotFoundError\u001b[0m: [Errno 2] No such file or directory: 'cereal_grains.csv'"
     ]
    }
   ],
   "source": [
    "import csv\n",
    "\n",
    "cereals_filename = 'cereal_grains.csv'\n",
    "with open(cereals_filename, encoding='utf-8', newline='') as cereals_file:\n",
    "    reader = csv.DictReader(cereals_file)\n",
    "    for row in reader:\n",
    "        print(row)"
   ]
  },
  {
   "cell_type": "code",
   "execution_count": null,
   "id": "46896d8c",
   "metadata": {},
   "outputs": [],
   "source": []
  }
 ],
 "metadata": {
  "kernelspec": {
   "display_name": "Python 3 (ipykernel)",
   "language": "python",
   "name": "python3"
  },
  "language_info": {
   "codemirror_mode": {
    "name": "ipython",
    "version": 3
   },
   "file_extension": ".py",
   "mimetype": "text/x-python",
   "name": "python",
   "nbconvert_exporter": "python",
   "pygments_lexer": "ipython3",
   "version": "3.11.5"
  }
 },
 "nbformat": 4,
 "nbformat_minor": 5
}
