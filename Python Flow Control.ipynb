{
 "cells": [
  {
   "cell_type": "markdown",
   "id": "71a4f24b",
   "metadata": {},
   "source": [
    "# Controlling the Flow of a Python Program"
   ]
  },
  {
   "cell_type": "markdown",
   "id": "622f4b95",
   "metadata": {},
   "source": [
    "## Code Blocks"
   ]
  },
  {
   "cell_type": "markdown",
   "id": "91283ab3",
   "metadata": {},
   "source": [
    "Code blocks in Python are delineated by a colon followed by an indentation"
   ]
  },
  {
   "cell_type": "code",
   "execution_count": null,
   "id": "af532fc0",
   "metadata": {},
   "outputs": [],
   "source": [
    "for i in range(1, 13):\n",
    "    print(\"No. {0:2} squared is {1:<3} and cubed is {2:^4}\".format(i, i ** 2, i ** 3))\n",
    "print(\"*\" * 80)"
   ]
  },
  {
   "cell_type": "code",
   "execution_count": null,
   "id": "f8c216f3",
   "metadata": {},
   "outputs": [],
   "source": [
    "for i in range(1, 13):\n",
    "    print(\"No. {0:2} squared is {1:<3} and cubed is {2:^4}\".format(i, i ** 2, i ** 3))\n",
    "    print(\"*\" * 80)"
   ]
  },
  {
   "cell_type": "markdown",
   "id": "47a9592c",
   "metadata": {},
   "source": [
    "## If, elif, and else Flow Control"
   ]
  },
  {
   "cell_type": "markdown",
   "id": "40187ed9",
   "metadata": {},
   "source": [
    "The *else* and *elif* keywords control the flow through the program based on comparing values."
   ]
  },
  {
   "cell_type": "code",
   "execution_count": null,
   "id": "5a8fc998",
   "metadata": {},
   "outputs": [],
   "source": [
    "name = input(\"Please enter your name: \")\n",
    "age = int(input(f\"How old are you, {name}? \"))\n",
    "print(age)\n",
    "\n",
    "if age < 18:\n",
    "    print(f\"Please come back in {18 - age} years.\")\n",
    "elif age == 900:\n",
    "    print(\"Sorry, Yoda. You die in Return of the Jedi\")\n",
    "else:\n",
    "    print(\"You are old enough to vote\")\n",
    "    print(\"Here is your ballot.\")"
   ]
  },
  {
   "cell_type": "code",
   "execution_count": null,
   "id": "b75e4c91",
   "metadata": {},
   "outputs": [],
   "source": [
    "# Guessing game\n",
    "\n",
    "answer = 5\n",
    "\n",
    "print(\"Please guess a number between 1 and 10: \")\n",
    "guess = int(input())\n",
    "\n",
    "if guess < answer:\n",
    "    print(\"Too low. Please guess again\")\n",
    "    guess = int(input())\n",
    "# NOTE: one equal sign binds a valuable to a variable\n",
    "# two equal signs compare values for equality\n",
    "    if guess == answer:\n",
    "        print(\"You guessed it!\")\n",
    "    else:\n",
    "        print(\"Sorry, that's not right.\")\n",
    "elif guess > answer:\n",
    "    print(\"Too high. Please guess again\")\n",
    "    guess = int(input())\n",
    "    if guess == answer:\n",
    "        print(\"You guessed it!\")\n",
    "    else:\n",
    "        print(\"Sorry, that's not right.\")\n",
    "else:\n",
    "    print(\"You got it!\")\n"
   ]
  },
  {
   "cell_type": "markdown",
   "id": "30b14782",
   "metadata": {},
   "source": [
    "## Conditional Operators"
   ]
  },
  {
   "cell_type": "markdown",
   "id": "0b693f83",
   "metadata": {},
   "source": [
    "**The six value comparison operators are:**  \n",
    "| Condition | Symbol |\n",
    "|-----------|--------|\n",
    "| Less than | < |\n",
    "| Less than or equal to | <= |\n",
    "| Greater than | > |\n",
    "| Greater than or equal to | >= |\n",
    "| Equal to | == |\n",
    "| Not equal to | != |"
   ]
  },
  {
   "cell_type": "code",
   "execution_count": null,
   "id": "c1a1ebad",
   "metadata": {},
   "outputs": [],
   "source": [
    "# Guessing game -- better code\n",
    "\n",
    "answer = 5\n",
    "\n",
    "print(\"Please guess a number between 1 and 10: \")\n",
    "guess = int(input())\n",
    "\n",
    "if guess != answer:\n",
    "    if guess < answer:\n",
    "        print(\"Too low. Please guess again\")\n",
    "    else:    # Guess must be higher than answer\n",
    "        print(\"Too high. Please guess again\")\n",
    "    guess = int(input())\n",
    "# NOTE: one equal sign binds a valuable to a variable\n",
    "# two equal signs compare values for equality\n",
    "    if guess == answer:\n",
    "        print(\"You guessed it!\")\n",
    "    else:\n",
    "        print(\"Sorry, that's not right.\")\n",
    "else:\n",
    "    print(\"Bingo! you got it on the first try!\")\n",
    "        \n"
   ]
  },
  {
   "cell_type": "code",
   "execution_count": null,
   "id": "c95cb047",
   "metadata": {},
   "outputs": [],
   "source": [
    "# Challenge: Guessing game a third way\n",
    "\n",
    "answer = 5\n",
    "\n",
    "print(\"Please guess a number between 1 and 10: \")\n",
    "guess = int(input())\n",
    "\n",
    "if guess == answer:\n",
    "    print(\"Bingo! you got it on the first try!\")\n",
    "else:\n",
    "    if guess < answer:\n",
    "        print(\"Too low. Please guess again\")\n",
    "    else:\n",
    "        print(\"Too high. Please guess again\")\n",
    "    guess = int(input())\n",
    "    if guess == answer:\n",
    "        print(\"You guessed it!\")\n",
    "    else:\n",
    "        print(\"Sorry, that's not right.\")\n",
    "\n",
    "    \n"
   ]
  },
  {
   "cell_type": "markdown",
   "id": "ab38bffa",
   "metadata": {},
   "source": [
    "## Using AND & OR in Conditions"
   ]
  },
  {
   "cell_type": "markdown",
   "id": "6aa146d5",
   "metadata": {},
   "source": [
    "| and | Truth | Table |\n",
    "|-------|-------|-------|\n",
    "| | True | False |\n",
    "| True | True | False |\n",
    "| False | False | False |"
   ]
  },
  {
   "cell_type": "code",
   "execution_count": null,
   "id": "9425a40c",
   "metadata": {},
   "outputs": [],
   "source": [
    "age = int(input(\"How old are you? \"))\n",
    "# if age >= 16 and age <= 65:\n",
    "if 16 <= age <= 65:\n",
    "    print(\"Have a good day at work\")\n",
    "else:\n",
    "    print(\"Enjoy your free time.\")"
   ]
  },
  {
   "cell_type": "markdown",
   "id": "18d81eaa",
   "metadata": {},
   "source": [
    "| or | Truth | Table |\n",
    "|-------|-------|-------|\n",
    "| | True | False |\n",
    "| True | True | True |\n",
    "| False | True | False |"
   ]
  },
  {
   "cell_type": "code",
   "execution_count": null,
   "id": "a00bd970",
   "metadata": {},
   "outputs": [],
   "source": [
    "age = int(input(\"How old are you? \"))\n",
    "if age < 16 or age > 65:\n",
    "    print(\"Enjoy your free time\")\n",
    "else:\n",
    "    print(\"Have a good day at work.\")"
   ]
  },
  {
   "cell_type": "markdown",
   "id": "1db3f3fc",
   "metadata": {},
   "source": [
    "## Boolean Expressions"
   ]
  },
  {
   "cell_type": "markdown",
   "id": "abb62e87",
   "metadata": {},
   "source": [
    "A *boolean* can have one of two values, True or False.  \n",
    "Python evaluates a *boolean expression* and returns one of these values."
   ]
  },
  {
   "cell_type": "code",
   "execution_count": null,
   "id": "14292533",
   "metadata": {},
   "outputs": [],
   "source": [
    "day = \"Monday\"\n",
    "# day = \"Saturday\"\n",
    "temperature = 30\n",
    "raining = True\n",
    "# raining = False\n",
    "\n",
    "if (day == \"Saturday\" and temperature > 27) or not raining:\n",
    "    print(\"Go swimming!\")\n",
    "else:\n",
    "    print(\"Study Python.\")"
   ]
  },
  {
   "cell_type": "markdown",
   "id": "c5ab4f83",
   "metadata": {},
   "source": [
    "### Truth Value Testing"
   ]
  },
  {
   "cell_type": "markdown",
   "id": "5b76e225",
   "metadata": {},
   "source": [
    "An object os True by defaut _unless_ its class defines a **boolean** method that returns False or a **lemgth** method that returns zero.  \n",
    "These objects are considered False:\n",
    "* Constants defined to be False: *None* and *False*  \n",
    "* Zero of any numeric type: 0, 0.0, 0j, Decimal(0), Fraction(0, 1)  \n",
    "* Empty sequences and collections: '', (), [], {}, set(0), range(0)  \n",
    "Booleans with a false result always return *0* or *False*.  \n",
    "Booleans with a true result always return *1* or *True*.  "
   ]
  },
  {
   "cell_type": "code",
   "execution_count": null,
   "id": "daa5cedc",
   "metadata": {},
   "outputs": [],
   "source": [
    "if 0:\n",
    "    print(\"True\")\n",
    "else:\n",
    "    print(\"False\")"
   ]
  },
  {
   "cell_type": "code",
   "execution_count": null,
   "id": "c6f01884",
   "metadata": {},
   "outputs": [],
   "source": [
    "name = input(\"Please enter your name: \")\n",
    "if name:\n",
    "    print(f\"Hello, {name}\")\n",
    "else:\n",
    "    print(\"Are you the man with no name?\")"
   ]
  },
  {
   "cell_type": "markdown",
   "id": "e5eee952",
   "metadata": {},
   "source": [
    "### in And not in"
   ]
  },
  {
   "cell_type": "markdown",
   "id": "5067dae1",
   "metadata": {},
   "source": [
    "We can check the content of sequences with **in** and **not in**.  \n",
    "If a character or sequence is contained in another sequence, **in** will return True.  \n",
    "If a character or sequence is contained in another sequence, **not in** will return False."
   ]
  },
  {
   "cell_type": "code",
   "execution_count": null,
   "id": "a125fc38",
   "metadata": {},
   "outputs": [],
   "source": [
    "parrot = \"Norwegian Blue\"\n",
    "\n",
    "letter = input(\"Enter a character: \")\n",
    "\n",
    "if letter in parrot:\n",
    "    print(\"{} is in {}\".format(letter, parrot))\n",
    "else:\n",
    "    print(\"I don't need that letter.\")"
   ]
  },
  {
   "cell_type": "code",
   "execution_count": null,
   "id": "bcf92399",
   "metadata": {},
   "outputs": [],
   "source": [
    "activity = input(\"What would you like to do today? \")\n",
    "\n",
    "if \"cinema\" not in activity:\n",
    "    print(\"But I want to go to the cinema.\")"
   ]
  },
  {
   "cell_type": "code",
   "execution_count": null,
   "id": "c4df278c",
   "metadata": {},
   "outputs": [],
   "source": [
    "# CHALLENGE\n",
    "name = input(\"What is your name? \")\n",
    "age = int(input(\"How old are you? \"))\n",
    "\n",
    "if 18 <= age <= 30:\n",
    "    print(f\"{name}, You are invited to our Young Adult party!\")\n",
    "else:\n",
    "    print(f\"Sorry, {name}, you probably wouldn't enjoy it.\")"
   ]
  },
  {
   "cell_type": "markdown",
   "id": "4ea5f109",
   "metadata": {},
   "source": [
    "## Loops"
   ]
  },
  {
   "cell_type": "markdown",
   "id": "5a6be01a",
   "metadata": {},
   "source": [
    "### For loops"
   ]
  },
  {
   "cell_type": "code",
   "execution_count": null,
   "id": "e5ca3f6b",
   "metadata": {},
   "outputs": [],
   "source": [
    "parrot = \"Norwegian Blue\"\n",
    "\n",
    "for character in parrot:\n",
    "    print(character)"
   ]
  },
  {
   "cell_type": "code",
   "execution_count": null,
   "id": "2fa3d0ba",
   "metadata": {},
   "outputs": [],
   "source": [
    "number = \"9,223;372:036 854,775;807\"\n",
    "seperators = \"\"\n",
    "\n",
    "for char in number:\n",
    "    if not char.isnumeric():\n",
    "        seperators = seperators + char\n",
    "        \n",
    "print(seperators)\n",
    "\n",
    "values = \"\".join(char if char not in seperators else \" \" for char in number).split()\n",
    "print([int(val) for val in values])"
   ]
  },
  {
   "cell_type": "code",
   "execution_count": null,
   "id": "193d73f2",
   "metadata": {},
   "outputs": [],
   "source": [
    "# Using range\n",
    "for i in range(1, 11):\n",
    "    print(f\"i is now {i}\")"
   ]
  },
  {
   "cell_type": "code",
   "execution_count": null,
   "id": "70056f15",
   "metadata": {},
   "outputs": [],
   "source": [
    "# Range with step value\n",
    "for i in range(1, 11, 2):\n",
    "    print(f\"i is now {i}\")"
   ]
  },
  {
   "cell_type": "code",
   "execution_count": null,
   "id": "4c28df0c",
   "metadata": {},
   "outputs": [],
   "source": [
    "# Range with negative step value\n",
    "for i in range(10, 0, -2):\n",
    "    print(f\"i is now {i}\")"
   ]
  },
  {
   "cell_type": "markdown",
   "id": "e6e03af6",
   "metadata": {},
   "source": [
    "### Nested Loops"
   ]
  },
  {
   "cell_type": "code",
   "execution_count": null,
   "id": "97008ce7",
   "metadata": {},
   "outputs": [],
   "source": [
    "# Times tables\n",
    "for i in range(1, 13):\n",
    "    for j in range(1, 13):\n",
    "        print(f\"{j} times {i} is {i*j}\")\n",
    "    print(\"-\" * 20)"
   ]
  },
  {
   "cell_type": "markdown",
   "id": "61f941e5",
   "metadata": {},
   "source": [
    "### *continue* and *break*"
   ]
  },
  {
   "cell_type": "code",
   "execution_count": null,
   "id": "a06a984a",
   "metadata": {},
   "outputs": [],
   "source": [
    "shopping_list = [\"milk\", \"pasta\", \"eggs\", \"spam\", \"bread\", \"rice\"]\n",
    "\n",
    "for item in shopping_list:\n",
    "    print(\"Buy \" + item)"
   ]
  },
  {
   "cell_type": "code",
   "execution_count": null,
   "id": "321df59e",
   "metadata": {},
   "outputs": [],
   "source": [
    "for item in shopping_list:\n",
    "    if item != \"spam\":\n",
    "        print(\"Buy \" + item)"
   ]
  },
  {
   "cell_type": "code",
   "execution_count": null,
   "id": "89de2000",
   "metadata": {},
   "outputs": [],
   "source": [
    "for item in shopping_list:\n",
    "    if item == \"spam\":\n",
    "        continue    # stops processing this pass through the loop and begins the next pass\n",
    "        \n",
    "    print(\"Buy \" + item)"
   ]
  },
  {
   "cell_type": "code",
   "execution_count": null,
   "id": "eba1aa12",
   "metadata": {},
   "outputs": [],
   "source": [
    "for item in shopping_list:\n",
    "    if item == \"spam\":\n",
    "        break    # terminates the loop\n",
    "        \n",
    "    print(\"Buy \" + item)"
   ]
  },
  {
   "cell_type": "markdown",
   "id": "56d87009",
   "metadata": {},
   "source": [
    "### Searching"
   ]
  },
  {
   "cell_type": "code",
   "execution_count": null,
   "id": "939f5f2f",
   "metadata": {},
   "outputs": [],
   "source": [
    "shopping_list = [\"milk\", \"pasta\", \"eggs\", \"spam\", \"bread\", \"rice\"]\n",
    "\n",
    "# item_to_find = \"spam\"\n",
    "item_to_find = \"jalapeno\"\n",
    "found_at = None\n",
    "\n",
    "# for index in range(len(shopping_list)):\n",
    "#     if shopping_list[index] == item_to_find:\n",
    "#         found_at = index\n",
    "#         break\n",
    "\n",
    "# More pythonic\n",
    "if item_to_find in shopping_list:\n",
    "    found_at = shopping_list.index(item_to_find)\n",
    "        \n",
    "if found_at is not None:\n",
    "    print(f\"Item found at position {found_at}.\")\n",
    "else:\n",
    "    print(f\"{item_to_find} was not found.\")"
   ]
  },
  {
   "cell_type": "markdown",
   "id": "4cde7201",
   "metadata": {},
   "source": [
    "### While Loops"
   ]
  },
  {
   "cell_type": "code",
   "execution_count": null,
   "id": "8a01de2d",
   "metadata": {},
   "outputs": [],
   "source": [
    "# for i in range(10):\n",
    "#   print(f\"i is now {i}\")\n",
    "# The same output can be returned with a while loop\n",
    "\n",
    "i = 0\n",
    "while i < 10:\n",
    "    print(f\"i is now {i}\")\n",
    "    i += 1"
   ]
  },
  {
   "cell_type": "code",
   "execution_count": null,
   "id": "52d22ff6",
   "metadata": {},
   "outputs": [],
   "source": [
    "available_exits = [\"north\", \"south\", \"east\", \"west\"]\n",
    "\n",
    "chosen_exit = \"\"\n",
    "while chosen_exit not in available_exits:\n",
    "    chosen_exit = input(\"Please choose a direction: \")\n",
    "\n",
    "print(\"Aren't you glad you got out of there?\")\n"
   ]
  },
  {
   "cell_type": "markdown",
   "id": "6e3e08ed",
   "metadata": {},
   "source": [
    "### *break* and *continue* in While Loops"
   ]
  },
  {
   "cell_type": "code",
   "execution_count": null,
   "id": "26350855",
   "metadata": {},
   "outputs": [],
   "source": [
    "available_exits = [\"north\", \"south\", \"east\", \"west\"]\n",
    "\n",
    "chosen_exit = \"\"\n",
    "while chosen_exit not in available_exits:\n",
    "    chosen_exit = input(\"Please choose a direction: \")\n",
    "    if chosen_exit.casefold() == \"quit\":\n",
    "        print(\"Game over\")\n",
    "        break\n",
    "\n",
    "else:\n",
    "    print(\"Aren't you glad you got out of there?\")"
   ]
  },
  {
   "cell_type": "code",
   "execution_count": null,
   "id": "c32718e8",
   "metadata": {},
   "outputs": [],
   "source": [
    "import random\n",
    "\n",
    "highest = 1000\n",
    "answer = random.randint(1, highest)\n",
    "count =0\n",
    "print(answer)    #TODO: Remove after testing\n",
    "\n",
    "print(f\"Please guess a number between 1 and {highest}, or enter 0 to quit: \")\n",
    "guess = int(input())\n",
    "if guess == answer:\n",
    "    print(\"Bingo! you got it on the first try!\")\n",
    " \n",
    "while guess != answer:\n",
    "    if guess == 0:\n",
    "        print(\"Quitting the game.\")\n",
    "        break\n",
    "\n",
    "    if guess < answer:\n",
    "        print(\"Too low. Please guess again\")\n",
    "    else:\n",
    "        print(\"Too high. Please guess again\")\n",
    "    guess = int(input())\n",
    "    count += 1\n",
    "\n",
    "    if guess == answer:\n",
    "        print(\"You guessed it!\")\n",
    "        print(f\"It took you {count} guesses!\")\n",
    "    "
   ]
  },
  {
   "cell_type": "code",
   "execution_count": null,
   "id": "00633dd2",
   "metadata": {},
   "outputs": [],
   "source": [
    "# Hi Lo Game\n",
    "low = 1\n",
    "high = 1000\n",
    "guesses = 1\n",
    "\n",
    "print(\"| Please think of a number between {low} and {high}\")\n",
    "print(\"| Press ENTER to start\")\n",
    "print(\"| \" + (\"=\" * 33))\n",
    "\n",
    "while low != high:\n",
    "    print(f\"\\t>> Guessing in the range of {low} to {high}.\")\n",
    "    guess = low + (high - low) // 2\n",
    "    high_low = input(f\"My guess is {guess}. Am I high or low? \"\n",
    "                    \"Enter h or l, or enter c if I am correct.\").casefold()\n",
    "    if high_low == \"h\":\n",
    "        high = guess - 1        \n",
    "    elif high_low == \"l\":\n",
    "        low = guess + 1          \n",
    "    elif high_low == \"c\":\n",
    "        print(f\"I got it in {guesses} guesses\") \n",
    "        break\n",
    "    else:\n",
    "        print(\"Please enter h, l, c.\")\n",
    "        \n",
    "    guesses += 1\n",
    "else:\n",
    "    print(f\"You thought of the number {low}\")\n",
    "    print(f\"I got it in {guesses} guesses\")\n",
    "    \n"
   ]
  },
  {
   "cell_type": "markdown",
   "id": "d8f41c2d",
   "metadata": {},
   "source": [
    "### CHALLENGE"
   ]
  },
  {
   "cell_type": "markdown",
   "id": "203178a7",
   "metadata": {},
   "source": [
    "Write a program to print a number of options, and allow the user to\n",
    "select an option from the list.\n",
    "\n",
    "The options should be numbered from 1 to 9 - although you can use less\n",
    "than 9 options if you want. Make sure there are at least 4 options.\n",
    "\n",
    "As an example, your program might display:\n",
    "\n",
    "   Please choose your option from the list below:\n",
    "   1.  Learn Python\n",
    "   2.  Learn Java\n",
    "   3.  Go swimming\n",
    "   4.  Have dinner\n",
    "   5.  Go to bed\n",
    "   0.  Exit\n",
    "\n",
    "The final option should be zero, to exit the program.\n",
    "\n",
    "Your program should continue looping, allowing the user to choose one of\n",
    "the options each time round.\n",
    "\n",
    "The loop should only terminate when the user chooses 0.\n",
    "\n",
    "If the user makes a valid choice, the program should print a short\n",
    "message. The message should include the value that they typed.\n",
    "\n",
    "Don't print a different message for each choice - the only thing that\n",
    "should change is the number they typed. Although you could print out\n",
    "the description, I want to show you a much better way of doing that,\n",
    "later. We're keeping this simple, because there are still lots of\n",
    "things we haven't covered yet.\n"
   ]
  },
  {
   "cell_type": "code",
   "execution_count": 1,
   "id": "88cdff06",
   "metadata": {},
   "outputs": [
    {
     "name": "stdout",
     "output_type": "stream",
     "text": [
      "Please choose an option from the list below:\n",
      "\t1:  Learn Python\n",
      "\t2:  Learn Java\n",
      "\t3:  Go swimming\n",
      "\t4:  Eat dinner\n",
      "\t5:  Go to bed\n",
      "\t0:  Quit\n",
      "0\n",
      "Good bye\n"
     ]
    }
   ],
   "source": [
    "# Challenge\n",
    "print(\"Please choose an option from the list below:\")\n",
    "print(\"\\t1:  Learn Python\")\n",
    "print(\"\\t2:  Learn Java\")\n",
    "print(\"\\t3:  Go swimming\")\n",
    "print(\"\\t4:  Eat dinner\")\n",
    "print(\"\\t5:  Go to bed\")\n",
    "print(\"\\t0:  Quit\")\n",
    "\n",
    "choice = \"-\"\n",
    "\n",
    "while choice != 0:\n",
    "    choice = int(input())\n",
    "    if choice == 0:\n",
    "        print(\"Good bye\")\n",
    "        break\n",
    "        \n",
    "    elif choice not in [1, 2, 3, 4, 5]:\n",
    "        print(\"That is not a valid choice. Try again.\")\n",
    "        \n",
    "    else:\n",
    "        print(f\"{choice} is a great choice!\")\n",
    "        break\n",
    "        \n",
    "    \n",
    "    "
   ]
  },
  {
   "cell_type": "code",
   "execution_count": 2,
   "id": "d6782ad1",
   "metadata": {},
   "outputs": [
    {
     "name": "stdout",
     "output_type": "stream",
     "text": [
      "1\n",
      "2\n",
      "4\n",
      "7\n",
      "8\n",
      "11\n",
      "13\n",
      "14\n",
      "16\n",
      "17\n",
      "19\n",
      "22\n",
      "23\n",
      "26\n",
      "28\n",
      "29\n"
     ]
    }
   ],
   "source": [
    "    for x in range(30):\n",
    "        if x % 3 == 0 or x % 5 == 0:\n",
    "            continue\n",
    "        print(x)"
   ]
  },
  {
   "cell_type": "code",
   "execution_count": 5,
   "id": "db4a6057",
   "metadata": {},
   "outputs": [
    {
     "name": "stdout",
     "output_type": "stream",
     "text": [
      "0\n",
      "3\n",
      "5\n",
      "6\n",
      "9\n",
      "10\n",
      "12\n",
      "15\n",
      "18\n",
      "20\n",
      "21\n",
      "24\n",
      "25\n",
      "27\n"
     ]
    }
   ],
   "source": [
    "for x in range(30):\n",
    "    if x % 3 != 0 and x % 5 != 0:\n",
    "        continue\n",
    "    print(x)"
   ]
  },
  {
   "cell_type": "code",
   "execution_count": null,
   "id": "a3f5990f",
   "metadata": {},
   "outputs": [],
   "source": []
  }
 ],
 "metadata": {
  "kernelspec": {
   "display_name": "Python 3 (ipykernel)",
   "language": "python",
   "name": "python3"
  },
  "language_info": {
   "codemirror_mode": {
    "name": "ipython",
    "version": 3
   },
   "file_extension": ".py",
   "mimetype": "text/x-python",
   "name": "python",
   "nbconvert_exporter": "python",
   "pygments_lexer": "ipython3",
   "version": "3.11.5"
  }
 },
 "nbformat": 4,
 "nbformat_minor": 5
}
