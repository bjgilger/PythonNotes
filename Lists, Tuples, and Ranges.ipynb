{
 "cells": [
  {
   "cell_type": "markdown",
   "id": "caba878b",
   "metadata": {},
   "source": [
    "# Lists, Tuples, and Ranges"
   ]
  },
  {
   "cell_type": "markdown",
   "id": "ff4978f4",
   "metadata": {},
   "source": [
    "Lists, Tuples, and Ranges are sequences. This means that they are an **ordered** set of data.  "
   ]
  },
  {
   "cell_type": "markdown",
   "id": "edabda2e",
   "metadata": {},
   "source": [
    "## Lists"
   ]
  },
  {
   "cell_type": "markdown",
   "id": "57f29229",
   "metadata": {},
   "source": [
    "Lists are contained inside square brackets with the items separated by commas. [\"This\", \"is\", \"a\", \"list\"]  \n",
    "Lists can be iterated over using loops, etc.  \n",
    "Lists are **mutable**, that means the contents can be changed."
   ]
  },
  {
   "cell_type": "code",
   "execution_count": null,
   "id": "d9259b89",
   "metadata": {},
   "outputs": [],
   "source": [
    "computer_parts = [\"computer\",\n",
    "                  \"monitor\",\n",
    "                  \"keyboard\",\n",
    "                  \"mouse\",\n",
    "                  \"mouse pad\"]\n",
    "\n",
    "for part in computer_parts:\n",
    "    print(part)\n",
    "# Indexing a list\n",
    "print()\n",
    "print(computer_parts[2])\n",
    "# Slicing lists\n",
    "print(computer_parts[0:3])\n",
    "print(computer_parts[-1])"
   ]
  },
  {
   "cell_type": "code",
   "execution_count": null,
   "id": "33c325e7",
   "metadata": {},
   "outputs": [],
   "source": [
    "# Mutable lists\n",
    "shopping_list = [\"milk\", \"pasta\", \"eggs\", \"spam\", \"bread\", \"rice\"]\n",
    "another_list = shopping_list\n",
    "print(id(shopping_list))\n",
    "print(id(another_list))\n",
    "\n",
    "shopping_list += [\"cookies\"]\n",
    "print(shopping_list)\n",
    "print(id(shopping_list))\n",
    "print(another_list)\n",
    "\n",
    "# Lists can have multiple names (aliases)\n",
    "a = b = c= d = e = shopping_list\n",
    "print(a)\n",
    "print(\"Adding cream to list\")\n",
    "b.append(\"cream\")\n",
    "print(c)\n",
    "print(d)"
   ]
  },
  {
   "cell_type": "code",
   "execution_count": null,
   "id": "cdc60d9b",
   "metadata": {},
   "outputs": [],
   "source": [
    "# Number lists\n",
    "even = [2, 4, 6, 8]\n",
    "odd = [1, 3, 5, 7, 9]\n",
    "\n",
    "print(min(even))\n",
    "print(min(odd))\n",
    "print(max(even))\n",
    "print(max(odd))\n",
    "print()\n",
    "print(len(even))\n",
    "print(len(odd))\n",
    "print()\n",
    "print(\"mississippi\".count(\"s\"))"
   ]
  },
  {
   "cell_type": "code",
   "execution_count": null,
   "id": "2e4c48a8",
   "metadata": {},
   "outputs": [],
   "source": [
    "# Buy_computer -- the clunky way\n",
    "current_choice =\"-\"\n",
    "computer_parts = []\n",
    "\n",
    "while current_choice != '0':\n",
    "    if current_choice in \"123456\":\n",
    "        print(f\"Adding {current_choice}\")\n",
    "        if current_choice == '1':\n",
    "            computer_parts.append(\"computer\")\n",
    "        elif current_choice == '2':\n",
    "            computer_parts.append(\"moniter\")\n",
    "        elif current_choice == '3':\n",
    "            computer_parts.append(\"keyboard\")\n",
    "        elif current_choice == '4':\n",
    "            computer_parts.append(\"mouse\")\n",
    "        elif current_choice == '5':\n",
    "            computer_parts.append(\"mouse pad\")\n",
    "        elif current_choice == '6':\n",
    "            computer_parts.append(\"hdmi cable\")\n",
    "            \n",
    "    else:\n",
    "        print(\"PLease add options from the list below:\")\n",
    "        print(\"1. computer\")\n",
    "        print(\"2. moniter\")\n",
    "        print(\"3. keyboard\")\n",
    "        print(\"4. mouse\")\n",
    "        print(\"5. mouse pad\")\n",
    "        print(\"6. hdmi cable\")\n",
    "        print(\"0. to finish\")\n",
    "        \n",
    "    current_choice = input()\n",
    "print(computer_parts)\n"
   ]
  },
  {
   "cell_type": "code",
   "execution_count": null,
   "id": "a1d938ed",
   "metadata": {},
   "outputs": [],
   "source": [
    "# Buy_computer -- a more Pythonic way\n",
    "available_parts = [\"computer\",\n",
    "        \"moniter\",\n",
    "        \"keyboard\",\n",
    "        \"mouse\",\n",
    "        \"mouse pad\",\n",
    "        \"hdmi cable\",\n",
    "        \"dvd drive\"\n",
    "        ]\n",
    "\n",
    "# valid_choices = [str(i) in range(1, len(available_parts) +1)]\n",
    "valid_choices = []\n",
    "for i in range(1, len(available_parts) +1):\n",
    "    valid_choices.append(str(i))\n",
    "print(valid_choices)\n",
    "\n",
    "current_choice =\"-\"\n",
    "computer_parts = []\n",
    "\n",
    "while current_choice != '0':\n",
    "    if current_choice in valid_choices:\n",
    "        index = int(current_choice) - 1\n",
    "        chosen_part = available_parts[index]\n",
    "        if chosen_part in computer_parts:\n",
    "            print(f\"Removing {current_choice}\")\n",
    "            computer_parts.remove(chosen_part)\n",
    "        else:\n",
    "            print(f\"Adding {current_choice}\")\n",
    "            computer_parts.append(chosen_part) \n",
    "        print(f\"Your list now contains: {computer_parts}\")\n",
    "    else:\n",
    "        print(\"Please add options from the list below:\")\n",
    "        for number, part in enumerate(available_parts):\n",
    "            print(f\"{number + 1}: {part}\")\n",
    "            \n",
    "    current_choice = input()\n",
    "print(computer_parts)"
   ]
  },
  {
   "cell_type": "markdown",
   "id": "6533fbbe",
   "metadata": {},
   "source": [
    "### Sorting Lists"
   ]
  },
  {
   "cell_type": "code",
   "execution_count": 1,
   "id": "50d18928",
   "metadata": {},
   "outputs": [
    {
     "name": "stdout",
     "output_type": "stream",
     "text": [
      "[2, 4, 6, 8, 1, 3, 5, 7, 9]\n"
     ]
    }
   ],
   "source": [
    "# Number lists\n",
    "even = [2, 4, 6, 8]\n",
    "odd = [1, 3, 5, 7, 9]\n",
    "\n",
    "even.extend(odd)\n",
    "print(even)\n"
   ]
  },
  {
   "cell_type": "code",
   "execution_count": 2,
   "id": "c888b66d",
   "metadata": {},
   "outputs": [
    {
     "name": "stdout",
     "output_type": "stream",
     "text": [
      "[1, 2, 3, 4, 5, 6, 7, 8, 9]\n"
     ]
    }
   ],
   "source": [
    "even.sort()\n",
    "print(even)"
   ]
  },
  {
   "cell_type": "code",
   "execution_count": 3,
   "id": "e63be12c",
   "metadata": {},
   "outputs": [
    {
     "name": "stdout",
     "output_type": "stream",
     "text": [
      "[9, 8, 7, 6, 5, 4, 3, 2, 1]\n"
     ]
    }
   ],
   "source": [
    "even.sort(reverse=True)\n",
    "print(even)"
   ]
  },
  {
   "cell_type": "code",
   "execution_count": 8,
   "id": "79454462",
   "metadata": {},
   "outputs": [
    {
     "name": "stdout",
     "output_type": "stream",
     "text": [
      "letters: [' ', ' ', ' ', ' ', ' ', ' ', ' ', ' ', 'T', 'a', 'b', 'c', 'd', 'e', 'e', 'e', 'f', 'g', 'h', 'h', 'i', 'j', 'k', 'l', 'm', 'n', 'o', 'o', 'o', 'o', 'p', 'q', 'r', 'r', 's', 't', 'u', 'u', 'v', 'w', 'x', 'y', 'z']\n",
      "letters2: [' ', ' ', ' ', ' ', ' ', ' ', ' ', ' ', 'a', 'b', 'c', 'd', 'e', 'e', 'e', 'f', 'g', 'h', 'h', 'i', 'j', 'k', 'l', 'm', 'n', 'o', 'o', 'o', 'o', 'p', 'q', 'r', 'r', 's', 'T', 't', 'u', 'u', 'v', 'w', 'x', 'y', 'z']\n"
     ]
    }
   ],
   "source": [
    "# sorted() function - always returns a different list\n",
    "pangram = \"The quick brown fox jumps over the lazy dog\"\n",
    "\n",
    "letters = sorted(pangram)\n",
    "print(f\"letters: {letters}\")\n",
    "\n",
    "# use casefold() argument to make the sort case-insensitive\n",
    "letters2 = sorted(pangram, key=str.casefold)\n",
    "print(f\"letters2: {letters2}\")"
   ]
  },
  {
   "cell_type": "code",
   "execution_count": 10,
   "id": "a51520bb",
   "metadata": {},
   "outputs": [
    {
     "name": "stdout",
     "output_type": "stream",
     "text": [
      "sorted_numbers: [1.6, 2.3, 3.1, 4.5, 8.7, 9.2]\n",
      "numbers: [2.3, 4.5, 8.7, 3.1, 9.2, 1.6]\n",
      "numbers after sort: [1.6, 2.3, 3.1, 4.5, 8.7, 9.2]\n"
     ]
    }
   ],
   "source": [
    "numbers = [2.3, 4.5, 8.7, 3.1, 9.2, 1.6]\n",
    "sorted_numbers = sorted(numbers)\n",
    "print(f\"sorted_numbers: {sorted_numbers}\")\n",
    "print(f\"numbers: {numbers}\")\n",
    "# The sort() method returns the same list sorted in place\n",
    "numbers.sort()\n",
    "print(f\"numbers after sort: {numbers}\")\n"
   ]
  },
  {
   "cell_type": "code",
   "execution_count": 12,
   "id": "bce39a38",
   "metadata": {},
   "outputs": [
    {
     "name": "stdout",
     "output_type": "stream",
     "text": [
      "['Graham', 'John', 'Terry', 'eric', 'michael', 'terry']\n",
      "['eric', 'Graham', 'John', 'michael', 'Terry', 'terry']\n"
     ]
    }
   ],
   "source": [
    "# Sorting names\n",
    "names = [\n",
    "    \"Graham\",\n",
    "    \"John\",\n",
    "    \"terry\",\n",
    "    \"eric\",\n",
    "    \"Terry\",\n",
    "    \"michael\"\n",
    "]\n",
    "\n",
    "names.sort()\n",
    "print(names)\n",
    "\n",
    "names.sort(key=str.casefold)\n",
    "print(names)"
   ]
  },
  {
   "cell_type": "markdown",
   "id": "94bb9fb5",
   "metadata": {},
   "source": [
    "### Creating Lists"
   ]
  },
  {
   "cell_type": "code",
   "execution_count": 13,
   "id": "b677eb63",
   "metadata": {},
   "outputs": [],
   "source": [
    "empty_list = []\n",
    "\n",
    "even = [2, 4, 6, 8]\n",
    "odd = [1, 3, 5, 7, 9]\n"
   ]
  },
  {
   "cell_type": "code",
   "execution_count": 16,
   "id": "b805cc53",
   "metadata": {},
   "outputs": [
    {
     "name": "stdout",
     "output_type": "stream",
     "text": [
      "numbers: [2, 4, 6, 8, 1, 3, 5, 7, 9]\n"
     ]
    }
   ],
   "source": [
    "numbers = even + odd\n",
    "print(f\"numbers: {numbers}\")"
   ]
  },
  {
   "cell_type": "code",
   "execution_count": 15,
   "id": "860bbe1f",
   "metadata": {},
   "outputs": [
    {
     "name": "stdout",
     "output_type": "stream",
     "text": [
      "sorted_numbers: [1, 2, 3, 4, 5, 6, 7, 8, 9]\n"
     ]
    }
   ],
   "source": [
    "sorted_numbers = sorted(numbers)\n",
    "print(f\"sorted_numbers: {sorted_numbers}\")"
   ]
  },
  {
   "cell_type": "code",
   "execution_count": 17,
   "id": "41e486f0",
   "metadata": {},
   "outputs": [
    {
     "name": "stdout",
     "output_type": "stream",
     "text": [
      "numbers: [2, 4, 6, 8, 1, 3, 5, 7, 9]\n"
     ]
    }
   ],
   "source": [
    "print(f\"numbers: {numbers}\")"
   ]
  },
  {
   "cell_type": "code",
   "execution_count": null,
   "id": "102a3801",
   "metadata": {},
   "outputs": [],
   "source": []
  }
 ],
 "metadata": {
  "kernelspec": {
   "display_name": "Python 3 (ipykernel)",
   "language": "python",
   "name": "python3"
  },
  "language_info": {
   "codemirror_mode": {
    "name": "ipython",
    "version": 3
   },
   "file_extension": ".py",
   "mimetype": "text/x-python",
   "name": "python",
   "nbconvert_exporter": "python",
   "pygments_lexer": "ipython3",
   "version": "3.11.5"
  }
 },
 "nbformat": 4,
 "nbformat_minor": 5
}
