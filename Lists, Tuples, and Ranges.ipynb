{
 "cells": [
  {
   "cell_type": "markdown",
   "id": "a330326c",
   "metadata": {},
   "source": [
    "# Lists, Tuples, and Ranges"
   ]
  },
  {
   "cell_type": "markdown",
   "id": "c70bbcae",
   "metadata": {},
   "source": [
    "Lists, Tuples, and Ranges are sequences. This means that they are an **ordered** set of data.  "
   ]
  },
  {
   "cell_type": "markdown",
   "id": "53b52d53",
   "metadata": {},
   "source": [
    "## Lists"
   ]
  },
  {
   "cell_type": "markdown",
   "id": "6e132ac5",
   "metadata": {},
   "source": [
    "Lists are contained inside square brackets with the items separated by commas. [\"This\", \"is\", \"a\", \"list\"]  \n",
    "Lists can be iterated over using loops, etc.  \n",
    "Lists are **mutable**, that means the contents can be changed."
   ]
  },
  {
   "cell_type": "code",
   "execution_count": null,
   "id": "04500024",
   "metadata": {},
   "outputs": [],
   "source": [
    "computer_parts = [\"computer\",\n",
    "                  \"monitor\",\n",
    "                  \"keyboard\",\n",
    "                  \"mouse\",\n",
    "                  \"mouse pad\"]\n",
    "\n",
    "for part in computer_parts:\n",
    "    print(part)\n",
    "# Indexing a list\n",
    "print()\n",
    "print(computer_parts[2])\n",
    "# Slicing lists\n",
    "print(computer_parts[0:3])\n",
    "print(computer_parts[-1])"
   ]
  },
  {
   "cell_type": "code",
   "execution_count": null,
   "id": "0e78e03d",
   "metadata": {},
   "outputs": [],
   "source": [
    "# Mutable lists\n",
    "shopping_list = [\"milk\", \"pasta\", \"eggs\", \"spam\", \"bread\", \"rice\"]\n",
    "another_list = shopping_list\n",
    "print(id(shopping_list))\n",
    "print(id(another_list))\n",
    "\n",
    "shopping_list += [\"cookies\"]\n",
    "print(shopping_list)\n",
    "print(id(shopping_list))\n",
    "print(another_list)\n",
    "\n",
    "# Lists can have multiple names (aliases)\n",
    "a = b = c= d = e = shopping_list\n",
    "print(a)\n",
    "print(\"Adding cream to list\")\n",
    "b.append(\"cream\")\n",
    "print(c)\n",
    "print(d)"
   ]
  },
  {
   "cell_type": "code",
   "execution_count": null,
   "id": "d0a8bd25",
   "metadata": {},
   "outputs": [],
   "source": [
    "# Number lists\n",
    "even = [2, 4, 6, 8]\n",
    "odd = [1, 3, 5, 7, 9]\n",
    "\n",
    "print(min(even))\n",
    "print(min(odd))\n",
    "print(max(even))\n",
    "print(max(odd))\n",
    "print()\n",
    "print(len(even))\n",
    "print(len(odd))\n",
    "print()\n",
    "print(\"mississippi\".count(\"s\"))"
   ]
  },
  {
   "cell_type": "code",
   "execution_count": null,
   "id": "730dd053",
   "metadata": {},
   "outputs": [],
   "source": [
    "# Buy_computer -- the clunky way\n",
    "current_choice =\"-\"\n",
    "computer_parts = []\n",
    "\n",
    "while current_choice != '0':\n",
    "    if current_choice in \"123456\":\n",
    "        print(f\"Adding {current_choice}\")\n",
    "        if current_choice == '1':\n",
    "            computer_parts.append(\"computer\")\n",
    "        elif current_choice == '2':\n",
    "            computer_parts.append(\"moniter\")\n",
    "        elif current_choice == '3':\n",
    "            computer_parts.append(\"keyboard\")\n",
    "        elif current_choice == '4':\n",
    "            computer_parts.append(\"mouse\")\n",
    "        elif current_choice == '5':\n",
    "            computer_parts.append(\"mouse pad\")\n",
    "        elif current_choice == '6':\n",
    "            computer_parts.append(\"hdmi cable\")\n",
    "            \n",
    "    else:\n",
    "        print(\"PLease add options from the list below:\")\n",
    "        print(\"1. computer\")\n",
    "        print(\"2. moniter\")\n",
    "        print(\"3. keyboard\")\n",
    "        print(\"4. mouse\")\n",
    "        print(\"5. mouse pad\")\n",
    "        print(\"6. hdmi cable\")\n",
    "        print(\"0. to finish\")\n",
    "        \n",
    "    current_choice = input()\n",
    "print(computer_parts)\n"
   ]
  },
  {
   "cell_type": "code",
   "execution_count": null,
   "id": "f6967e23",
   "metadata": {},
   "outputs": [],
   "source": [
    "# Buy_computer -- a more Pythonic way\n",
    "available_parts = [\"computer\",\n",
    "        \"moniter\",\n",
    "        \"keyboard\",\n",
    "        \"mouse\",\n",
    "        \"mouse pad\",\n",
    "        \"hdmi cable\",\n",
    "        \"dvd drive\"\n",
    "        ]\n",
    "\n",
    "# valid_choices = [str(i) in range(1, len(available_parts) +1)]\n",
    "valid_choices = []\n",
    "for i in range(1, len(available_parts) +1):\n",
    "    valid_choices.append(str(i))\n",
    "print(valid_choices)\n",
    "\n",
    "current_choice =\"-\"\n",
    "computer_parts = []\n",
    "\n",
    "while current_choice != '0':\n",
    "    if current_choice in valid_choices:\n",
    "        index = int(current_choice) - 1\n",
    "        chosen_part = available_parts[index]\n",
    "        if chosen_part in computer_parts:\n",
    "            print(f\"Removing {current_choice}\")\n",
    "            computer_parts.remove(chosen_part)\n",
    "        else:\n",
    "            print(f\"Adding {current_choice}\")\n",
    "            computer_parts.append(chosen_part) \n",
    "        print(f\"Your list now contains: {computer_parts}\")\n",
    "    else:\n",
    "        print(\"Please add options from the list below:\")\n",
    "        for number, part in enumerate(available_parts):\n",
    "            print(f\"{number + 1}: {part}\")\n",
    "            \n",
    "    current_choice = input()\n",
    "print(computer_parts)"
   ]
  },
  {
   "cell_type": "markdown",
   "id": "17bfbe79",
   "metadata": {},
   "source": [
    "### Sorting Lists"
   ]
  },
  {
   "cell_type": "code",
   "execution_count": 1,
   "id": "7ec60a0b",
   "metadata": {},
   "outputs": [
    {
     "name": "stdout",
     "output_type": "stream",
     "text": [
      "[2, 4, 6, 8, 1, 3, 5, 7, 9]\n"
     ]
    }
   ],
   "source": [
    "# Number lists\n",
    "even = [2, 4, 6, 8]\n",
    "odd = [1, 3, 5, 7, 9]\n",
    "\n",
    "even.extend(odd)\n",
    "print(even)\n"
   ]
  },
  {
   "cell_type": "code",
   "execution_count": 2,
   "id": "a38fa857",
   "metadata": {},
   "outputs": [
    {
     "name": "stdout",
     "output_type": "stream",
     "text": [
      "[1, 2, 3, 4, 5, 6, 7, 8, 9]\n"
     ]
    }
   ],
   "source": [
    "even.sort()\n",
    "print(even)"
   ]
  },
  {
   "cell_type": "code",
   "execution_count": 3,
   "id": "f323757b",
   "metadata": {},
   "outputs": [
    {
     "name": "stdout",
     "output_type": "stream",
     "text": [
      "[9, 8, 7, 6, 5, 4, 3, 2, 1]\n"
     ]
    }
   ],
   "source": [
    "even.sort(reverse=True)\n",
    "print(even)"
   ]
  },
  {
   "cell_type": "code",
   "execution_count": 8,
   "id": "d5f5349e",
   "metadata": {},
   "outputs": [
    {
     "name": "stdout",
     "output_type": "stream",
     "text": [
      "letters: [' ', ' ', ' ', ' ', ' ', ' ', ' ', ' ', 'T', 'a', 'b', 'c', 'd', 'e', 'e', 'e', 'f', 'g', 'h', 'h', 'i', 'j', 'k', 'l', 'm', 'n', 'o', 'o', 'o', 'o', 'p', 'q', 'r', 'r', 's', 't', 'u', 'u', 'v', 'w', 'x', 'y', 'z']\n",
      "letters2: [' ', ' ', ' ', ' ', ' ', ' ', ' ', ' ', 'a', 'b', 'c', 'd', 'e', 'e', 'e', 'f', 'g', 'h', 'h', 'i', 'j', 'k', 'l', 'm', 'n', 'o', 'o', 'o', 'o', 'p', 'q', 'r', 'r', 's', 'T', 't', 'u', 'u', 'v', 'w', 'x', 'y', 'z']\n"
     ]
    }
   ],
   "source": [
    "# sorted() function - always returns a different list\n",
    "pangram = \"The quick brown fox jumps over the lazy dog\"\n",
    "\n",
    "letters = sorted(pangram)\n",
    "print(f\"letters: {letters}\")\n",
    "\n",
    "# use casefold() argument to make the sort case-insensitive\n",
    "letters2 = sorted(pangram, key=str.casefold)\n",
    "print(f\"letters2: {letters2}\")"
   ]
  },
  {
   "cell_type": "code",
   "execution_count": 10,
   "id": "794fe0e1",
   "metadata": {},
   "outputs": [
    {
     "name": "stdout",
     "output_type": "stream",
     "text": [
      "sorted_numbers: [1.6, 2.3, 3.1, 4.5, 8.7, 9.2]\n",
      "numbers: [2.3, 4.5, 8.7, 3.1, 9.2, 1.6]\n",
      "numbers after sort: [1.6, 2.3, 3.1, 4.5, 8.7, 9.2]\n"
     ]
    }
   ],
   "source": [
    "numbers = [2.3, 4.5, 8.7, 3.1, 9.2, 1.6]\n",
    "sorted_numbers = sorted(numbers)\n",
    "print(f\"sorted_numbers: {sorted_numbers}\")\n",
    "print(f\"numbers: {numbers}\")\n",
    "# The sort() method returns the same list sorted in place\n",
    "numbers.sort()\n",
    "print(f\"numbers after sort: {numbers}\")\n"
   ]
  },
  {
   "cell_type": "code",
   "execution_count": 12,
   "id": "b3932481",
   "metadata": {},
   "outputs": [
    {
     "name": "stdout",
     "output_type": "stream",
     "text": [
      "['Graham', 'John', 'Terry', 'eric', 'michael', 'terry']\n",
      "['eric', 'Graham', 'John', 'michael', 'Terry', 'terry']\n"
     ]
    }
   ],
   "source": [
    "# Sorting names\n",
    "names = [\n",
    "    \"Graham\",\n",
    "    \"John\",\n",
    "    \"terry\",\n",
    "    \"eric\",\n",
    "    \"Terry\",\n",
    "    \"michael\"\n",
    "]\n",
    "\n",
    "names.sort()\n",
    "print(names)\n",
    "\n",
    "names.sort(key=str.casefold)\n",
    "print(names)"
   ]
  },
  {
   "cell_type": "markdown",
   "id": "30b4c69c",
   "metadata": {},
   "source": [
    "### Creating Lists"
   ]
  },
  {
   "cell_type": "code",
   "execution_count": 13,
   "id": "43361302",
   "metadata": {},
   "outputs": [],
   "source": [
    "empty_list = []\n",
    "\n",
    "even = [2, 4, 6, 8]\n",
    "odd = [1, 3, 5, 7, 9]\n"
   ]
  },
  {
   "cell_type": "code",
   "execution_count": 16,
   "id": "c031f5aa",
   "metadata": {},
   "outputs": [
    {
     "name": "stdout",
     "output_type": "stream",
     "text": [
      "numbers: [2, 4, 6, 8, 1, 3, 5, 7, 9]\n"
     ]
    }
   ],
   "source": [
    "numbers = even + odd\n",
    "print(f\"numbers: {numbers}\")"
   ]
  },
  {
   "cell_type": "code",
   "execution_count": 15,
   "id": "b2470b3b",
   "metadata": {},
   "outputs": [
    {
     "name": "stdout",
     "output_type": "stream",
     "text": [
      "sorted_numbers: [1, 2, 3, 4, 5, 6, 7, 8, 9]\n"
     ]
    }
   ],
   "source": [
    "sorted_numbers = sorted(numbers)\n",
    "print(f\"sorted_numbers: {sorted_numbers}\")"
   ]
  },
  {
   "cell_type": "code",
   "execution_count": 17,
   "id": "12d60e98",
   "metadata": {},
   "outputs": [
    {
     "name": "stdout",
     "output_type": "stream",
     "text": [
      "numbers: [2, 4, 6, 8, 1, 3, 5, 7, 9]\n"
     ]
    }
   ],
   "source": [
    "print(f\"numbers: {numbers}\")"
   ]
  },
  {
   "cell_type": "code",
   "execution_count": 19,
   "id": "8f9dd0f6",
   "metadata": {},
   "outputs": [
    {
     "name": "stdout",
     "output_type": "stream",
     "text": [
      "digits: ['2', '3', '3', '4', '5', '6', '7', '7', '8', '9']\n"
     ]
    }
   ],
   "source": [
    "digits = sorted(\"4327895637\")\n",
    "print(f\"digits: {digits}\")\n",
    "# digits is a string, so sorted() returns a lisst of strings"
   ]
  },
  {
   "cell_type": "code",
   "execution_count": 22,
   "id": "5f5625ce",
   "metadata": {},
   "outputs": [
    {
     "name": "stdout",
     "output_type": "stream",
     "text": [
      "digits: ['4', '3', '2', '7', '8', '9', '5', '6', '3', '7']\n"
     ]
    }
   ],
   "source": [
    "# Use the list() function to return an unsorted list of strings\n",
    "digits = list(\"4327895637\")\n",
    "print(f\"digits: {digits}\")"
   ]
  },
  {
   "cell_type": "code",
   "execution_count": 28,
   "id": "9ee72f5e",
   "metadata": {},
   "outputs": [
    {
     "name": "stdout",
     "output_type": "stream",
     "text": [
      "more_numbers: [2, 4, 6, 8, 1, 3, 5, 7, 9]\n",
      "False\n",
      "True\n"
     ]
    }
   ],
   "source": [
    "# Copying lists\n",
    "# more_numbers = list(numbers)\n",
    "# more_numbers = numbers[:]\n",
    "more_numbers = numbers.copy()\n",
    "print(f\"more_numbers: {more_numbers}\")\n",
    "# numbers and more_numbers are not the same list\n",
    "print(numbers is more_numbers)\n",
    "# numbers and more_numbers contain the same list\n",
    "print(numbers == more_numbers)"
   ]
  },
  {
   "cell_type": "markdown",
   "id": "61692156",
   "metadata": {},
   "source": [
    "## Using Indexing and Slices to Change a List"
   ]
  },
  {
   "cell_type": "code",
   "execution_count": 31,
   "id": "30efb607",
   "metadata": {},
   "outputs": [
    {
     "name": "stdout",
     "output_type": "stream",
     "text": [
      "['computer', 'moniter', 'keyboard', 'mouse', 'mouse pad', 'hdmi cable', 'dvd drive']\n",
      "['computer', 'moniter', 'keyboard', 'trackball', 'mouse pad', 'hdmi cable', 'dvd drive']\n",
      "['computer', 'moniter', 'keyboard', 'trackball', 'hdmi cable', 'dvd drive']\n"
     ]
    }
   ],
   "source": [
    "# Change a list using an index\n",
    "computer_parts = [\"computer\",\n",
    "        \"moniter\",\n",
    "        \"keyboard\",\n",
    "        \"mouse\",\n",
    "        \"mouse pad\",\n",
    "        \"hdmi cable\",\n",
    "        \"dvd drive\"\n",
    "        ]\n",
    "\n",
    "print(computer_parts)\n",
    "\n",
    "# Replace mouse with trackball\n",
    "computer_parts[3] = \"trackball\"\n",
    "print(computer_parts)\n",
    "\n",
    "# Replace mouse and mouse pad with trackball\n",
    "computer_parts[3:5] = [\"trackball\"]\n",
    "print(computer_parts)\n"
   ]
  },
  {
   "cell_type": "markdown",
   "id": "07a4ac15",
   "metadata": {},
   "source": [
    "### Deleting Items From a List"
   ]
  },
  {
   "cell_type": "code",
   "execution_count": 33,
   "id": "6e8bd0a6",
   "metadata": {},
   "outputs": [
    {
     "name": "stdout",
     "output_type": "stream",
     "text": [
      "[104, 105, 110, 120, 130, 130, 150, 160, 170, 183, 186, 188, 191, 350, 360]\n",
      "[104, 105, 110, 120, 130, 130, 150, 160, 170, 183, 186, 188, 191]\n"
     ]
    }
   ],
   "source": [
    "# Deleting outliers\n",
    "data = [4, 5, 104, 105, 110, 120, 130, 130, 150,\n",
    "       160, 170, 183, 186, 188, 191, 350, 360]\n",
    "\n",
    "# del data[:2]\n",
    "# print(data)\n",
    "# del data[-2:]\n",
    "# print(data)\n",
    "\n",
    "min_valid = 100\n",
    "max_valid = 200\n"
   ]
  },
  {
   "cell_type": "code",
   "execution_count": 46,
   "id": "d28065fd",
   "metadata": {},
   "outputs": [
    {
     "name": "stdout",
     "output_type": "stream",
     "text": [
      "0\n",
      "[]\n",
      "0\n",
      "[]\n"
     ]
    }
   ],
   "source": [
    "# Safely removing items from an ordered list\n",
    "# data = [4, 5, 104, 105, 110, 120, 130, 130, 150,\n",
    "#       160, 170, 183, 186, 188, 191, 350, 360]\n",
    "# data = [4, 5, 104, 105, 110, 120, 130, 130, 150, \n",
    "#         160, 170, 183, 186, 188, 191]\n",
    "# data = [104, 105, 110, 120, 130, 130, 150,\n",
    "#        160, 170, 183, 186, 188, 191, 350, 360]\n",
    "# data = [104, 105, 110, 120, 130, 130, 150,\n",
    "#        160, 170, 183, 186, 188, 191]\n",
    "# data = [1041, 1052, 1103, 1204, 1305, 1306, 15077,\n",
    "#        1608, 1709, 1839, 1868, 1887, 1916, 3505, 3604]\n",
    "data = []\n",
    "\n",
    "min_valid = 100\n",
    "max_valid = 200\n",
    "\n",
    "# Process low values in list\n",
    "stop = 0\n",
    "for index, value in enumerate(data):\n",
    "    if value >= min_valid:\n",
    "        stop = index\n",
    "        break\n",
    "        \n",
    "print(stop)    # for debugging\n",
    "del data[:stop]\n",
    "print(data)\n",
    "\n",
    "# Processing the high values in the list\n",
    "start = 0\n",
    "for index in range(len(data) -1, -1, -1):\n",
    "    if data[index] <= max_valid:\n",
    "        start = index + 1    # set start to firsst item to delete\n",
    "        break\n",
    "        \n",
    "print(start)    # for debugging\n",
    "del data[start:]\n",
    "print(data)\n"
   ]
  },
  {
   "cell_type": "code",
   "execution_count": null,
   "id": "d6d0c9c0",
   "metadata": {},
   "outputs": [],
   "source": []
  }
 ],
 "metadata": {
  "kernelspec": {
   "display_name": "Python 3 (ipykernel)",
   "language": "python",
   "name": "python3"
  },
  "language_info": {
   "codemirror_mode": {
    "name": "ipython",
    "version": 3
   },
   "file_extension": ".py",
   "mimetype": "text/x-python",
   "name": "python",
   "nbconvert_exporter": "python",
   "pygments_lexer": "ipython3",
   "version": "3.11.5"
  }
 },
 "nbformat": 4,
 "nbformat_minor": 5
}
