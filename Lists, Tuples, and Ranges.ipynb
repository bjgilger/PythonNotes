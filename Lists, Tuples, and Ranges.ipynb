{
 "cells": [
  {
   "cell_type": "markdown",
   "id": "a330326c",
   "metadata": {},
   "source": [
    "# Lists, Tuples, and Ranges"
   ]
  },
  {
   "cell_type": "markdown",
   "id": "c70bbcae",
   "metadata": {},
   "source": [
    "Lists, Tuples, and Ranges are sequences. This means that they are an **ordered** set of data.  "
   ]
  },
  {
   "cell_type": "markdown",
   "id": "53b52d53",
   "metadata": {},
   "source": [
    "## Lists"
   ]
  },
  {
   "cell_type": "markdown",
   "id": "6e132ac5",
   "metadata": {},
   "source": [
    "Lists are contained inside square brackets with the items separated by commas. [\"This\", \"is\", \"a\", \"list\"]  \n",
    "Lists can be iterated over using loops, etc.  \n",
    "Lists are **mutable**, that means the contents can be changed."
   ]
  },
  {
   "cell_type": "code",
   "execution_count": null,
   "id": "04500024",
   "metadata": {},
   "outputs": [],
   "source": [
    "computer_parts = [\"computer\",\n",
    "                  \"monitor\",\n",
    "                  \"keyboard\",\n",
    "                  \"mouse\",\n",
    "                  \"mouse pad\"]\n",
    "\n",
    "for part in computer_parts:\n",
    "    print(part)\n",
    "# Indexing a list\n",
    "print()\n",
    "print(computer_parts[2])\n",
    "# Slicing lists\n",
    "print(computer_parts[0:3])\n",
    "print(computer_parts[-1])"
   ]
  },
  {
   "cell_type": "code",
   "execution_count": null,
   "id": "0e78e03d",
   "metadata": {},
   "outputs": [],
   "source": [
    "# Mutable lists\n",
    "shopping_list = [\"milk\", \"pasta\", \"eggs\", \"spam\", \"bread\", \"rice\"]\n",
    "another_list = shopping_list\n",
    "print(id(shopping_list))\n",
    "print(id(another_list))\n",
    "\n",
    "shopping_list += [\"cookies\"]\n",
    "print(shopping_list)\n",
    "print(id(shopping_list))\n",
    "print(another_list)\n",
    "\n",
    "# Lists can have multiple names (aliases)\n",
    "a = b = c = d = e = shopping_list\n",
    "print(a)\n",
    "print(\"Adding cream to list\")\n",
    "b.append(\"cream\")\n",
    "print(c)\n",
    "print(d)"
   ]
  },
  {
   "cell_type": "code",
   "execution_count": null,
   "id": "d0a8bd25",
   "metadata": {},
   "outputs": [],
   "source": [
    "# Number lists\n",
    "even = [2, 4, 6, 8]\n",
    "odd = [1, 3, 5, 7, 9]\n",
    "\n",
    "print(min(even))\n",
    "print(min(odd))\n",
    "print(max(even))\n",
    "print(max(odd))\n",
    "print()\n",
    "print(len(even))\n",
    "print(len(odd))\n",
    "print()\n",
    "print(\"mississippi\".count(\"s\"))"
   ]
  },
  {
   "cell_type": "code",
   "execution_count": null,
   "id": "730dd053",
   "metadata": {},
   "outputs": [],
   "source": [
    "# Buy_computer -- the clunky way\n",
    "current_choice = \"-\"\n",
    "computer_parts = []\n",
    "\n",
    "while current_choice != '0':\n",
    "    if current_choice in \"123456\":\n",
    "        print(f\"Adding {current_choice}\")\n",
    "        if current_choice == '1':\n",
    "            computer_parts.append(\"computer\")\n",
    "        elif current_choice == '2':\n",
    "            computer_parts.append(\"moniter\")\n",
    "        elif current_choice == '3':\n",
    "            computer_parts.append(\"keyboard\")\n",
    "        elif current_choice == '4':\n",
    "            computer_parts.append(\"mouse\")\n",
    "        elif current_choice == '5':\n",
    "            computer_parts.append(\"mouse pad\")\n",
    "        elif current_choice == '6':\n",
    "            computer_parts.append(\"hdmi cable\")\n",
    "\n",
    "    else:\n",
    "        print(\"PLease add options from the list below:\")\n",
    "        print(\"1. computer\")\n",
    "        print(\"2. moniter\")\n",
    "        print(\"3. keyboard\")\n",
    "        print(\"4. mouse\")\n",
    "        print(\"5. mouse pad\")\n",
    "        print(\"6. hdmi cable\")\n",
    "        print(\"0. to finish\")\n",
    "\n",
    "    current_choice = input()\n",
    "print(computer_parts)\n"
   ]
  },
  {
   "cell_type": "code",
   "execution_count": null,
   "id": "f6967e23",
   "metadata": {},
   "outputs": [],
   "source": [
    "# Buy_computer -- a more Pythonic way\n",
    "available_parts = [\"computer\",\n",
    "                   \"moniter\",\n",
    "                   \"keyboard\",\n",
    "                   \"mouse\",\n",
    "                   \"mouse pad\",\n",
    "                   \"hdmi cable\",\n",
    "                   \"dvd drive\"\n",
    "                   ]\n",
    "\n",
    "# valid_choices = [str(i) in range(1, len(available_parts) +1)]\n",
    "valid_choices = []\n",
    "for i in range(1, len(available_parts) + 1):\n",
    "    valid_choices.append(str(i))\n",
    "print(valid_choices)\n",
    "\n",
    "current_choice = \"-\"\n",
    "computer_parts = []\n",
    "\n",
    "while current_choice != '0':\n",
    "    if current_choice in valid_choices:\n",
    "        index = int(current_choice) - 1\n",
    "        chosen_part = available_parts[index]\n",
    "        if chosen_part in computer_parts:\n",
    "            print(f\"Removing {current_choice}\")\n",
    "            computer_parts.remove(chosen_part)\n",
    "        else:\n",
    "            print(f\"Adding {current_choice}\")\n",
    "            computer_parts.append(chosen_part)\n",
    "        print(f\"Your list now contains: {computer_parts}\")\n",
    "    else:\n",
    "        print(\"Please add options from the list below:\")\n",
    "        for number, part in enumerate(available_parts):\n",
    "            print(f\"{number + 1}: {part}\")\n",
    "\n",
    "    current_choice = input()\n",
    "print(computer_parts)"
   ]
  },
  {
   "cell_type": "markdown",
   "id": "17bfbe79",
   "metadata": {},
   "source": [
    "### Sorting Lists"
   ]
  },
  {
   "cell_type": "code",
   "execution_count": 1,
   "id": "7ec60a0b",
   "metadata": {},
   "outputs": [
    {
     "name": "stdout",
     "output_type": "stream",
     "text": [
      "[2, 4, 6, 8, 1, 3, 5, 7, 9]\n"
     ]
    }
   ],
   "source": [
    "# Number lists\n",
    "even = [2, 4, 6, 8]\n",
    "odd = [1, 3, 5, 7, 9]\n",
    "\n",
    "even.extend(odd)\n",
    "print(even)\n"
   ]
  },
  {
   "cell_type": "code",
   "execution_count": 2,
   "id": "a38fa857",
   "metadata": {},
   "outputs": [
    {
     "name": "stdout",
     "output_type": "stream",
     "text": [
      "[1, 2, 3, 4, 5, 6, 7, 8, 9]\n"
     ]
    }
   ],
   "source": [
    "even.sort()\n",
    "print(even)"
   ]
  },
  {
   "cell_type": "code",
   "execution_count": 3,
   "id": "f323757b",
   "metadata": {},
   "outputs": [
    {
     "name": "stdout",
     "output_type": "stream",
     "text": [
      "[9, 8, 7, 6, 5, 4, 3, 2, 1]\n"
     ]
    }
   ],
   "source": [
    "even.sort(reverse=True)\n",
    "print(even)"
   ]
  },
  {
   "cell_type": "code",
   "execution_count": 8,
   "id": "d5f5349e",
   "metadata": {},
   "outputs": [
    {
     "name": "stdout",
     "output_type": "stream",
     "text": [
      "letters: [' ', ' ', ' ', ' ', ' ', ' ', ' ', ' ', 'T', 'a', 'b', 'c', 'd', 'e', 'e', 'e', 'f', 'g', 'h', 'h', 'i', 'j', 'k', 'l', 'm', 'n', 'o', 'o', 'o', 'o', 'p', 'q', 'r', 'r', 's', 't', 'u', 'u', 'v', 'w', 'x', 'y', 'z']\n",
      "letters2: [' ', ' ', ' ', ' ', ' ', ' ', ' ', ' ', 'a', 'b', 'c', 'd', 'e', 'e', 'e', 'f', 'g', 'h', 'h', 'i', 'j', 'k', 'l', 'm', 'n', 'o', 'o', 'o', 'o', 'p', 'q', 'r', 'r', 's', 'T', 't', 'u', 'u', 'v', 'w', 'x', 'y', 'z']\n"
     ]
    }
   ],
   "source": [
    "# sorted() function - always returns a different list\n",
    "pangram = \"The quick brown fox jumps over the lazy dog\"\n",
    "\n",
    "letters = sorted(pangram)\n",
    "print(f\"letters: {letters}\")\n",
    "\n",
    "# use casefold() argument to make the sort case-insensitive\n",
    "letters2 = sorted(pangram, key=str.casefold)\n",
    "print(f\"letters2: {letters2}\")"
   ]
  },
  {
   "cell_type": "code",
   "execution_count": 10,
   "id": "794fe0e1",
   "metadata": {},
   "outputs": [
    {
     "name": "stdout",
     "output_type": "stream",
     "text": [
      "sorted_numbers: [1.6, 2.3, 3.1, 4.5, 8.7, 9.2]\n",
      "numbers: [2.3, 4.5, 8.7, 3.1, 9.2, 1.6]\n",
      "numbers after sort: [1.6, 2.3, 3.1, 4.5, 8.7, 9.2]\n"
     ]
    }
   ],
   "source": [
    "numbers = [2.3, 4.5, 8.7, 3.1, 9.2, 1.6]\n",
    "sorted_numbers = sorted(numbers)\n",
    "print(f\"sorted_numbers: {sorted_numbers}\")\n",
    "print(f\"numbers: {numbers}\")\n",
    "# The sort() method returns the same list sorted in place\n",
    "numbers.sort()\n",
    "print(f\"numbers after sort: {numbers}\")\n"
   ]
  },
  {
   "cell_type": "code",
   "execution_count": 12,
   "id": "b3932481",
   "metadata": {},
   "outputs": [
    {
     "name": "stdout",
     "output_type": "stream",
     "text": [
      "['Graham', 'John', 'Terry', 'eric', 'michael', 'terry']\n",
      "['eric', 'Graham', 'John', 'michael', 'Terry', 'terry']\n"
     ]
    }
   ],
   "source": [
    "# Sorting names\n",
    "names = [\n",
    "    \"Graham\",\n",
    "    \"John\",\n",
    "    \"terry\",\n",
    "    \"eric\",\n",
    "    \"Terry\",\n",
    "    \"michael\"\n",
    "]\n",
    "\n",
    "names.sort()\n",
    "print(names)\n",
    "\n",
    "names.sort(key=str.casefold)\n",
    "print(names)"
   ]
  },
  {
   "cell_type": "markdown",
   "id": "30b4c69c",
   "metadata": {},
   "source": [
    "### Creating Lists"
   ]
  },
  {
   "cell_type": "code",
   "execution_count": 13,
   "id": "43361302",
   "metadata": {},
   "outputs": [],
   "source": [
    "empty_list = []\n",
    "\n",
    "even = [2, 4, 6, 8]\n",
    "odd = [1, 3, 5, 7, 9]\n"
   ]
  },
  {
   "cell_type": "code",
   "execution_count": 16,
   "id": "c031f5aa",
   "metadata": {},
   "outputs": [
    {
     "name": "stdout",
     "output_type": "stream",
     "text": [
      "numbers: [2, 4, 6, 8, 1, 3, 5, 7, 9]\n"
     ]
    }
   ],
   "source": [
    "numbers = even + odd\n",
    "print(f\"numbers: {numbers}\")"
   ]
  },
  {
   "cell_type": "code",
   "execution_count": 15,
   "id": "b2470b3b",
   "metadata": {},
   "outputs": [
    {
     "name": "stdout",
     "output_type": "stream",
     "text": [
      "sorted_numbers: [1, 2, 3, 4, 5, 6, 7, 8, 9]\n"
     ]
    }
   ],
   "source": [
    "sorted_numbers = sorted(numbers)\n",
    "print(f\"sorted_numbers: {sorted_numbers}\")"
   ]
  },
  {
   "cell_type": "code",
   "execution_count": 17,
   "id": "12d60e98",
   "metadata": {},
   "outputs": [
    {
     "name": "stdout",
     "output_type": "stream",
     "text": [
      "numbers: [2, 4, 6, 8, 1, 3, 5, 7, 9]\n"
     ]
    }
   ],
   "source": [
    "print(f\"numbers: {numbers}\")"
   ]
  },
  {
   "cell_type": "code",
   "execution_count": 19,
   "id": "8f9dd0f6",
   "metadata": {},
   "outputs": [
    {
     "name": "stdout",
     "output_type": "stream",
     "text": [
      "digits: ['2', '3', '3', '4', '5', '6', '7', '7', '8', '9']\n"
     ]
    }
   ],
   "source": [
    "digits = sorted(\"4327895637\")\n",
    "print(f\"digits: {digits}\")\n",
    "# digits is a string, so sorted() returns a lisst of strings"
   ]
  },
  {
   "cell_type": "code",
   "execution_count": 22,
   "id": "5f5625ce",
   "metadata": {},
   "outputs": [
    {
     "name": "stdout",
     "output_type": "stream",
     "text": [
      "digits: ['4', '3', '2', '7', '8', '9', '5', '6', '3', '7']\n"
     ]
    }
   ],
   "source": [
    "# Use the list() function to return an unsorted list of strings\n",
    "digits = list(\"4327895637\")\n",
    "print(f\"digits: {digits}\")"
   ]
  },
  {
   "cell_type": "code",
   "execution_count": 28,
   "id": "9ee72f5e",
   "metadata": {},
   "outputs": [
    {
     "name": "stdout",
     "output_type": "stream",
     "text": [
      "more_numbers: [2, 4, 6, 8, 1, 3, 5, 7, 9]\n",
      "False\n",
      "True\n"
     ]
    }
   ],
   "source": [
    "# Copying lists\n",
    "# more_numbers = list(numbers)\n",
    "# more_numbers = numbers[:]\n",
    "more_numbers = numbers.copy()\n",
    "print(f\"more_numbers: {more_numbers}\")\n",
    "# numbers and more_numbers are not the same list\n",
    "print(numbers is more_numbers)\n",
    "# numbers and more_numbers contain the same list\n",
    "print(numbers == more_numbers)"
   ]
  },
  {
   "cell_type": "markdown",
   "id": "61692156",
   "metadata": {},
   "source": "### Using Indexing and Slices to Change a List"
  },
  {
   "cell_type": "code",
   "execution_count": 31,
   "id": "30efb607",
   "metadata": {},
   "outputs": [
    {
     "name": "stdout",
     "output_type": "stream",
     "text": [
      "['computer', 'moniter', 'keyboard', 'mouse', 'mouse pad', 'hdmi cable', 'dvd drive']\n",
      "['computer', 'moniter', 'keyboard', 'trackball', 'mouse pad', 'hdmi cable', 'dvd drive']\n",
      "['computer', 'moniter', 'keyboard', 'trackball', 'hdmi cable', 'dvd drive']\n"
     ]
    }
   ],
   "source": [
    "# Change a list using an index\n",
    "computer_parts = [\"computer\",\n",
    "                  \"moniter\",\n",
    "                  \"keyboard\",\n",
    "                  \"mouse\",\n",
    "                  \"mouse pad\",\n",
    "                  \"hdmi cable\",\n",
    "                  \"dvd drive\"\n",
    "                  ]\n",
    "\n",
    "print(computer_parts)\n",
    "\n",
    "# Replace mouse with trackball\n",
    "computer_parts[3] = \"trackball\"\n",
    "print(computer_parts)\n",
    "\n",
    "# Replace mouse and mouse pad with trackball\n",
    "computer_parts[3:5] = [\"trackball\"]\n",
    "print(computer_parts)\n"
   ]
  },
  {
   "cell_type": "markdown",
   "id": "07a4ac15",
   "metadata": {},
   "source": [
    "### Deleting Items From a List"
   ]
  },
  {
   "cell_type": "code",
   "execution_count": 33,
   "id": "6e8bd0a6",
   "metadata": {},
   "outputs": [
    {
     "name": "stdout",
     "output_type": "stream",
     "text": [
      "[104, 105, 110, 120, 130, 130, 150, 160, 170, 183, 186, 188, 191, 350, 360]\n",
      "[104, 105, 110, 120, 130, 130, 150, 160, 170, 183, 186, 188, 191]\n"
     ]
    }
   ],
   "source": [
    "# Deleting outliers\n",
    "data = [4, 5, 104, 105, 110, 120, 130, 130, 150,\n",
    "        160, 170, 183, 186, 188, 191, 350, 360]\n",
    "\n",
    "# del data[:2]\n",
    "# print(data)\n",
    "# del data[-2:]\n",
    "# print(data)\n",
    "\n",
    "min_valid = 100\n",
    "max_valid = 200\n"
   ]
  },
  {
   "cell_type": "code",
   "id": "d28065fd",
   "metadata": {
    "ExecuteTime": {
     "end_time": "2024-07-27T00:42:33.181100Z",
     "start_time": "2024-07-27T00:42:33.132098Z"
    }
   },
   "source": [
    "# Safely removing items from an ordered list\n",
    "data = [4, 5, 104, 105, 110, 120, 130, 130, 150,\n",
    "        160, 170, 183, 186, 188, 191, 350, 360]\n",
    "# data = [4, 5, 104, 105, 110, 120, 130, 130, 150, \n",
    "#         160, 170, 183, 186, 188, 191]\n",
    "# data = [104, 105, 110, 120, 130, 130, 150,\n",
    "#        160, 170, 183, 186, 188, 191, 350, 360]\n",
    "# data = [104, 105, 110, 120, 130, 130, 150,\n",
    "#        160, 170, 183, 186, 188, 191]\n",
    "# data = [1041, 1052, 1103, 1204, 1305, 1306, 15077,\n",
    "#        1608, 1709, 1839, 1868, 1887, 1916, 3505, 3604]\n",
    "# data = []\n",
    "\n",
    "min_valid = 100\n",
    "max_valid = 200\n",
    "\n",
    "# Process low values in list\n",
    "stop = 0\n",
    "for index, value in enumerate(data):\n",
    "    if value >= min_valid:\n",
    "        stop = index\n",
    "        break\n",
    "\n",
    "print(stop)  # for debugging\n",
    "del data[:stop]\n",
    "print(data)\n",
    "\n",
    "# Processing the high values in the list\n",
    "start = 0\n",
    "for index in range(len(data) - 1, -1, -1):\n",
    "    if data[index] <= max_valid:\n",
    "        start = index + 1  # set start to firsst item to delete\n",
    "        break\n",
    "\n",
    "print(start)  # for debugging\n",
    "del data[start:]\n",
    "print(data)\n"
   ],
   "outputs": [
    {
     "name": "stdout",
     "output_type": "stream",
     "text": [
      "2\n",
      "[104, 105, 110, 120, 130, 130, 150, 160, 170, 183, 186, 188, 191, 350, 360]\n",
      "13\n",
      "[104, 105, 110, 120, 130, 130, 150, 160, 170, 183, 186, 188, 191]\n"
     ]
    }
   ],
   "execution_count": 1
  },
  {
   "metadata": {},
   "cell_type": "markdown",
   "source": "### Removing Rogue Values",
   "id": "20d4398611eec49f"
  },
  {
   "metadata": {},
   "cell_type": "markdown",
   "source": [
    "Iterating forward is difficult and requires extra code because it changes the index values on each iteration.  \n",
    "It is more efficient to iterate backwards."
   ],
   "id": "ab96a022dc5ad0"
  },
  {
   "metadata": {
    "ExecuteTime": {
     "end_time": "2024-07-27T21:33:09.924765Z",
     "start_time": "2024-07-27T21:33:09.920589Z"
    }
   },
   "cell_type": "code",
   "source": [
    "# Iterating backwards\n",
    "data = [104, 101, 4, 105, 308, 103, 5, 107, 100, 306, 106, 102, 108]\n",
    "min_valid = 100\n",
    "max_valid = 200\n",
    "\n",
    "for index in range(len(data) - 1, -1, -1):\n",
    "    if data[index] < min_valid or data[index] > max_valid:\n",
    "        print(index, data)\n",
    "        del data[index]\n",
    "\n",
    "print(data)"
   ],
   "id": "49ff03d2c634844f",
   "outputs": [
    {
     "name": "stdout",
     "output_type": "stream",
     "text": [
      "9 [104, 101, 4, 105, 308, 103, 5, 107, 100, 306, 106, 102, 108]\n",
      "6 [104, 101, 4, 105, 308, 103, 5, 107, 100, 106, 102, 108]\n",
      "4 [104, 101, 4, 105, 308, 103, 107, 100, 106, 102, 108]\n",
      "2 [104, 101, 4, 105, 103, 107, 100, 106, 102, 108]\n",
      "[104, 101, 105, 103, 107, 100, 106, 102, 108]\n"
     ]
    }
   ],
   "execution_count": 4
  },
  {
   "metadata": {
    "ExecuteTime": {
     "end_time": "2024-07-27T21:48:24.977798Z",
     "start_time": "2024-07-27T21:48:24.973900Z"
    }
   },
   "cell_type": "code",
   "source": [
    "# Another way to iterate backwards -- the reversed() and enumerate() functions\n",
    "data = [104, 101, 4, 105, 308, 103, 5, 107, 100, 306, 106, 102, 108]\n",
    "min_valid = 100\n",
    "max_valid = 200\n",
    "\n",
    "top_index = len(data) - 1\n",
    "for index, value in enumerate(reversed(data)):\n",
    "    if value < min_valid or value > max_valid:\n",
    "        print(top_index - index, value)\n",
    "        del data[top_index - index]\n",
    "\n",
    "print(data)"
   ],
   "id": "bfd5a47b97730eda",
   "outputs": [
    {
     "name": "stdout",
     "output_type": "stream",
     "text": [
      "9 306\n",
      "6 5\n",
      "4 308\n",
      "2 4\n",
      "[104, 101, 105, 103, 107, 100, 106, 102, 108]\n"
     ]
    }
   ],
   "execution_count": 10
  },
  {
   "metadata": {},
   "cell_type": "markdown",
   "source": "### Nested Lists",
   "id": "3ddb594a6266ce5d"
  },
  {
   "metadata": {
    "ExecuteTime": {
     "end_time": "2024-07-27T22:17:54.246199Z",
     "start_time": "2024-07-27T22:17:54.242160Z"
    }
   },
   "cell_type": "code",
   "source": [
    "empty_list = []\n",
    "even = [2, 4, 6, 8]\n",
    "odd = [1, 3, 5, 7, 9]\n",
    "\n",
    "numbers = [even, odd]\n",
    "print(f\"numbers: {numbers}\")\n",
    "\n",
    "for numbers_list in numbers:\n",
    "    print(f\"numbers_list: {numbers_list}\")\n",
    "\n",
    "    for value in numbers_list:\n",
    "        print(f\"value: {value}\")\n"
   ],
   "id": "47ec27e7d752cc4c",
   "outputs": [
    {
     "name": "stdout",
     "output_type": "stream",
     "text": [
      "numbers: [[2, 4, 6, 8], [1, 3, 5, 7, 9]]\n",
      "numbers_list: [2, 4, 6, 8]\n",
      "value: 2\n",
      "value: 4\n",
      "value: 6\n",
      "value: 8\n",
      "numbers_list: [1, 3, 5, 7, 9]\n",
      "value: 1\n",
      "value: 3\n",
      "value: 5\n",
      "value: 7\n",
      "value: 9\n"
     ]
    }
   ],
   "execution_count": 13
  },
  {
   "metadata": {
    "ExecuteTime": {
     "end_time": "2024-07-27T22:30:13.237176Z",
     "start_time": "2024-07-27T22:30:13.233054Z"
    }
   },
   "cell_type": "code",
   "source": [
    "menu = [\n",
    "    [\"egg\", \"bacon\"],\n",
    "    [\"egg\", \"sausage\", \"bacon\"],\n",
    "    [\"egg\", \"spam\"],\n",
    "    [\"egg\", \"bacon\", \"spam\"],\n",
    "    [\"egg\", \"bacon\", \"sausage\", \"spam\"],\n",
    "    [\"spam\", \"bacon\", \"sausage\", \"spam\"],\n",
    "    [\"spam\", \"sausage\", \"spam\", \"bacon\", \"spam\", \"tomato\", \"spam\"],\n",
    "    [\"spam\", \"egg\", \"spam\", \"spam\", \"bacon\", \"spam\"],\n",
    "]\n"
   ],
   "id": "1ed8aba02d2fa6da",
   "outputs": [],
   "execution_count": 14
  },
  {
   "metadata": {
    "ExecuteTime": {
     "end_time": "2024-07-27T22:38:16.589854Z",
     "start_time": "2024-07-27T22:38:16.585444Z"
    }
   },
   "cell_type": "code",
   "source": [
    "# Processing nested lists\n",
    "for meal in menu:\n",
    "    if \"spam\" not in meal:\n",
    "        print(f\"meal: {meal}\")\n",
    "\n",
    "        for item in meal:\n",
    "            print(f\"item: {item}\")\n",
    "    else:\n",
    "        print(f\"The {meal} meal has a spam score of {meal.count(\"spam\")}\")"
   ],
   "id": "4f587abd189b40cb",
   "outputs": [
    {
     "name": "stdout",
     "output_type": "stream",
     "text": [
      "meal: ['egg', 'bacon']\n",
      "item: egg\n",
      "item: bacon\n",
      "meal: ['egg', 'sausage', 'bacon']\n",
      "item: egg\n",
      "item: sausage\n",
      "item: bacon\n",
      "The ['egg', 'spam'] meal has a spam score of 1\n",
      "The ['egg', 'bacon', 'spam'] meal has a spam score of 1\n",
      "The ['egg', 'bacon', 'sausage', 'spam'] meal has a spam score of 1\n",
      "The ['spam', 'bacon', 'sausage', 'spam'] meal has a spam score of 2\n",
      "The ['spam', 'sausage', 'spam', 'bacon', 'spam', 'tomato', 'spam'] meal has a spam score of 4\n",
      "The ['spam', 'egg', 'spam', 'spam', 'bacon', 'spam'] meal has a spam score of 4\n"
     ]
    }
   ],
   "execution_count": 20
  },
  {
   "metadata": {
    "ExecuteTime": {
     "end_time": "2024-07-27T22:56:19.099140Z",
     "start_time": "2024-07-27T22:56:19.092029Z"
    }
   },
   "cell_type": "code",
   "source": [
    "# No spam\n",
    "def remove_item_from_list_of_lists(main_list, item_to_remove):\n",
    "    \"\"\"\n",
    "    Remove an item from a list of lists.\n",
    "\n",
    "    Parameters:\n",
    "    main_list (list of lists): The main list containing sublists.\n",
    "    item_to_remove: The item to remove from the sublists.\n",
    "\n",
    "    Returns:\n",
    "    list of lists: The updated main list with the item removed from all sublists.\n",
    "    \"\"\"\n",
    "    updated_list = []\n",
    "    for sublist in main_list:\n",
    "        updated_sublist = [item for item in sublist if item != item_to_remove]\n",
    "        updated_list.append(updated_sublist)\n",
    "    return updated_list\n",
    "\n",
    "\n",
    "# Example usage\n",
    "main_list = menu\n",
    "item_to_remove = \"spam\"\n",
    "\n",
    "updated_main_list = remove_item_from_list_of_lists(main_list, item_to_remove)\n",
    "print(updated_main_list)\n"
   ],
   "id": "43a95b0688349716",
   "outputs": [
    {
     "name": "stdout",
     "output_type": "stream",
     "text": [
      "[['egg', 'bacon'], ['egg', 'sausage', 'bacon'], ['egg'], ['egg', 'bacon'], ['egg', 'bacon', 'sausage'], ['bacon', 'sausage'], ['sausage', 'bacon', 'tomato'], ['egg', 'bacon']]\n"
     ]
    }
   ],
   "execution_count": 21
  },
  {
   "metadata": {
    "ExecuteTime": {
     "end_time": "2024-07-27T23:02:22.132857Z",
     "start_time": "2024-07-27T23:02:22.127502Z"
    }
   },
   "cell_type": "code",
   "source": [
    "# Another way\n",
    "for meal in menu:\n",
    "    for index in range(len(meal) - 1, -1, -1):\n",
    "        if meal[index] == \"spam\":\n",
    "            del meal[index]\n",
    "\n",
    "    print(meal)"
   ],
   "id": "f32ba1b901773d8f",
   "outputs": [
    {
     "name": "stdout",
     "output_type": "stream",
     "text": [
      "['egg', 'bacon']\n",
      "['egg', 'sausage', 'bacon']\n",
      "['egg']\n",
      "['egg', 'bacon']\n",
      "['egg', 'bacon', 'sausage']\n",
      "['bacon', 'sausage']\n",
      "['sausage', 'bacon', 'tomato']\n",
      "['egg', 'bacon']\n"
     ]
    }
   ],
   "execution_count": 22
  },
  {
   "metadata": {
    "ExecuteTime": {
     "end_time": "2024-07-27T23:23:18.657796Z",
     "start_time": "2024-07-27T23:23:18.651824Z"
    }
   },
   "cell_type": "code",
   "source": [
    "# Yeet one more way\n",
    "for meal in menu:\n",
    "    for item in meal:\n",
    "        if item != \"spam\":\n",
    "            print(item, end=\" \")\n",
    "    print()"
   ],
   "id": "afd75bbe59a28865",
   "outputs": [
    {
     "name": "stdout",
     "output_type": "stream",
     "text": [
      "egg bacon \n",
      "egg sausage bacon \n",
      "egg \n",
      "egg bacon \n",
      "egg bacon sausage \n",
      "bacon sausage \n",
      "sausage bacon tomato \n",
      "egg bacon \n"
     ]
    }
   ],
   "execution_count": 24
  },
  {
   "metadata": {},
   "cell_type": "markdown",
   "source": "### The *join()* method",
   "id": "7deb1d0370b41a7f"
  },
  {
   "metadata": {
    "ExecuteTime": {
     "end_time": "2024-07-27T23:29:19.161834Z",
     "start_time": "2024-07-27T23:29:19.157152Z"
    }
   },
   "cell_type": "code",
   "source": [
    "for meal in menu:\n",
    "    for index in range(len(meal) - 1, -1, -1):\n",
    "        if meal[index] == \"spam\":\n",
    "            del meal[index]\n",
    "\n",
    "    print(\", \".join(meal))"
   ],
   "id": "746f10b4bedc2dfb",
   "outputs": [
    {
     "name": "stdout",
     "output_type": "stream",
     "text": [
      "egg, bacon\n",
      "egg, sausage, bacon\n",
      "egg\n",
      "egg, bacon\n",
      "egg, bacon, sausage\n",
      "bacon, sausage\n",
      "sausage, bacon, tomato\n",
      "egg, bacon\n"
     ]
    }
   ],
   "execution_count": 25
  },
  {
   "metadata": {},
   "cell_type": "markdown",
   "source": "The *join()* method joins items from a list of strings into a single string.",
   "id": "84f23ee2a37df4ba"
  },
  {
   "metadata": {
    "ExecuteTime": {
     "end_time": "2024-07-27T23:37:43.353151Z",
     "start_time": "2024-07-27T23:37:43.347366Z"
    }
   },
   "cell_type": "code",
   "source": [
    "# Another example of the join() method\n",
    "flowers = [\n",
    "    \"Daffodil\",\n",
    "    \"Evening Primrose\",\n",
    "    \"Hydrangea\",\n",
    "    \"Iris\",\n",
    "    \"Lavender\",\n",
    "    \"Sunflower\",\n",
    "    \"Tiger Lily\",\n",
    "]\n",
    "\n",
    "# for flower in flowers:\n",
    "#     print(flower)\n",
    "\n",
    "separator = \" | \"\n",
    "output = separator.join(flowers)\n",
    "print(output)"
   ],
   "id": "b0f5e79edf51d53",
   "outputs": [
    {
     "name": "stdout",
     "output_type": "stream",
     "text": [
      "Daffodil | Evening Primrose | Hydrangea | Iris | Lavender | Sunflower | Tiger Lily\n"
     ]
    }
   ],
   "execution_count": 29
  },
  {
   "metadata": {},
   "cell_type": "markdown",
   "source": "### The *split()* method",
   "id": "420fb7c47edfe24e"
  },
  {
   "metadata": {},
   "cell_type": "markdown",
   "source": "wordThe *split()* method is the opposite of the *join()* method . It splits a string into a list of strings.",
   "id": "a5fc17efcf350cc3"
  },
  {
   "metadata": {
    "ExecuteTime": {
     "end_time": "2024-07-27T23:51:38.156330Z",
     "start_time": "2024-07-27T23:51:38.152350Z"
    }
   },
   "cell_type": "code",
   "source": [
    "pangram = \"The quick brown fox jumps over the lazy dog\"\n",
    "words = pangram.split()\n",
    "print(words)"
   ],
   "id": "1f8da97a29d9a3c3",
   "outputs": [
    {
     "name": "stdout",
     "output_type": "stream",
     "text": [
      "['The', 'quick', 'brown', 'fox', 'jumps', 'over', 'the', 'lazy', 'dog']\n"
     ]
    }
   ],
   "execution_count": 32
  },
  {
   "metadata": {
    "ExecuteTime": {
     "end_time": "2024-07-28T00:04:01.298668Z",
     "start_time": "2024-07-28T00:04:01.294747Z"
    }
   },
   "cell_type": "code",
   "source": [
    "numbers = \"9,202,235,436,453,444,312,179,88\"\n",
    "split_numbers = numbers.split(\",\")\n",
    "print(split_numbers)"
   ],
   "id": "812f09bac448348c",
   "outputs": [
    {
     "name": "stdout",
     "output_type": "stream",
     "text": [
      "['9', '202', '235', '436', '453', '444', '312', '179', '88']\n"
     ]
    }
   ],
   "execution_count": 36
  },
  {
   "metadata": {
    "ExecuteTime": {
     "end_time": "2024-07-28T00:18:47.261923Z",
     "start_time": "2024-07-28T00:18:47.257870Z"
    }
   },
   "cell_type": "code",
   "source": [
    "# Use a for loop to produce a list of ints rather than strings\n",
    "numbers_int_list = []\n",
    "for number in split_numbers:\n",
    "    numbers_int_list.append(int(number))\n",
    "\n",
    "print(numbers_int_list)\n",
    "\n"
   ],
   "id": "f83773f8fd6c6a94",
   "outputs": [
    {
     "name": "stdout",
     "output_type": "stream",
     "text": [
      "[9, 202, 235, 436, 453, 444, 312, 179, 88]\n"
     ]
    }
   ],
   "execution_count": 45
  },
  {
   "metadata": {},
   "cell_type": "markdown",
   "source": [
    "# Another way to use a for loop to produce a list of ints rather than strings\n",
    "for index in range(len(split_numbers)):\n",
    "    split_numbers[index] = int(split_numbers[index])\n",
    "print(split_numbers)"
   ],
   "id": "b8e1f13321a83c1"
  },
  {
   "metadata": {},
   "cell_type": "markdown",
   "source": "## Tuples",
   "id": "134f093642a50d59"
  },
  {
   "metadata": {},
   "cell_type": "markdown",
   "source": [
    "A ***tuple*** is an **ordered** set, or sequence, of data enclosed in <u>parentheses</u>.  \n",
    "In some cases, the parentheses are optional, but they must be used to pass a tuple as an argument to a function.  \n",
    "Like strings, a tuple is **immutable**. Using a tuple instead of a list for things that should not change can help prevent bugs in a program.  \n",
    "You can always unpack a tuple successfully. If a list has changed, it will throw an error when trying to unpack it."
   ],
   "id": "6aae2a59432daf9f"
  },
  {
   "metadata": {
    "ExecuteTime": {
     "end_time": "2024-07-28T00:36:58.391820Z",
     "start_time": "2024-07-28T00:36:58.387280Z"
    }
   },
   "cell_type": "code",
   "source": [
    "# A tuple intro\n",
    "t = \"a\", \"b\", \"c\"\n",
    "print(t)\n",
    "# notice that output is a tuple, not a string, or a list"
   ],
   "id": "a0ee05df6141d5b9",
   "outputs": [
    {
     "name": "stdout",
     "output_type": "stream",
     "text": [
      "('a', 'b', 'c')\n"
     ]
    }
   ],
   "execution_count": 48
  },
  {
   "metadata": {
    "ExecuteTime": {
     "end_time": "2024-07-28T00:57:47.894775Z",
     "start_time": "2024-07-28T00:57:47.889686Z"
    }
   },
   "cell_type": "code",
   "source": [
    "welcome = \"Welcome to my Nightmare\", \"Alice Cooper\", 1975\n",
    "bad = \"Bad Company\", \"Bad Company\", 1974\n",
    "budgie = \"Nightflight\", \"Budgie\", 1981\n",
    "imelda = \"More Mayhem\", \"Emilda May\", 2011\n",
    "metallica = \"Ride the Lightning\", \"Metallica\", 1984\n",
    "\n",
    "print(metallica)\n",
    "print(metallica[0])\n",
    "print(metallica[1])\n",
    "print(metallica[2])\n",
    "\n",
    "metallica2 = list(metallica)\n",
    "print(metallica2)\n",
    "\n",
    "metallica2[0] = \"Master of Puppets\"\n",
    "print(metallica2)\n"
   ],
   "id": "f3926945e01c68f9",
   "outputs": [
    {
     "name": "stdout",
     "output_type": "stream",
     "text": [
      "('Ride the Lightning', 'Metallica', 1984)\n",
      "Ride the Lightning\n",
      "Metallica\n",
      "1984\n",
      "['Ride the Lightning', 'Metallica', 1984]\n",
      "['Master of Puppets', 'Metallica', 1984]\n"
     ]
    }
   ],
   "execution_count": 49
  },
  {
   "metadata": {},
   "cell_type": "markdown",
   "source": "### Unpacking tuples",
   "id": "da7aa38836d2a444"
  },
  {
   "metadata": {},
   "cell_type": "markdown",
   "source": "A tuple (and lists  with a fixed length) can be unpacked in to values. It is easier to call an element by a value name than to call it using indexing on the tuple.",
   "id": "15930188bb0280f"
  },
  {
   "metadata": {
    "ExecuteTime": {
     "end_time": "2024-07-28T01:21:30.665439Z",
     "start_time": "2024-07-28T01:21:30.660900Z"
    }
   },
   "cell_type": "code",
   "source": [
    "a = b = c = d = 42  # assign the same value to multiple variables\n",
    "print(c)\n",
    "\n",
    "x, y, z = 1, 2, 76\n",
    "print(x)\n",
    "print(y)\n",
    "print(z)\n",
    "\n",
    "print(\"Unpacking a tuple\")\n",
    "\n",
    "data = (1, 2, 76)  # data is a tuple\n",
    "x, y, z = data\n",
    "print(x)\n",
    "print(y)\n",
    "print(z)\n",
    "\n",
    "print(\"Unpacking a list\")\n",
    "data_list = [12, 13, 14]\n",
    "p, q, r = data_list\n",
    "print(p)\n",
    "print(q)\n",
    "print(r)\n"
   ],
   "id": "5a0926c7ed0a484b",
   "outputs": [
    {
     "name": "stdout",
     "output_type": "stream",
     "text": [
      "42\n",
      "1\n",
      "2\n",
      "76\n",
      "Unpacking a tuple\n",
      "1\n",
      "2\n",
      "76\n",
      "Unpacking a list\n",
      "12\n",
      "13\n",
      "14\n"
     ]
    }
   ],
   "execution_count": 56
  },
  {
   "metadata": {},
   "cell_type": "markdown",
   "source": "### Practical uses for unpacking tuples",
   "id": "b2972ebfa6c85064"
  },
  {
   "metadata": {
    "ExecuteTime": {
     "end_time": "2024-07-29T19:30:36.984575Z",
     "start_time": "2024-07-29T19:30:36.975520Z"
    }
   },
   "cell_type": "code",
   "source": [
    "# This creates a tuple for each element of the string\n",
    "for t in enumerate(\"abcdefgh\"):\n",
    "    print(t)"
   ],
   "id": "d396102deb3fea17",
   "outputs": [
    {
     "name": "stdout",
     "output_type": "stream",
     "text": [
      "(0, 'a')\n",
      "(1, 'b')\n",
      "(2, 'c')\n",
      "(3, 'd')\n",
      "(4, 'e')\n",
      "(5, 'f')\n",
      "(6, 'g')\n",
      "(7, 'h')\n"
     ]
    }
   ],
   "execution_count": 59
  },
  {
   "metadata": {
    "ExecuteTime": {
     "end_time": "2024-07-29T19:37:11.402947Z",
     "start_time": "2024-07-29T19:37:11.398211Z"
    }
   },
   "cell_type": "code",
   "source": [
    "# This unpacks the tuple\n",
    "for t in enumerate(\"abcdefgh\"):\n",
    "    index, character = t\n",
    "    print(index, character)"
   ],
   "id": "10b6c64a80155535",
   "outputs": [
    {
     "name": "stdout",
     "output_type": "stream",
     "text": [
      "0 a\n",
      "1 b\n",
      "2 c\n",
      "3 d\n",
      "4 e\n",
      "5 f\n",
      "6 g\n",
      "7 h\n"
     ]
    }
   ],
   "execution_count": 60
  },
  {
   "metadata": {
    "ExecuteTime": {
     "end_time": "2024-07-29T20:12:00.239299Z",
     "start_time": "2024-07-29T20:12:00.234510Z"
    }
   },
   "cell_type": "code",
   "source": [
    "# More ways to unpack tuples\n",
    "welcome = \"Welcome to my Nightmare\", \"Alice Cooper\", 1975\n",
    "bad = \"Bad Company\", \"Bad Company\", 1974\n",
    "budgie = \"Nightflight\", \"Budgie\", 1981\n",
    "imelda = \"More Mayhem\", \"Emilda May\", 2011\n",
    "metallica = \"Ride the Lightning\", \"Metallica\", 1984\n",
    "\n",
    "# print(metallica)\n",
    "# print(metallica[0])\n",
    "# print(metallica[1])\n",
    "# print(metallica[2])\n",
    "\n",
    "title, artist, year = metallica\n",
    "print(title)\n",
    "print(artist)\n",
    "print(year)\n"
   ],
   "id": "3ccd9d69b9b1b0e1",
   "outputs": [
    {
     "name": "stdout",
     "output_type": "stream",
     "text": [
      "Ride the Lightning\n",
      "Metallica\n",
      "1984\n"
     ]
    }
   ],
   "execution_count": 61
  },
  {
   "metadata": {
    "ExecuteTime": {
     "end_time": "2024-07-29T20:18:24.939128Z",
     "start_time": "2024-07-29T20:18:24.934809Z"
    }
   },
   "cell_type": "code",
   "source": [
    "table = (\"Coffee Table\", 200, 100, 75, 34.50)\n",
    "print(table[1] * table[2])\n",
    "\n",
    "# Unpack the tuple into variables for easier use\n",
    "name, length, width, height, price = table\n",
    "print(length * width)\n"
   ],
   "id": "bb03a4235dc02593",
   "outputs": [
    {
     "name": "stdout",
     "output_type": "stream",
     "text": [
      "20000\n",
      "20000\n"
     ]
    }
   ],
   "execution_count": 63
  },
  {
   "metadata": {},
   "cell_type": "markdown",
   "source": "### Nested Tuples and Lists",
   "id": "b6f2f74ffc5b4382"
  },
  {
   "metadata": {
    "ExecuteTime": {
     "end_time": "2024-07-29T22:31:31.186849Z",
     "start_time": "2024-07-29T22:31:31.182908Z"
    }
   },
   "cell_type": "code",
   "source": [
    "# This looks like a list of 5 albums\n",
    "albums = [\"Welcome to my Nightmare\", \"Alice Cooper\", 1975,\n",
    "          \"Bad Company\", \"Bad Company\", 1974,\n",
    "          \"Nightflight\", \"Budgie\", 1981,\n",
    "          \"More Mayhem\", \"Emilda May\", 2011,\n",
    "          \"Ride the Lightning\", \"Metallica\", 1984,\n",
    "          ]\n",
    "# but... we have a list of 15 items\n",
    "print(len(albums))"
   ],
   "id": "86f4289b0c4e70ad",
   "outputs": [
    {
     "name": "stdout",
     "output_type": "stream",
     "text": [
      "15\n"
     ]
    }
   ],
   "execution_count": 64
  },
  {
   "metadata": {
    "ExecuteTime": {
     "end_time": "2024-07-29T22:35:21.279157Z",
     "start_time": "2024-07-29T22:35:21.274329Z"
    }
   },
   "cell_type": "code",
   "source": [
    "# Add parentheses\n",
    "albums = [(\"Welcome to my Nightmare\", \"Alice Cooper\", 1975),\n",
    "          (\"Bad Company\", \"Bad Company\", 1974),\n",
    "          (\"Nightflight\", \"Budgie\", 1981),\n",
    "          (\"More Mayhem\", \"Emilda May\", 2011),\n",
    "          (\"Ride the Lightning\", \"Metallica\", 1984),\n",
    "          ]\n",
    "# and we now have a list of 5 tuples\n",
    "print(len(albums))"
   ],
   "id": "6f537f3e59a4e394",
   "outputs": [
    {
     "name": "stdout",
     "output_type": "stream",
     "text": [
      "5\n"
     ]
    }
   ],
   "execution_count": 65
  },
  {
   "metadata": {
    "ExecuteTime": {
     "end_time": "2024-07-29T22:40:14.050375Z",
     "start_time": "2024-07-29T22:40:14.045711Z"
    }
   },
   "cell_type": "code",
   "source": [
    "# To print a catalog:\n",
    "for album in albums:\n",
    "    print(f\"Album: {album[0]}, Artist: {album[1]}, Year: {album[2]}\")\n",
    "    "
   ],
   "id": "45ce0a3e7d2619b5",
   "outputs": [
    {
     "name": "stdout",
     "output_type": "stream",
     "text": [
      "Album: Welcome to my Nightmare, Artist: Alice Cooper, Year: 1975\n",
      "Album: Bad Company, Artist: Bad Company, Year: 1974\n",
      "Album: Nightflight, Artist: Budgie, Year: 1981\n",
      "Album: More Mayhem, Artist: Emilda May, Year: 2011\n",
      "Album: Ride the Lightning, Artist: Metallica, Year: 1984\n"
     ]
    }
   ],
   "execution_count": 66
  },
  {
   "metadata": {
    "ExecuteTime": {
     "end_time": "2024-07-29T22:49:13.002032Z",
     "start_time": "2024-07-29T22:49:12.996707Z"
    }
   },
   "cell_type": "code",
   "source": [
    "# Unpack the tuples first\n",
    "for title, artist, year in albums:\n",
    "    print(f\"Album: {title}, Artist: {artist}, Year: {year}\")\n",
    "# or\n",
    "for album in albums:\n",
    "    title, artist, year = album\n",
    "    print(f\"Album: {title}, Artist: {artist}, Year: {year}\")"
   ],
   "id": "d9327cb9baaaa11f",
   "outputs": [
    {
     "name": "stdout",
     "output_type": "stream",
     "text": [
      "Album: Welcome to my Nightmare, Artist: Alice Cooper, Year: 1975\n",
      "Album: Bad Company, Artist: Bad Company, Year: 1974\n",
      "Album: Nightflight, Artist: Budgie, Year: 1981\n",
      "Album: More Mayhem, Artist: Emilda May, Year: 2011\n",
      "Album: Ride the Lightning, Artist: Metallica, Year: 1984\n",
      "Album: Welcome to my Nightmare, Artist: Alice Cooper, Year: 1975\n",
      "Album: Bad Company, Artist: Bad Company, Year: 1974\n",
      "Album: Nightflight, Artist: Budgie, Year: 1981\n",
      "Album: More Mayhem, Artist: Emilda May, Year: 2011\n",
      "Album: Ride the Lightning, Artist: Metallica, Year: 1984\n"
     ]
    }
   ],
   "execution_count": 68
  },
  {
   "metadata": {},
   "cell_type": "markdown",
   "source": "### Which to Use, Tuple or List?",
   "id": "4b3817c521aeb838"
  },
  {
   "metadata": {},
   "cell_type": "markdown",
   "source": [
    "Using the above code as an example:  \n",
    "Lists are homogeneous, it has 5 tuples.  \n",
    "Tuples are hetrogenous, they each have two strings and an integer.  \n",
    "Do you want to add items? Use a list. Tuples are immutable.  \n",
    "It is trivial to change a tuple to a list or vice versa in Python."
   ],
   "id": "207511e92638644a"
  },
  {
   "metadata": {},
   "cell_type": "markdown",
   "source": "## Nested Data Structures",
   "id": "b71f33e9a330e2f1"
  },
  {
   "metadata": {
    "ExecuteTime": {
     "end_time": "2024-07-29T23:30:36.818358Z",
     "start_time": "2024-07-29T23:30:36.806810Z"
    }
   },
   "cell_type": "code",
   "source": [
    "albums = [\n",
    "    (\"Welcome to my Nightmare\", \"Alice Cooper\", 1975,\n",
    "     [\n",
    "         (1, \"Welcome to my Nightmare\"),\n",
    "         (2, \"Devil's Food\"),\n",
    "         (3, \"The Black Widow\"),\n",
    "         (4, \"Some Folks\"),\n",
    "         (5, \"Only Women Bleed\"),\n",
    "     ]\n",
    "     ),\n",
    "    (\"Bad Company\", \"Bad Company\", 1974,\n",
    "     [\n",
    "         (1, \"Can't Get Enough\"),\n",
    "         (2, \"Rock Steady\"),\n",
    "         (3, \"Ready for Love\"),\n",
    "         (4, \"Don't Let Me Down\"),\n",
    "         (5, \"Bad Company\"),\n",
    "         (6, \"The Way I Choose\"),\n",
    "         (7, \"Movin' On\"),\n",
    "         (8, \"Seagull\"),\n",
    "     ]\n",
    "     ),\n",
    "    (\"Nightflight\", \"Budgie\", 1981,\n",
    "     [\n",
    "         (1, \"I Turned to Stone\"),\n",
    "         (2, \"Keeping a Rendezvous\"),\n",
    "         (3, \"Reaper of the Glory\"),\n",
    "         (4, \"She Used Me Up\"),\n",
    "     ]\n",
    "     ),\n",
    "    (\"More Mayhem\", \"Imelda May\", 2011,\n",
    "     [\n",
    "         (1, \"Pulling the Rug\"),\n",
    "         (2, \"Psycho\"),\n",
    "         (3, \"Mayhem\"),\n",
    "         (4, \"Kentish Town Waltz\"),\n",
    "     ]\n",
    "     ),\n",
    "]\n",
    "\n",
    "for title, artist, year, songs in albums:\n",
    "    print(f\"Album: {title}, Artist: {artist}, Year: {year}, Songs: {songs}\")"
   ],
   "id": "7ce7efc5d4703a95",
   "outputs": [
    {
     "name": "stdout",
     "output_type": "stream",
     "text": [
      "Album: Welcome to my Nightmare, Artist: Alice Cooper, Year: 1975, Songs: [(1, 'Welcome to my Nightmare'), (2, \"Devil's Food\"), (3, 'The Black Widow'), (4, 'Some Folks'), (5, 'Only Women Bleed')]\n",
      "Album: Bad Company, Artist: Bad Company, Year: 1974, Songs: [(1, \"Can't Get Enough\"), (2, 'Rock Steady'), (3, 'Ready for Love'), (4, \"Don't Let Me Down\"), (5, 'Bad Company'), (6, 'The Way I Choose'), (7, \"Movin' On\"), (8, 'Seagull')]\n",
      "Album: Nightflight, Artist: Budgie, Year: 1981, Songs: [(1, 'I Turned to Stone'), (2, 'Keeping a Rendezvous'), (3, 'Reaper of the Glory'), (4, 'She Used Me Up')]\n",
      "Album: More Mayhem, Artist: Imelda May, Year: 2011, Songs: [(1, 'Pulling the Rug'), (2, 'Psycho'), (3, 'Mayhem'), (4, 'Kentish Town Waltz')]\n"
     ]
    }
   ],
   "execution_count": 70
  },
  {
   "metadata": {
    "ExecuteTime": {
     "end_time": "2024-07-30T00:09:05.638690Z",
     "start_time": "2024-07-30T00:09:05.634267Z"
    }
   },
   "cell_type": "code",
   "source": [
    "# We can return values by indexing\n",
    "album = albums[3]\n",
    "print(album)\n",
    "\n",
    "songs = album[3]\n",
    "print(songs)\n",
    "\n",
    "song = songs[2]\n",
    "print(song)\n",
    "print(song[1])\n",
    "\n",
    "# or this\n",
    "print(albums[3][3][2][1])\n"
   ],
   "id": "4c2a1a63d9d78f50",
   "outputs": [
    {
     "name": "stdout",
     "output_type": "stream",
     "text": [
      "('More Mayhem', 'Imelda May', 2011, [(1, 'Pulling the Rug'), (2, 'Psycho'), (3, 'Mayhem'), (4, 'Kentish Town Waltz')])\n",
      "[(1, 'Pulling the Rug'), (2, 'Psycho'), (3, 'Mayhem'), (4, 'Kentish Town Waltz')]\n",
      "(3, 'Mayhem')\n",
      "Mayhem\n",
      "Mayhem\n"
     ]
    }
   ],
   "execution_count": 79
  },
  {
   "metadata": {},
   "cell_type": "markdown",
   "source": "### Simple Jukebox",
   "id": "9826a907f1fa6c36"
  },
  {
   "metadata": {
    "ExecuteTime": {
     "end_time": "2024-07-30T19:10:45.104348Z",
     "start_time": "2024-07-30T19:10:20.917982Z"
    }
   },
   "cell_type": "code",
   "source": [
    "# When using a normal IDE this would be a file that can be imported\n",
    "albums = [\n",
    "    (\"Welcome to my Nightmare\", \"Alice Cooper\", 1975,\n",
    "     [\n",
    "         (1, \"Welcome to my Nightmare\"),\n",
    "         (2, \"Devil's Food\"),\n",
    "         (3, \"The Black Widow\"),\n",
    "         (4, \"Some Folks\"),\n",
    "         (5, \"Only Women Bleed\"),\n",
    "     ]\n",
    "     ),\n",
    "    (\"Bad Company\", \"Bad Company\", 1974,\n",
    "     [\n",
    "         (1, \"Can't Get Enough\"),\n",
    "         (2, \"Rock Steady\"),\n",
    "         (3, \"Ready for Love\"),\n",
    "         (4, \"Don't Let Me Down\"),\n",
    "         (5, \"Bad Company\"),\n",
    "         (6, \"The Way I Choose\"),\n",
    "         (7, \"Movin' On\"),\n",
    "         (8, \"Seagull\"),\n",
    "     ]\n",
    "     ),\n",
    "    (\"Nightflight\", \"Budgie\", 1981,\n",
    "     [\n",
    "         (1, \"I Turned to Stone\"),\n",
    "         (2, \"Keeping a Rendezvous\"),\n",
    "         (3, \"Reaper of the Glory\"),\n",
    "         (4, \"She Used Me Up\"),\n",
    "     ]\n",
    "     ),\n",
    "    (\"More Mayhem\", \"Imelda May\", 2011,\n",
    "     [\n",
    "         (1, \"Pulling the Rug\"),\n",
    "         (2, \"Psycho\"),\n",
    "         (3, \"Mayhem\"),\n",
    "         (4, \"Kentish Town Waltz\"),\n",
    "     ]\n",
    "     ),\n",
    "]\n",
    "\n",
    "SONGS_LIST_INDEX = 3\n",
    "SONGS_TITLE_INDEX = 1\n",
    "\n",
    "while True:\n",
    "    print(\"Please choose your album (invalid choice exits):\")\n",
    "    for index, (title, artist, year, songs) in enumerate(albums):\n",
    "        print(f\"{index + 1}: {title}\")\n",
    "        \n",
    "    choice = int(input())\n",
    "    if 1 <= choice <= len(albums):\n",
    "        songs_list = albums[choice - 1][SONGS_LIST_INDEX]\n",
    "        print(songs_list)\n",
    "    else:\n",
    "        break\n",
    "        \n",
    "    print(\"Please choose your song:\")\n",
    "    for index, (track_number, song) in enumerate(songs_list):\n",
    "        print(f\"{index + 1}: {song}\")\n",
    "\n",
    "    song_choice = int(input())\n",
    "    if 1 <= song_choice <= len(songs_list):\n",
    "        title = songs_list[song_choice - 1][SONGS_TITLE_INDEX]\n",
    "    else:\n",
    "        break\n",
    "        \n",
    "    print(f\"Now playing: {title}\")\n",
    "    print(\"*\" * 40)\n",
    "    "
   ],
   "id": "d93c2aeb76e0285b",
   "outputs": [
    {
     "name": "stdout",
     "output_type": "stream",
     "text": [
      "Please choose your album (invalid choice exits):\n",
      "1: Welcome to my Nightmare\n",
      "2: Bad Company\n",
      "3: Nightflight\n",
      "4: More Mayhem\n",
      "[(1, \"Can't Get Enough\"), (2, 'Rock Steady'), (3, 'Ready for Love'), (4, \"Don't Let Me Down\"), (5, 'Bad Company'), (6, 'The Way I Choose'), (7, \"Movin' On\"), (8, 'Seagull')]\n",
      "Please choose your song:\n",
      "1: Can't Get Enough\n",
      "2: Rock Steady\n",
      "3: Ready for Love\n",
      "4: Don't Let Me Down\n",
      "5: Bad Company\n",
      "6: The Way I Choose\n",
      "7: Movin' On\n",
      "8: Seagull\n",
      "Now playing: Rock Steady\n",
      "****************************************\n",
      "Please choose your album (invalid choice exits):\n",
      "1: Welcome to my Nightmare\n",
      "2: Bad Company\n",
      "3: Nightflight\n",
      "4: More Mayhem\n"
     ]
    }
   ],
   "execution_count": 98
  },
  {
   "metadata": {},
   "cell_type": "code",
   "outputs": [],
   "execution_count": null,
   "source": "",
   "id": "c248c36f3e555504"
  }
 ],
 "metadata": {
  "kernelspec": {
   "display_name": "Python 3 (ipykernel)",
   "language": "python",
   "name": "python3"
  },
  "language_info": {
   "codemirror_mode": {
    "name": "ipython",
    "version": 3
   },
   "file_extension": ".py",
   "mimetype": "text/x-python",
   "name": "python",
   "nbconvert_exporter": "python",
   "pygments_lexer": "ipython3",
   "version": "3.11.5"
  }
 },
 "nbformat": 4,
 "nbformat_minor": 5
}
