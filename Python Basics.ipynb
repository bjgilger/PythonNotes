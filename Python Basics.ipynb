{
 "cells": [
  {
   "cell_type": "markdown",
   "id": "f79a83ba",
   "metadata": {},
   "source": [
    "# Python Basics"
   ]
  },
  {
   "cell_type": "markdown",
   "id": "7ce629b4",
   "metadata": {},
   "source": [
    "## Python Expressions"
   ]
  },
  {
   "cell_type": "markdown",
   "id": "ffc3a873",
   "metadata": {},
   "source": [
    "A python expression is anything that can be calculated to reture a value"
   ]
  },
  {
   "cell_type": "code",
   "execution_count": 2,
   "id": "01f13976",
   "metadata": {},
   "outputs": [
    {
     "name": "stdout",
     "output_type": "stream",
     "text": [
      "15\n",
      "9\n",
      "36\n",
      "4.0\n",
      "4\n",
      "0\n",
      "\n",
      "1\n",
      "2\n",
      "3\n"
     ]
    }
   ],
   "source": [
    "a = 12\n",
    "b = 3\n",
    "\n",
    "print(a + b)     #15\n",
    "print(a - b)     #9\n",
    "print(a * b)     #36\n",
    "print(a / b)     #4.0\n",
    "print(a // b)    #4 interger division\n",
    "print(a % b)     #0 modulo: the remainder after interger division\n",
    "\n",
    "print()\n",
    "\n",
    "for i in range(1, a//b):\n",
    "    print(i)\n",
    "    "
   ]
  },
  {
   "cell_type": "markdown",
   "id": "e9a111e6",
   "metadata": {},
   "source": [
    "## Operator Precedence"
   ]
  },
  {
   "cell_type": "markdown",
   "id": "7b32bf56",
   "metadata": {},
   "source": [
    "Operator precedence is a mathematical concept describing the order in which operation are executed"
   ]
  },
  {
   "cell_type": "code",
   "execution_count": 3,
   "id": "9c678e65",
   "metadata": {},
   "outputs": [
    {
     "name": "stdout",
     "output_type": "stream",
     "text": [
      "-35.0\n"
     ]
    }
   ],
   "source": [
    "# What does this expression evaluate to?\n",
    "\n",
    "a = 12\n",
    "b = 3\n",
    "\n",
    "print(a + b / 3 - 4 * 12)"
   ]
  },
  {
   "cell_type": "markdown",
   "id": "ccde2e74",
   "metadata": {},
   "source": [
    "Operations are executed using the following priority:\n",
    "\n",
    "**PEDMAS** => **P**arenthesis, **E**xponents, **D**ivision or **M**ultiplication, **A**ddition or **S**ubtraction\n",
    "\n",
    "Multiplication and division have equal precedence, as do addition and subtraction"
   ]
  },
  {
   "cell_type": "markdown",
   "id": "b81dbc41",
   "metadata": {},
   "source": [
    "## The ***str*** String Data Type"
   ]
  },
  {
   "cell_type": "code",
   "execution_count": 9,
   "id": "a37bdbd8",
   "metadata": {},
   "outputs": [
    {
     "name": "stdout",
     "output_type": "stream",
     "text": [
      "Norwegian Blue\n",
      "w\n"
     ]
    }
   ],
   "source": [
    "# Python uses \"zero-based indexing\" for strings, arrays, and other iterables. \n",
    "# The first item in an iterable has the indax of 0\n",
    "\n",
    "# index = 01234567890123\n",
    "parrot = \"Norwegian Blue\"\n",
    "print(parrot)\n",
    "print(parrot[3])   \n"
   ]
  },
  {
   "cell_type": "markdown",
   "id": "b9f3eb4d",
   "metadata": {},
   "source": [
    "### Mini Challenge"
   ]
  },
  {
   "cell_type": "markdown",
   "id": "195b09d8",
   "metadata": {},
   "source": [
    "Using string indexing on the parrot variable above, print the phrase \"we win\" with one letter on each line."
   ]
  },
  {
   "cell_type": "code",
   "execution_count": 11,
   "id": "c5115a96",
   "metadata": {},
   "outputs": [
    {
     "name": "stdout",
     "output_type": "stream",
     "text": [
      "w\n",
      "e\n",
      " \n",
      "w\n",
      "i\n",
      "n\n"
     ]
    }
   ],
   "source": [
    "print(parrot[3]) \n",
    "print(parrot[4])\n",
    "print(parrot[9])\n",
    "print(parrot[3])\n",
    "print(parrot[6])\n",
    "print(parrot[8])\n"
   ]
  },
  {
   "cell_type": "code",
   "execution_count": 12,
   "id": "99bfa09c",
   "metadata": {},
   "outputs": [
    {
     "name": "stdout",
     "output_type": "stream",
     "text": [
      "e\n",
      "N\n"
     ]
    }
   ],
   "source": [
    "# Iterables can be indexed from right to left using \"Negative Indexing\"\n",
    "# Negative indexing does not use a zero-based count\n",
    "\n",
    "print(parrot[-1])\n",
    "print(parrot[-14])"
   ]
  },
  {
   "cell_type": "code",
   "execution_count": 14,
   "id": "1bc35077",
   "metadata": {},
   "outputs": [
    {
     "name": "stdout",
     "output_type": "stream",
     "text": [
      "w\n",
      "e\n",
      " \n",
      "w\n",
      "i\n",
      "n\n"
     ]
    }
   ],
   "source": [
    "# \"Negative Mini Challenge\"\n",
    "\n",
    "print(parrot[-11]) \n",
    "print(parrot[-10])\n",
    "print(parrot[-5])\n",
    "print(parrot[-11])\n",
    "print(parrot[-8])\n",
    "print(parrot[-6])"
   ]
  },
  {
   "cell_type": "markdown",
   "id": "fef6ef0c",
   "metadata": {},
   "source": [
    "## String Slicing"
   ]
  },
  {
   "cell_type": "markdown",
   "id": "acbf3569",
   "metadata": {},
   "source": [
    "Strings and other sequences (lists, tuples, byte sequences, byte arrays, and range objects) can be *sliced* into subgroups.  \n",
    "**The signature is: string[starting index:ending index:step size]**.  \n",
    "The default step size is 1.  \n",
    "The ending index is **not** returned.\n",
    "\n",
    "| 0 | 1 | 2 | 3 | 4 | 5 | 6 | 7 | 8 | 9 | 10 | 11 | 12 | 13 |\n",
    "|---|---|---|---|---|---|---|---|---|---| ---| ---| ---| ---|\n",
    "| N | o | r | w | e | g | i | a | n |   | B  | l  | u  | e  |\n",
    "| -14 | -13 | -12 | -11 | -10 | -9 | -8 | -7 | -6 | -5 | -4 | -3 | -2 | -1 |\n"
   ]
  },
  {
   "cell_type": "code",
   "execution_count": 15,
   "id": "a416824b",
   "metadata": {},
   "outputs": [
    {
     "name": "stdout",
     "output_type": "stream",
     "text": [
      "Norweg\n"
     ]
    }
   ],
   "source": [
    "print(parrot[0:6])"
   ]
  },
  {
   "cell_type": "code",
   "execution_count": 16,
   "id": "b6247a3a",
   "metadata": {},
   "outputs": [
    {
     "name": "stdout",
     "output_type": "stream",
     "text": [
      "we\n"
     ]
    }
   ],
   "source": [
    "print(parrot[3:5])"
   ]
  },
  {
   "cell_type": "code",
   "execution_count": 17,
   "id": "fc23888b",
   "metadata": {},
   "outputs": [
    {
     "name": "stdout",
     "output_type": "stream",
     "text": [
      "Norwegian\n"
     ]
    }
   ],
   "source": [
    "print(parrot[0:9])"
   ]
  },
  {
   "cell_type": "code",
   "execution_count": 18,
   "id": "0bcf4fc1",
   "metadata": {},
   "outputs": [
    {
     "name": "stdout",
     "output_type": "stream",
     "text": [
      "Norwegian\n"
     ]
    }
   ],
   "source": [
    "# If the starting index is ommited, indicated by the slice starting with the colon. the starting index defaults to 0.\n",
    " \n",
    "print(parrot[:9])"
   ]
  },
  {
   "cell_type": "code",
   "execution_count": 20,
   "id": "ad5b19ce",
   "metadata": {},
   "outputs": [
    {
     "name": "stdout",
     "output_type": "stream",
     "text": [
      "Blue\n",
      "Blue\n"
     ]
    }
   ],
   "source": [
    "print(parrot[10:14])\n",
    "\n",
    "# If the ending index is omitted, it defaults to the end of the string.\n",
    "print(parrot[10:])"
   ]
  },
  {
   "cell_type": "code",
   "execution_count": 21,
   "id": "d284e52f",
   "metadata": {},
   "outputs": [
    {
     "name": "stdout",
     "output_type": "stream",
     "text": [
      "Norwegian Blue\n"
     ]
    }
   ],
   "source": [
    "print(parrot[:])"
   ]
  },
  {
   "cell_type": "markdown",
   "id": "bdb9aa4a",
   "metadata": {},
   "source": [
    "### Negative Slicing"
   ]
  },
  {
   "cell_type": "markdown",
   "id": "d542aaee",
   "metadata": {},
   "source": [
    "Sequences can be sliced using negative slicing, but you cannot slice from right to left.  \n",
    "The ending index must be to the right of the starting index."
   ]
  },
  {
   "cell_type": "code",
   "execution_count": 23,
   "id": "f212a659",
   "metadata": {},
   "outputs": [
    {
     "name": "stdout",
     "output_type": "stream",
     "text": [
      "\n",
      "Bl\n",
      "Bl\n"
     ]
    }
   ],
   "source": [
    "print(parrot[-4:2])\n",
    "print(parrot[-4:-2])\n",
    "print(parrot[-4:12])"
   ]
  },
  {
   "cell_type": "markdown",
   "id": "f11bd3e5",
   "metadata": {},
   "source": [
    "### Steps in Slices"
   ]
  },
  {
   "cell_type": "markdown",
   "id": "8e8158b8",
   "metadata": {},
   "source": [
    "The third element of a slice is the *step size*. If omitted, it defaults to zero.  \n",
    "If included, determines the space between indices returned.  \n",
    "A step size of 2 returns every other index.  \n",
    "A step size of 3 returns every third index, etc."
   ]
  },
  {
   "cell_type": "code",
   "execution_count": 26,
   "id": "5b75c745",
   "metadata": {},
   "outputs": [
    {
     "name": "stdout",
     "output_type": "stream",
     "text": [
      "Nre\n",
      "Nw\n"
     ]
    }
   ],
   "source": [
    "print(parrot[0:6:2])\n",
    "print(parrot[0:6:3])"
   ]
  },
  {
   "cell_type": "code",
   "execution_count": 27,
   "id": "e07212b6",
   "metadata": {},
   "outputs": [
    {
     "name": "stdout",
     "output_type": "stream",
     "text": [
      ",,,,,\n"
     ]
    }
   ],
   "source": [
    "# Omitting the stop index returns the whole sequence in steps\n",
    "\n",
    "number = \"9,245,123,547,666,498\"\n",
    "print(number[1::4])"
   ]
  },
  {
   "cell_type": "markdown",
   "id": "e567f821",
   "metadata": {},
   "source": [
    "### Slicing Backwards"
   ]
  },
  {
   "cell_type": "markdown",
   "id": "561652cc",
   "metadata": {},
   "source": [
    "You can \"count backwards\" using negative slicing.  \n",
    "The start index must be greater than the stop index."
   ]
  },
  {
   "cell_type": "code",
   "execution_count": 34,
   "id": "76a4fa00",
   "metadata": {},
   "outputs": [
    {
     "name": "stdout",
     "output_type": "stream",
     "text": [
      "zyxwvutsrqponmlkjihgfedcb\n",
      "zyxwvutsrqponmlkjihgfedcba\n",
      "zyxwvutsrqponmlkjihgfedcba\n"
     ]
    }
   ],
   "source": [
    "letters = \"abcdefghijklmnopqrstuvwxyz\"\n",
    "backwards = letters[25:0:-1]\n",
    "print(backwards)\n",
    "backwards = letters[25::-1]\n",
    "print(backwards)\n",
    "\n",
    "# seq[::-1] is a python idiom for \"reverse the sequence\".\n",
    "\n",
    "backwards = letters[::-1]\n",
    "print(backwards)"
   ]
  },
  {
   "cell_type": "markdown",
   "id": "e82a0222",
   "metadata": {},
   "source": [
    "#### Python Slicing Idoms"
   ]
  },
  {
   "cell_type": "markdown",
   "id": "863d5ec7",
   "metadata": {},
   "source": [
    "seq[::-1] reverses the sequence  \n",
    "seq[-1:] returns the last element of the sequence. (-x returns the last x elements).  \n",
    "seq[:1] returns the first element of the sequence. This does NOT return an error if the sequence is empty. \n",
    "seq[0] returns the first element of the sequence, BUT it returns an error if the sequence is empty. "
   ]
  },
  {
   "cell_type": "markdown",
   "id": "d961884b",
   "metadata": {},
   "source": [
    "# String Operators"
   ]
  },
  {
   "cell_type": "markdown",
   "id": "cb34ce8f",
   "metadata": {},
   "source": [
    "This section may be more accurately named ***Sequence Operations***. These operators work on all sequences.  \n",
    "A **Sequence** is defined as *\"an ordered set of items\"*.  \n",
    "Because a sequence is **ordered**, we can use indexing to access individual items in the sequence. "
   ]
  },
  {
   "cell_type": "code",
   "execution_count": 35,
   "id": "6e207feb",
   "metadata": {},
   "outputs": [
    {
     "name": "stdout",
     "output_type": "stream",
     "text": [
      "He's probably pining for the fjords.\n",
      "He's probably pining for the fjords.\n"
     ]
    }
   ],
   "source": [
    "# Concatenation\n",
    "string1 = \"He's \"\n",
    "string2 = \"probably \"\n",
    "string3 = \"pining \"\n",
    "string4 = \"for the \"\n",
    "string5 = \"fjords.\"\n",
    "\n",
    "# with + signs\n",
    "print(string1 + string2 + string3 + string4 + string5)\n",
    "\n",
    "# with space seperated strings\n",
    "print(\"He's \" \"probably \" \"pining \" \"for the \" \"fjords.\")\n"
   ]
  },
  {
   "cell_type": "code",
   "execution_count": 39,
   "id": "f76a7126",
   "metadata": {},
   "outputs": [
    {
     "name": "stdout",
     "output_type": "stream",
     "text": [
      "Hello! Hello! Hello! Hello! Hello! \n"
     ]
    }
   ],
   "source": [
    "# Multiplying strings repeat a string the specified number of times.\n",
    "\n",
    "print(\"Hello! \" * 5)\n",
    "\n",
    "# Lists and tuples can be multiplied, but NOT ranges."
   ]
  },
  {
   "cell_type": "code",
   "execution_count": 40,
   "id": "a88cc6d6",
   "metadata": {},
   "outputs": [
    {
     "name": "stdout",
     "output_type": "stream",
     "text": [
      "True\n",
      "True\n",
      "False\n",
      "False\n"
     ]
    }
   ],
   "source": [
    "# \"In\" operator returns a boolean if the specified substring is in the string\n",
    "\n",
    "today = \"friday\"\n",
    "print(\"day\" in today)\n",
    "print(\"fri\" in today)\n",
    "print(\"thur\" in today)\n",
    "print(\"parrot\" in \"fjord\")\n"
   ]
  },
  {
   "cell_type": "markdown",
   "id": "b906ccaa",
   "metadata": {},
   "source": [
    "# String Formatting"
   ]
  },
  {
   "cell_type": "markdown",
   "id": "11ab5943",
   "metadata": {},
   "source": [
    "There are multiple reasons and ways to format a string.  \n",
    "For example, we may want to print a label for a numerical value. (Python will NOT concatenate a string and a number).  "
   ]
  },
  {
   "cell_type": "code",
   "execution_count": 41,
   "id": "26e73815",
   "metadata": {},
   "outputs": [
    {
     "name": "stdout",
     "output_type": "stream",
     "text": [
      "My age is 29 years\n"
     ]
    }
   ],
   "source": [
    "# Coerecing a number to a string\n",
    "\n",
    "age = 29\n",
    "print(\"My age is \" + str(age) + \" years\")"
   ]
  },
  {
   "cell_type": "code",
   "execution_count": 45,
   "id": "afc19ab3",
   "metadata": {},
   "outputs": [
    {
     "name": "stdout",
     "output_type": "stream",
     "text": [
      "My age is 29 years\n",
      "There are 31 days in Jan, Mar, May, Jul. Aug, Oct and Dec\n",
      "\n",
      "Jan: 31\n",
      "Feb: 28\n",
      "Mar: 31\n",
      "Apr: 30\n",
      "May: 31\n",
      "Jun: 30\n",
      "Jul: 31\n",
      "Aug: 31\n",
      "Sep: 30\n",
      "Oct: 31\n",
      "Nov: 30\n",
      "Dec: 31\n",
      "\n"
     ]
    }
   ],
   "source": [
    "# Replacement fields and the .format method\n",
    "\n",
    "print(\"My age is {0} years\".format(age))\n",
    "\n",
    "# Values in the .format method are substituted for the placeholders in curly braces\n",
    "# NOTE: Strings are not normally used in the .format fields\n",
    "print(\"There are {0} days in {1}, {2}, {3}, {4}. {5}, {6} and {7}\"\n",
    "     .format(31, \"Jan\", \"Mar\", \"May\", \"Jul\", \"Aug\", \"Oct\", \"Dec\"))\n",
    "\n",
    "print(\"\"\"\n",
    "Jan: {2}\n",
    "Feb: {0}\n",
    "Mar: {2}\n",
    "Apr: {1}\n",
    "May: {2}\n",
    "Jun: {1}\n",
    "Jul: {2}\n",
    "Aug: {2}\n",
    "Sep: {1}\n",
    "Oct: {2}\n",
    "Nov: {1}\n",
    "Dec: {2}\n",
    "\"\"\".format(28, 30, 31))\n"
   ]
  },
  {
   "cell_type": "code",
   "execution_count": 54,
   "id": "df2cbd99",
   "metadata": {},
   "outputs": [
    {
     "name": "stdout",
     "output_type": "stream",
     "text": [
      "No.  1 squared is 1   and cubed is  1  \n",
      "No.  2 squared is 4   and cubed is  8  \n",
      "No.  3 squared is 9   and cubed is  27 \n",
      "No.  4 squared is 16  and cubed is  64 \n",
      "No.  5 squared is 25  and cubed is 125 \n",
      "No.  6 squared is 36  and cubed is 216 \n",
      "No.  7 squared is 49  and cubed is 343 \n",
      "No.  8 squared is 64  and cubed is 512 \n",
      "No.  9 squared is 81  and cubed is 729 \n",
      "No. 10 squared is 100 and cubed is 1000\n",
      "No. 11 squared is 121 and cubed is 1331\n",
      "No. 12 squared is 144 and cubed is 1728\n"
     ]
    }
   ],
   "source": [
    "# Using expressions in formatting\n",
    "# Field widths are formated with a colon and a value inside the curly braces\n",
    "# \"Less than\" symbol left aligns the values in the fields\n",
    "# \"Right align\" symbol right aligns the values in the fields\n",
    "# \"Caret\" symbol center aligns the values in the fields\n",
    "\n",
    "for i in range(1, 13):\n",
    "    print(\"No. {0:2} squared is {1:<3} and cubed is {2:^4}\".format(i, i ** 2, i ** 3))"
   ]
  },
  {
   "cell_type": "code",
   "execution_count": 55,
   "id": "0bf39560",
   "metadata": {},
   "outputs": [
    {
     "name": "stdout",
     "output_type": "stream",
     "text": [
      "PI is approximately 3.142857142857143\n",
      "PI is approximately     3.142857\n",
      "PI is approximately 3.14285714285714279370154144999105483293533325195312\n",
      "PI is approximately 3.14285714285714279370154144999105483293533325195312\n",
      "PI is approximately           3.14285714285714279370154144999105483293533325195312\n",
      "PI is approximately                     3.14285714285714279370154144999105483293533325195312\n"
     ]
    }
   ],
   "source": [
    "# Precision for floating point numbers is formatted with a decimal point after the width value. \n",
    "# \"f\" identifies it as a float\n",
    "\n",
    "print(\"PI is approximately {0:12}\".format(22 / 7))\n",
    "print(\"PI is approximately {0:12f}\".format(22 / 7))\n",
    "print(\"PI is approximately {0:12.50f}\".format(22 / 7))\n",
    "print(\"PI is approximately {0:52.50f}\".format(22 / 7))\n",
    "print(\"PI is approximately {0:62.50f}\".format(22 / 7))\n",
    "print(\"PI is approximately {0:72.50f}\".format(22 / 7))"
   ]
  },
  {
   "cell_type": "markdown",
   "id": "38f34da0",
   "metadata": {},
   "source": [
    "## F-Strings"
   ]
  },
  {
   "cell_type": "markdown",
   "id": "f0412a05",
   "metadata": {},
   "source": [
    "F-strings have replaced the previous formatting methods for general use.  \n",
    "This is the signature: print(f\"Text {value}\")"
   ]
  },
  {
   "cell_type": "code",
   "execution_count": 57,
   "id": "b37a430e",
   "metadata": {},
   "outputs": [
    {
     "name": "stdout",
     "output_type": "stream",
     "text": [
      "My age is 29 years\n"
     ]
    }
   ],
   "source": [
    "age = 29\n",
    "print(f\"My age is {age} years\")"
   ]
  },
  {
   "cell_type": "code",
   "execution_count": 61,
   "id": "7f97f3b2",
   "metadata": {},
   "outputs": [
    {
     "name": "stdout",
     "output_type": "stream",
     "text": [
      "PI is approximately 3.14285714285714279370154144999105483293533325195312\n",
      "PI is approximately 3.14285714285714279370154144999105483293533325195312\n"
     ]
    }
   ],
   "source": [
    "print(f\"PI is approximately {22/7:12.50f}\")\n",
    "pi = 22/7\n",
    "print(f\"PI is approximately {pi:12.50f}\")"
   ]
  }
 ],
 "metadata": {
  "kernelspec": {
   "display_name": "Python 3 (ipykernel)",
   "language": "python",
   "name": "python3"
  },
  "language_info": {
   "codemirror_mode": {
    "name": "ipython",
    "version": 3
   },
   "file_extension": ".py",
   "mimetype": "text/x-python",
   "name": "python",
   "nbconvert_exporter": "python",
   "pygments_lexer": "ipython3",
   "version": "3.11.5"
  }
 },
 "nbformat": 4,
 "nbformat_minor": 5
}
